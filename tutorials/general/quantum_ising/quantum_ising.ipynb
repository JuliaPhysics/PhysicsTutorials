{
 "cells": [
  {
   "cell_type": "markdown",
   "metadata": {},
   "source": [
    "# The Quantum Ising Chain\n",
    "### Carsten Bauer, Katharine Hyatt"
   ]
  },
  {
   "cell_type": "markdown",
   "metadata": {},
   "source": [
    "## Introduction"
   ]
  },
  {
   "cell_type": "markdown",
   "metadata": {},
   "source": [
    "In this tutorial we will consider a simple quantum mechanical system of spins sitting on a chain. Here, *quantum mechanical*, despite its pompous sound, simply means that our Hamiltonian matrix will have a non-trivial (i.e. non-diagonal) matrix structure.\n",
    "\n",
    "We will then ask a couple of basic questions,\n",
    "\n",
    "* What is the ground state of the system?\n",
    "* What happens if we turn on a transverse magnetic field?\n",
    "* Are there any phase transitions?\n",
    "\n",
    "To get answers to the questions, we will solve the time-independent Schrödinger equation\n",
    "\n",
    "$$H|\\psi\\rangle = E |\\psi\\rangle$$\n",
    "\n",
    "in Julia by means of exact diagonalization of the Hamiltonian."
   ]
  },
  {
   "cell_type": "markdown",
   "metadata": {},
   "source": [
    "## Transverse field quantum Ising chain"
   ]
  },
  {
   "cell_type": "markdown",
   "metadata": {},
   "source": [
    "Let's start out by defining our system. The Hamiltonian is given by"
   ]
  },
  {
   "cell_type": "markdown",
   "metadata": {},
   "source": [
    "$$\\mathcal{H} = -\\sum_{\\langle i, j \\rangle} \\hat{\\sigma}_i^z \\otimes \\hat{\\sigma}_j^z - h\\sum_i \\hat{\\sigma}_i^x$$"
   ]
  },
  {
   "cell_type": "markdown",
   "metadata": {},
   "source": [
    "Here, $\\hat{\\sigma}^z$ and $\\hat{\\sigma}^x$ are two of the three [Pauli matrices](https://en.wikipedia.org/wiki/Pauli_matrices), representing our quantum spins, $\\langle i, j \\rangle$ indicates that only neighboring spins talk to each other, and $h$ is the amplitude of the magnetic field.\n",
    "\n",
    "The idea behind this Hamiltonian is as follows:\n",
    "\n",
    "* The first term is diagonal in the $\\sigma^z$ eigenbasis. If there is no magnetic field, $h=0$, our quantum model reduces to the well-known classical [Ising model](https://en.wikipedia.org/wiki/Ising_model) (diagonal = trivial matrix structure -> classical). In this case, we have a **finite temperature phase transition** from a paramagnetic ($T>T_c$) phase, where the spins are **disordered by thermal fluctuations**, to a ferromagnetic phase ($T<T_c$), where they all point into the $z$ direction and, consequently, a ferromagnetic ground state at $T=0$.\n",
    "\n",
    "* Since this would be boring, we want to add quantum complications to this picture by making $H$ non-diagonal. To this end, we couple a transverse magnetic field $h$ to the $x$ component of our quantum spins in the second term. Now, since $\\sigma^z$ and $\\sigma^x$ do not commute, there is no common eigenbasis of the first and the second term and our Hamiltonian has a non-trivial matrix structure (It's quantum!). If there was *only the second term* the system would, again, be trivial, as it would be diagonal in the eigenbasis of $\\sigma^x$: the spins want to align to the magnetic field and point in $x$ direction.\n",
    "\n",
    "* We can see that if we have both terms we have a competition between the spins wanting to point in the $z$ direction (first term) and at the same time wanting to align to the magnetic field in $x$ direction. One says that the magnetic field term adds **quantum fluctuations** to the system.\n",
    "\n",
    "Let us explore what the effect of those quantum fluctuations on the ground state is!"
   ]
  },
  {
   "cell_type": "markdown",
   "metadata": {},
   "source": [
    "## Building the Hamiltonian matrix"
   ]
  },
  {
   "cell_type": "markdown",
   "metadata": {},
   "source": [
    "First we need our building blocks, the Pauli matrices. We will choose the $\\sigma^z$ eigenbasis as our computation basis in which they take the following form."
   ]
  },
  {
   "cell_type": "code",
   "execution_count": 42,
   "metadata": {},
   "outputs": [
    {
     "data": {
      "text/plain": [
       "2×2 Array{Int64,2}:\n",
       " 1   0\n",
       " 0  -1"
      ]
     },
     "execution_count": 42,
     "metadata": {},
     "output_type": "execute_result"
    }
   ],
   "source": [
    "σᶻ = [1 0; 0 -1] # \\sigma <TAB> followed by \\^z <TAB>"
   ]
  },
  {
   "cell_type": "code",
   "execution_count": 43,
   "metadata": {},
   "outputs": [
    {
     "data": {
      "text/plain": [
       "2×2 Array{Int64,2}:\n",
       " 0  1\n",
       " 1  0"
      ]
     },
     "execution_count": 43,
     "metadata": {},
     "output_type": "execute_result"
    }
   ],
   "source": [
    "σˣ = [0 1; 1 0]"
   ]
  },
  {
   "cell_type": "markdown",
   "metadata": {},
   "source": [
    "Labeling the eigensates of $\\sigma^z$ as $|\\downarrow\\rangle$ and $|\\uparrow\\rangle$ the effect of the pauli matrices on these basis states is:\n",
    "$$\\hat{\\sigma}^z\\left| \\downarrow \\right\\rangle = \\left| \\downarrow \\right\\rangle$$\n",
    "\n",
    "$$\\hat{\\sigma}^z\\left| \\uparrow \\right\\rangle = \\left| \\uparrow \\right\\rangle$$\n",
    "\n",
    "$$\\hat{\\sigma}^x\\left| \\downarrow \\right\\rangle = \\left| \\uparrow \\right\\rangle$$\n",
    "\n",
    "$$\\hat{\\sigma}^x\\left| \\uparrow \\right\\rangle = \\left| \\downarrow \\right\\rangle$$\n",
    "\n",
    "Clearly, $\\sigma^x$, since being purely off-diagonal, flips our $z$ spin states. In Julia:"
   ]
  },
  {
   "cell_type": "code",
   "execution_count": 46,
   "metadata": {},
   "outputs": [
    {
     "data": {
      "text/plain": [
       "2-element Array{Int64,1}:\n",
       " 0\n",
       " 1"
      ]
     },
     "execution_count": 46,
     "metadata": {},
     "output_type": "execute_result"
    }
   ],
   "source": [
    "σˣ * [1,0]"
   ]
  },
  {
   "cell_type": "code",
   "execution_count": 47,
   "metadata": {},
   "outputs": [
    {
     "data": {
      "text/plain": [
       "2-element Array{Int64,1}:\n",
       " 1\n",
       " 0"
      ]
     },
     "execution_count": 47,
     "metadata": {},
     "output_type": "execute_result"
    }
   ],
   "source": [
    "σˣ * [0,1]"
   ]
  },
  {
   "cell_type": "markdown",
   "metadata": {},
   "source": [
    "To build up our Hamiltonian matrix we need to take the kronecker product (tensor product) of spin matrices. Fortunately, Julia has a built-in function for this."
   ]
  },
  {
   "cell_type": "code",
   "execution_count": 48,
   "metadata": {},
   "outputs": [
    {
     "data": {
      "text/plain": [
       "4×4 Array{Int64,2}:\n",
       " 1   0   0  0\n",
       " 0  -1   0  0\n",
       " 0   0  -1  0\n",
       " 0   0   0  1"
      ]
     },
     "execution_count": 48,
     "metadata": {},
     "output_type": "execute_result"
    }
   ],
   "source": [
    "kron(σᶻ,σᶻ) # this is the matrix of the tensor product σᶻᵢ⊗ σᶻⱼ (⊗ = \\otimes <TAB>)"
   ]
  },
  {
   "cell_type": "markdown",
   "metadata": {},
   "source": [
    "Let's be fancy (cause we can!) and make this look a bit cooler."
   ]
  },
  {
   "cell_type": "code",
   "execution_count": 49,
   "metadata": {},
   "outputs": [
    {
     "data": {
      "text/plain": [
       "⊗ (generic function with 1 method)"
      ]
     },
     "execution_count": 49,
     "metadata": {},
     "output_type": "execute_result"
    }
   ],
   "source": [
    "⊗(x,y) = kron(x,y)"
   ]
  },
  {
   "cell_type": "code",
   "execution_count": 50,
   "metadata": {},
   "outputs": [
    {
     "data": {
      "text/plain": [
       "4×4 Array{Int64,2}:\n",
       " 1   0   0  0\n",
       " 0  -1   0  0\n",
       " 0   0  -1  0\n",
       " 0   0   0  1"
      ]
     },
     "execution_count": 50,
     "metadata": {},
     "output_type": "execute_result"
    }
   ],
   "source": [
    "σᶻ ⊗ σᶻ"
   ]
  },
  {
   "cell_type": "markdown",
   "metadata": {},
   "source": [
    "(How cool is that?)"
   ]
  },
  {
   "cell_type": "markdown",
   "metadata": {},
   "source": [
    "### Explicit 4-site Hamiltonian"
   ]
  },
  {
   "cell_type": "markdown",
   "metadata": {},
   "source": [
    "Imagine our spin chain consists of four sites. Writing out identity matrices (which were left implicit in $H$ above) explicitly, our Hamiltonian reads"
   ]
  },
  {
   "cell_type": "markdown",
   "metadata": {},
   "source": [
    "$$\\mathcal{H}_4 = -\\hat{\\sigma}_1^z \\hat{\\sigma}_2^z \\hat{I}_3 \\hat{I}_4 - \\hat{I}_1 \\hat{\\sigma}_2^z \\hat{\\sigma}_3^z \\hat{I}_4 - \\hat{I}_1 \\hat{I}_2 \\hat{\\sigma}_3^z \\hat{\\sigma}_4^z - \\hat{\\sigma}^z_1 \\hat{I}_2 \\hat{I}_3 \\hat{\\sigma}_4^z - h\\left(\\hat{\\sigma}_1^x\\hat{I}_2 \\hat{I}_3\\hat{I}_4 + \\hat{I}_1 \\hat{\\sigma}_2^x \\hat{I}_3\\hat{I}_4 +\\hat{I}_1 \\hat{I}_2 \\hat{\\sigma}_3^x\\hat{I}_4 + \\hat{I}_1 \\hat{I}_2 \\hat{I}_3 \\hat{\\sigma}_4^x\\right)$$"
   ]
  },
  {
   "cell_type": "markdown",
   "metadata": {},
   "source": [
    "Translating this expression to Julia is super easy. After defining the identity matrix"
   ]
  },
  {
   "cell_type": "code",
   "execution_count": 51,
   "metadata": {},
   "outputs": [
    {
     "data": {
      "text/plain": [
       "2×2 Array{Int64,2}:\n",
       " 1  0\n",
       " 0  1"
      ]
     },
     "execution_count": 51,
     "metadata": {},
     "output_type": "execute_result"
    }
   ],
   "source": [
    "id = [1 0; 0 1] # identity matrix"
   ]
  },
  {
   "cell_type": "markdown",
   "metadata": {},
   "source": [
    "we can simply write"
   ]
  },
  {
   "cell_type": "code",
   "execution_count": 52,
   "metadata": {},
   "outputs": [
    {
     "data": {
      "text/plain": [
       "16×16 Array{Int64,2}:\n",
       " -3   0  -2   0  -2   0   0   0  -2   0   0   0   0   0   0   0\n",
       "  0  -1   0  -2   0  -2   0   0   0  -2   0   0   0   0   0   0\n",
       " -2   0   1   0   0   0  -2   0   0   0  -2   0   0   0   0   0\n",
       "  0  -2   0  -1   0   0   0  -2   0   0   0  -2   0   0   0   0\n",
       " -2   0   0   0   1   0  -2   0   0   0   0   0  -2   0   0   0\n",
       "  0  -2   0   0   0   3   0  -2   0   0   0   0   0  -2   0   0\n",
       "  0   0  -2   0  -2   0   1   0   0   0   0   0   0   0  -2   0\n",
       "  0   0   0  -2   0  -2   0  -1   0   0   0   0   0   0   0  -2\n",
       " -2   0   0   0   0   0   0   0  -1   0  -2   0  -2   0   0   0\n",
       "  0  -2   0   0   0   0   0   0   0   1   0  -2   0  -2   0   0\n",
       "  0   0  -2   0   0   0   0   0  -2   0   3   0   0   0  -2   0\n",
       "  0   0   0  -2   0   0   0   0   0  -2   0   1   0   0   0  -2\n",
       "  0   0   0   0  -2   0   0   0  -2   0   0   0  -1   0  -2   0\n",
       "  0   0   0   0   0  -2   0   0   0  -2   0   0   0   1   0  -2\n",
       "  0   0   0   0   0   0  -2   0   0   0  -2   0  -2   0  -1   0\n",
       "  0   0   0   0   0   0   0  -2   0   0   0  -2   0  -2   0  -3"
      ]
     },
     "execution_count": 52,
     "metadata": {},
     "output_type": "execute_result"
    }
   ],
   "source": [
    "h = 2\n",
    "H = - σᶻ⊗σᶻ⊗id⊗id - id⊗σᶻ⊗σᶻ⊗id - id⊗id⊗σᶻ⊗σᶻ\n",
    "H -= h*(σˣ⊗id⊗id⊗id + id⊗σˣ⊗id⊗id + id⊗id⊗σˣ⊗id)"
   ]
  },
  {
   "cell_type": "markdown",
   "metadata": {},
   "source": [
    "There it is.\n",
    "\n",
    "Even though defining the Hamiltonian via tensor products is really cool, we certainly wouldn't want to write out all the terms for, say, 100 sites explicitly. Instead it's more efficient to construct a basis for the many-spin Hilbert space and calculate the matrix elements of the Hamiltonian iteratively."
   ]
  },
  {
   "cell_type": "markdown",
   "metadata": {},
   "source": [
    "### Basis representation\n",
    "\n",
    "Beyond a single spin, we have to think how to encode our basis states.\n",
    "\n",
    "We make the arbitrary choice:\n",
    "$0 = \\text{false} = \\downarrow$ and $1 = \\text{true} = \\uparrow$\n",
    "\n",
    "This way, our many-spin basis states have nice binary representations.\n",
    "\n",
    "Example: $|0010\\rangle = |\\text{false},\\text{false},\\text{true},\\text{false}\\rangle = |\\downarrow\\downarrow\\uparrow\\downarrow>$ is a basis state of a 4-site system\n",
    "\n",
    "We construct the full basis by binary counting."
   ]
  },
  {
   "cell_type": "code",
   "execution_count": 61,
   "metadata": {},
   "outputs": [
    {
     "data": {
      "text/plain": [
       "generate_basis"
      ]
     },
     "execution_count": 61,
     "metadata": {},
     "output_type": "execute_result"
    }
   ],
   "source": [
    "bit_rep(num::Integer, N::Integer) = BitArray(parse(Bool, i) for i in string(num, base=2, pad=N))\n",
    "\n",
    "\"\"\"\n",
    "    generate_basis(N::Integer) -> basis\n",
    "\n",
    "Generates a basis (`Vector{BitArray}`) spanning the Hilbert space of `N` spins.\n",
    "\"\"\"\n",
    "function generate_basis(N::Integer)\n",
    "    nstates = 2^N\n",
    "    basis = Vector{BitArray{1}}(undef, nstates)\n",
    "    for i in 0:nstates-1\n",
    "        basis[i+1] = bit_rep(i, N)\n",
    "    end\n",
    "    return basis\n",
    "end"
   ]
  },
  {
   "cell_type": "code",
   "execution_count": 65,
   "metadata": {},
   "outputs": [
    {
     "data": {
      "text/plain": [
       "16-element Array{Array{Int64,1},1}:\n",
       " [0, 0, 0, 0]\n",
       " [0, 0, 0, 1]\n",
       " [0, 0, 1, 0]\n",
       " [0, 0, 1, 1]\n",
       " [0, 1, 0, 0]\n",
       " [0, 1, 0, 1]\n",
       " [0, 1, 1, 0]\n",
       " [0, 1, 1, 1]\n",
       " [1, 0, 0, 0]\n",
       " [1, 0, 0, 1]\n",
       " [1, 0, 1, 0]\n",
       " [1, 0, 1, 1]\n",
       " [1, 1, 0, 0]\n",
       " [1, 1, 0, 1]\n",
       " [1, 1, 1, 0]\n",
       " [1, 1, 1, 1]"
      ]
     },
     "execution_count": 65,
     "metadata": {},
     "output_type": "execute_result"
    }
   ],
   "source": [
    "generate_basis(4) .|> x->convert(Vector{Int}, x)"
   ]
  },
  {
   "cell_type": "markdown",
   "metadata": {},
   "source": [
    "### Iterative construction of $H$"
   ]
  },
  {
   "cell_type": "markdown",
   "metadata": {},
   "source": [
    "Equipped with our basis, we can construct the matrix elements of our Hamiltonian, $\\langle \\psi_1 | H | \\psi_2 \\rangle$, by applying $H$ to our basis states and utilizing their orthonormality, $\\langle \\psi_i | \\psi_j \\rangle = \\sigma_{i,j}$."
   ]
  },
  {
   "cell_type": "code",
   "execution_count": 70,
   "metadata": {},
   "outputs": [
    {
     "data": {
      "text/plain": [
       "TransverseFieldIsing (generic function with 3 methods)"
      ]
     },
     "execution_count": 70,
     "metadata": {},
     "output_type": "execute_result"
    }
   ],
   "source": [
    "using LinearAlgebra\n",
    "\n",
    "function TransverseFieldIsing(; N::Integer, h::T=0) where T<:Real\n",
    "    basis = generate_basis(N)\n",
    "    H = zeros(T, 2^N, 2^N)\n",
    "    bonds = zip(collect(1:N-1), collect(2:N))\n",
    "    for (i, bstate) in enumerate(basis)\n",
    "        # diagonal part\n",
    "        diag_term = 0.\n",
    "        for (site_i, site_j) in bonds\n",
    "            diag_term -= !xor(bstate[site_i], bstate[site_j]) # xor = are they different\n",
    "        end\n",
    "        H[i, i] = diag_term\n",
    "        \n",
    "        # off diagonal part\n",
    "        for site in 1:N\n",
    "            new_bstate = copy(bstate)\n",
    "            # flip the bit on the site (that's what σˣ does)\n",
    "            new_bstate[site] ⊻= true\n",
    "            new_i = findfirst(isequal(new_bstate), basis)\n",
    "            H[i, new_i] = -h\n",
    "        end\n",
    "    end\n",
    "    return Hermitian(H), basis\n",
    "end"
   ]
  },
  {
   "cell_type": "code",
   "execution_count": 149,
   "metadata": {},
   "outputs": [
    {
     "data": {
      "text/plain": [
       "16×16 Hermitian{Int64,Array{Int64,2}}:\n",
       " -3  -1  -1   0  -1   0   0   0  -1   0   0   0   0   0   0   0\n",
       " -1  -2   0  -1   0  -1   0   0   0  -1   0   0   0   0   0   0\n",
       " -1   0  -1  -1   0   0  -1   0   0   0  -1   0   0   0   0   0\n",
       "  0  -1  -1  -2   0   0   0  -1   0   0   0  -1   0   0   0   0\n",
       " -1   0   0   0  -1  -1  -1   0   0   0   0   0  -1   0   0   0\n",
       "  0  -1   0   0  -1   0   0  -1   0   0   0   0   0  -1   0   0\n",
       "  0   0  -1   0  -1   0  -1  -1   0   0   0   0   0   0  -1   0\n",
       "  0   0   0  -1   0  -1  -1  -2   0   0   0   0   0   0   0  -1\n",
       " -1   0   0   0   0   0   0   0  -2  -1  -1   0  -1   0   0   0\n",
       "  0  -1   0   0   0   0   0   0  -1  -1   0  -1   0  -1   0   0\n",
       "  0   0  -1   0   0   0   0   0  -1   0   0  -1   0   0  -1   0\n",
       "  0   0   0  -1   0   0   0   0   0  -1  -1  -1   0   0   0  -1\n",
       "  0   0   0   0  -1   0   0   0  -1   0   0   0  -2  -1  -1   0\n",
       "  0   0   0   0   0  -1   0   0   0  -1   0   0  -1  -1   0  -1\n",
       "  0   0   0   0   0   0  -1   0   0   0  -1   0  -1   0  -2  -1\n",
       "  0   0   0   0   0   0   0  -1   0   0   0  -1   0  -1  -1  -3"
      ]
     },
     "execution_count": 149,
     "metadata": {},
     "output_type": "execute_result"
    }
   ],
   "source": [
    "H, basis = TransverseFieldIsing(N=4, h=1)\n",
    "H"
   ]
  },
  {
   "cell_type": "markdown",
   "metadata": {},
   "source": [
    "Note that we tag the Hamiltonian as hermitian in `TransverseFieldIsing` through its type."
   ]
  },
  {
   "cell_type": "code",
   "execution_count": 152,
   "metadata": {},
   "outputs": [
    {
     "data": {
      "text/plain": [
       "Hermitian{Int64,Array{Int64,2}}"
      ]
     },
     "execution_count": 152,
     "metadata": {},
     "output_type": "execute_result"
    }
   ],
   "source": [
    "typeof(H)"
   ]
  },
  {
   "cell_type": "markdown",
   "metadata": {},
   "source": [
    "### Full exact diagonalization"
   ]
  },
  {
   "cell_type": "markdown",
   "metadata": {},
   "source": [
    "Alright. Let's solve the Schrödinger equation by diagonalizing $H$ for a system with $N=8$ and $h=1$."
   ]
  },
  {
   "cell_type": "code",
   "execution_count": 154,
   "metadata": {},
   "outputs": [
    {
     "data": {
      "text/plain": [
       "Eigen{Float64,Float64,Array{Float64,2},Array{Float64,1}}\n",
       "eigenvalues:\n",
       "256-element Array{Float64,1}:\n",
       " -11.942570746604087 \n",
       " -10.847447176662078 \n",
       " -10.598240862393025 \n",
       " -10.26855224563388  \n",
       "  -9.921019009586722 \n",
       "  -9.596781441951794 \n",
       "  -9.503117292451002 \n",
       "  -9.322258155472806 \n",
       "  -9.173428675691873 \n",
       "  -9.114931375564518 \n",
       "  -8.986194212359717 \n",
       "  -8.92422236142283  \n",
       "  -8.825895439644704 \n",
       "   ⋮                 \n",
       "   1.9242223614228289\n",
       "   1.9861942123597043\n",
       "   2.1149313755645065\n",
       "   2.1734286756918615\n",
       "   2.3222581554727975\n",
       "   2.503117292451003 \n",
       "   2.596781441951791 \n",
       "   2.921019009586721 \n",
       "   3.2685522456338845\n",
       "   3.5982408623930255\n",
       "   3.8474471766620644\n",
       "   4.942570746604084 \n",
       "eigenvectors:\n",
       "256×256 Array{Float64,2}:\n",
       " -0.14882     0.301595    2.70617e-16  …   0.0          -0.0253217\n",
       " -0.111622    0.196129    0.060984        -0.00999493    0.0316533\n",
       " -0.0872134   0.138552    0.0634853        0.0203055     0.0405503\n",
       " -0.10699     0.137069    0.143095        -0.00649975   -0.0308588\n",
       " -0.0847267   0.125493    0.0501019       -0.0256903     0.0393586\n",
       " -0.0673626   0.0788762   0.0806609    …   0.0486497    -0.0522599\n",
       " -0.0809999   0.0781445   0.115095         0.00591065   -0.0383102\n",
       " -0.105875    0.0713607   0.211294        -0.0145374     0.0310647\n",
       " -0.0842146   0.120012    0.0190489        0.0286619     0.0396407\n",
       " -0.0639637   0.0727705   0.0506772       -0.0200931    -0.0487126\n",
       " -0.0522599   0.0486497   0.0527064    …  -0.0788762    -0.0673626\n",
       " -0.0651795   0.0401529   0.10547          0.0454204     0.0505935\n",
       " -0.0780217   0.0608192   0.0692396       -0.00285061   -0.0373907\n",
       "  ⋮                                    ⋱                 ⋮        \n",
       " -0.0651795  -0.0401529  -0.10547         -0.0454204     0.0505935\n",
       " -0.0522599  -0.0486497  -0.0527064    …   0.0788762    -0.0673626\n",
       " -0.0639637  -0.0727705  -0.0506772        0.0200931    -0.0487126\n",
       " -0.0842146  -0.120012   -0.0190489       -0.0286619     0.0396407\n",
       " -0.105875   -0.0713607  -0.211294         0.0145374     0.0310647\n",
       " -0.0809999  -0.0781445  -0.115095        -0.00591065   -0.0383102\n",
       " -0.0673626  -0.0788762  -0.0806609    …  -0.0486497    -0.0522599\n",
       " -0.0847267  -0.125493   -0.0501019        0.0256903     0.0393586\n",
       " -0.10699    -0.137069   -0.143095         0.00649975   -0.0308588\n",
       " -0.0872134  -0.138552   -0.0634853       -0.0203055     0.0405503\n",
       " -0.111622   -0.196129   -0.060984         0.00999493    0.0316533\n",
       " -0.14882    -0.301595   -4.77523e-16  …  -6.44309e-18  -0.0253217"
      ]
     },
     "execution_count": 154,
     "metadata": {},
     "output_type": "execute_result"
    }
   ],
   "source": [
    "H, basis = TransverseFieldIsing(N=8, h=1)\n",
    "vals, vecs = eigen(H)"
   ]
  },
  {
   "cell_type": "markdown",
   "metadata": {},
   "source": [
    "That's it. Here is our groundstate. "
   ]
  },
  {
   "cell_type": "code",
   "execution_count": 155,
   "metadata": {},
   "outputs": [],
   "source": [
    "groundstate = vecs[:,1];"
   ]
  },
  {
   "cell_type": "markdown",
   "metadata": {},
   "source": [
    "The absolute square of this wave function is the probability of finding the system in a particular basis state."
   ]
  },
  {
   "cell_type": "code",
   "execution_count": 156,
   "metadata": {},
   "outputs": [
    {
     "data": {
      "text/plain": [
       "256-element Array{Float64,1}:\n",
       " 0.022147421001740514 \n",
       " 0.012459494900154439 \n",
       " 0.007606182658957387 \n",
       " 0.011446873256251858 \n",
       " 0.007178621211962501 \n",
       " 0.00453772614404195  \n",
       " 0.006560990267446685 \n",
       " 0.011209525890733693 \n",
       " 0.0070921061191227845\n",
       " 0.004091357184342536 \n",
       " 0.0027310968733306466\n",
       " 0.00424836707156307  \n",
       " 0.006087381560493377 \n",
       " ⋮                    \n",
       " 0.004248367071563103 \n",
       " 0.0027310968733307295\n",
       " 0.004091357184342661 \n",
       " 0.007092106119123002 \n",
       " 0.011209525890733717 \n",
       " 0.006560990267446851 \n",
       " 0.0045377261440421035\n",
       " 0.007178621211962706 \n",
       " 0.011446873256251933 \n",
       " 0.007606182658957586 \n",
       " 0.012459494900154829 \n",
       " 0.02214742100174061  "
      ]
     },
     "execution_count": 156,
     "metadata": {},
     "output_type": "execute_result"
    }
   ],
   "source": [
    "abs2.(groundstate)"
   ]
  },
  {
   "cell_type": "markdown",
   "metadata": {},
   "source": [
    "It's instructive to look at the extremal cases $h=0$ and $h>>1$."
   ]
  },
  {
   "cell_type": "code",
   "execution_count": 158,
   "metadata": {},
   "outputs": [
    {
     "data": {
      "text/plain": [
       "256-element Array{Float64,1}:\n",
       " 1.0\n",
       " 0.0\n",
       " 0.0\n",
       " 0.0\n",
       " 0.0\n",
       " 0.0\n",
       " 0.0\n",
       " 0.0\n",
       " 0.0\n",
       " 0.0\n",
       " 0.0\n",
       " 0.0\n",
       " 0.0\n",
       " ⋮  \n",
       " 0.0\n",
       " 0.0\n",
       " 0.0\n",
       " 0.0\n",
       " 0.0\n",
       " 0.0\n",
       " 0.0\n",
       " 0.0\n",
       " 0.0\n",
       " 0.0\n",
       " 0.0\n",
       " 0.0"
      ]
     },
     "execution_count": 158,
     "metadata": {},
     "output_type": "execute_result"
    }
   ],
   "source": [
    "H, basis = TransverseFieldIsing(N=8, h=0)\n",
    "vals, vecs = eigen(H)\n",
    "abs2.(vecs[:,1])"
   ]
  },
  {
   "cell_type": "markdown",
   "metadata": {},
   "source": [
    "As we can see, for $h=0$ the system is (with probability one) in the first basis state, where all spins point in $-z$ direction."
   ]
  },
  {
   "cell_type": "code",
   "execution_count": 160,
   "metadata": {},
   "outputs": [
    {
     "data": {
      "text/plain": [
       "8-element BitArray{1}:\n",
       " false\n",
       " false\n",
       " false\n",
       " false\n",
       " false\n",
       " false\n",
       " false\n",
       " false"
      ]
     },
     "execution_count": 160,
     "metadata": {},
     "output_type": "execute_result"
    }
   ],
   "source": [
    "basis[1]"
   ]
  },
  {
   "cell_type": "markdown",
   "metadata": {},
   "source": [
    "On the other hand, for $h=100$, the system occupies all basis states with approximately equal probability (maximal superposition) - corresponding to eigenstates of $\\sigma^x$, i.e. alignment to the magnetic field."
   ]
  },
  {
   "cell_type": "code",
   "execution_count": 161,
   "metadata": {},
   "outputs": [
    {
     "data": {
      "text/plain": [
       "256-element Array{Float64,1}:\n",
       " 0.003975198684172922 \n",
       " 0.003955347535743809 \n",
       " 0.003935620178145606 \n",
       " 0.003955322752903304 \n",
       " 0.003935595580712048 \n",
       " 0.003915991149634061 \n",
       " 0.0039355709214763486\n",
       " 0.003955322690946298 \n",
       " 0.003935595519257762 \n",
       " 0.003915942261353096 \n",
       " 0.003896460021706851 \n",
       " 0.003915966674689176 \n",
       " 0.00393554626274301  \n",
       " ⋮                    \n",
       " 0.0039159666746892   \n",
       " 0.0038964600217069258\n",
       " 0.003915942261353158 \n",
       " 0.003935595519257843 \n",
       " 0.003955322690946323 \n",
       " 0.003935570921476435 \n",
       " 0.003915991149634129 \n",
       " 0.0039355955807121555\n",
       " 0.00395532275290336  \n",
       " 0.0039356201781457255\n",
       " 0.003955347535743876 \n",
       " 0.003975198684172948 "
      ]
     },
     "execution_count": 161,
     "metadata": {},
     "output_type": "execute_result"
    }
   ],
   "source": [
    "H, basis = TransverseFieldIsing(N=8, h=100)\n",
    "vals, vecs = eigen(H)\n",
    "abs2.(vecs[:,1])"
   ]
  },
  {
   "cell_type": "markdown",
   "metadata": {},
   "source": [
    "# Magnetization"
   ]
  },
  {
   "cell_type": "markdown",
   "metadata": {},
   "source": [
    "Let's vary $h$ and see what happens. Since we're looking at quantum magnets we will compute the overall magnetization, defined by\n",
    "\n",
    "$$M = \\frac{1}{N}\\sum_{i} \\sigma^z_i$$\n",
    "where $\\sigma^z_i$ is the value of the spin on site $i$ when we measure."
   ]
  },
  {
   "cell_type": "code",
   "execution_count": 162,
   "metadata": {},
   "outputs": [
    {
     "data": {
      "text/plain": [
       "magnetization (generic function with 1 method)"
      ]
     },
     "execution_count": 162,
     "metadata": {},
     "output_type": "execute_result"
    }
   ],
   "source": [
    "function magnetization(state, basis)\n",
    "    M = 0.\n",
    "    for (i, bstate) in enumerate(basis)\n",
    "        bstate_M = 0.\n",
    "        for spin in bstate\n",
    "            bstate_M += (state[i]^2 * (spin ? 1 : -1))/length(bstate)\n",
    "        end\n",
    "        @assert abs(bstate_M) <= 1\n",
    "        M += abs(bstate_M)\n",
    "    end\n",
    "    return M\n",
    "end"
   ]
  },
  {
   "cell_type": "code",
   "execution_count": 163,
   "metadata": {},
   "outputs": [
    {
     "data": {
      "text/plain": [
       "0.3661368654542446"
      ]
     },
     "execution_count": 163,
     "metadata": {},
     "output_type": "execute_result"
    }
   ],
   "source": [
    "magnetization(groundstate, basis)"
   ]
  },
  {
   "cell_type": "markdown",
   "metadata": {},
   "source": [
    "Now we would like to examine the effects of $h$. We will:\n",
    "\n",
    "1. Find a variety of $h$ to look at.\n",
    "2. For each, compute the lowest energy eigenvector (groundstate) of the corresponding Hamiltonian.\n",
    "3. For each groundstate, compute the overall magnetization $M$.\n",
    "4. Plot $M(h)$ for a variety of system sizes, and see if anything cool happens."
   ]
  },
  {
   "cell_type": "code",
   "execution_count": 164,
   "metadata": {},
   "outputs": [
    {
     "name": "stdout",
     "output_type": "stream",
     "text": [
      "[0.9996, 0.996931, 0.977618, 0.87876, 0.692449, 0.574108, 0.526891, 0.509676, 0.503478, 0.50125]\n",
      "[0.999845, 0.998738, 0.988945, 0.905212, 0.673904, 0.555449, 0.518677, 0.506546, 0.502331, 0.500835]\n",
      "[0.999875, 0.999023, 0.991945, 0.917586, 0.591575, 0.437996, 0.395981, 0.382355, 0.377621, 0.375939]\n",
      "[0.99989, 0.999146, 0.993221, 0.933149, 0.576326, 0.427273, 0.391981, 0.380908, 0.3771, 0.375752]\n",
      "[0.9999, 0.999224, 0.993893, 0.942106, 0.531264, 0.366666, 0.330129, 0.318646, 0.314686, 0.313283]\n",
      "[0.999907, 0.99928, 0.994341, 0.948502, 0.518565, 0.359841, 0.327708, 0.31778, 0.314375, 0.313171]\n",
      "[0.999912, 0.999321, 0.994672, 0.952577, 0.487899, 0.321452, 0.288917, 0.278821, 0.275351, 0.274123]\n",
      "[0.999917, 0.999354, 0.994927, 0.955496, 0.47711, 0.316678, 0.287257, 0.278231, 0.275139, 0.274047]\n",
      "[0.99992, 0.999379, 0.995132, 0.957622, 0.454014, 0.289611, 0.260052, 0.250942, 0.247816, 0.24671]\n"
     ]
    },
    {
     "data": {
      "image/svg+xml": [
       "<?xml version=\"1.0\" encoding=\"utf-8\"?>\n",
       "<svg xmlns=\"http://www.w3.org/2000/svg\" xmlns:xlink=\"http://www.w3.org/1999/xlink\" width=\"600\" height=\"400\" viewBox=\"0 0 2400 1600\">\n",
       "<defs>\n",
       "  <clipPath id=\"clip0900\">\n",
       "    <rect x=\"0\" y=\"0\" width=\"2400\" height=\"1600\"/>\n",
       "  </clipPath>\n",
       "</defs>\n",
       "<polygon clip-path=\"url(#clip0900)\" points=\"\n",
       "0,1600 2400,1600 2400,0 0,0 \n",
       "  \" fill=\"#ffffff\" fill-rule=\"evenodd\" fill-opacity=\"1\"/>\n",
       "<defs>\n",
       "  <clipPath id=\"clip0901\">\n",
       "    <rect x=\"480\" y=\"0\" width=\"1681\" height=\"1600\"/>\n",
       "  </clipPath>\n",
       "</defs>\n",
       "<polygon clip-path=\"url(#clip0900)\" points=\"\n",
       "215.754,1425.62 2352.76,1425.62 2352.76,47.2441 215.754,47.2441 \n",
       "  \" fill=\"#ffffff\" fill-rule=\"evenodd\" fill-opacity=\"1\"/>\n",
       "<defs>\n",
       "  <clipPath id=\"clip0902\">\n",
       "    <rect x=\"215\" y=\"47\" width=\"2138\" height=\"1379\"/>\n",
       "  </clipPath>\n",
       "</defs>\n",
       "<polyline clip-path=\"url(#clip0902)\" style=\"stroke:#000000; stroke-width:2; stroke-opacity:0.1; fill:none\" points=\"\n",
       "  276.235,1425.62 276.235,47.2441 \n",
       "  \"/>\n",
       "<polyline clip-path=\"url(#clip0902)\" style=\"stroke:#000000; stroke-width:2; stroke-opacity:0.1; fill:none\" points=\"\n",
       "  780.245,1425.62 780.245,47.2441 \n",
       "  \"/>\n",
       "<polyline clip-path=\"url(#clip0902)\" style=\"stroke:#000000; stroke-width:2; stroke-opacity:0.1; fill:none\" points=\"\n",
       "  1284.25,1425.62 1284.25,47.2441 \n",
       "  \"/>\n",
       "<polyline clip-path=\"url(#clip0902)\" style=\"stroke:#000000; stroke-width:2; stroke-opacity:0.1; fill:none\" points=\"\n",
       "  1788.26,1425.62 1788.26,47.2441 \n",
       "  \"/>\n",
       "<polyline clip-path=\"url(#clip0902)\" style=\"stroke:#000000; stroke-width:2; stroke-opacity:0.1; fill:none\" points=\"\n",
       "  2292.27,1425.62 2292.27,47.2441 \n",
       "  \"/>\n",
       "<polyline clip-path=\"url(#clip0902)\" style=\"stroke:#000000; stroke-width:2; stroke-opacity:0.1; fill:none\" points=\"\n",
       "  215.754,1121.97 2352.76,1121.97 \n",
       "  \"/>\n",
       "<polyline clip-path=\"url(#clip0902)\" style=\"stroke:#000000; stroke-width:2; stroke-opacity:0.1; fill:none\" points=\"\n",
       "  215.754,776.683 2352.76,776.683 \n",
       "  \"/>\n",
       "<polyline clip-path=\"url(#clip0902)\" style=\"stroke:#000000; stroke-width:2; stroke-opacity:0.1; fill:none\" points=\"\n",
       "  215.754,431.4 2352.76,431.4 \n",
       "  \"/>\n",
       "<polyline clip-path=\"url(#clip0902)\" style=\"stroke:#000000; stroke-width:2; stroke-opacity:0.1; fill:none\" points=\"\n",
       "  215.754,86.1165 2352.76,86.1165 \n",
       "  \"/>\n",
       "<polyline clip-path=\"url(#clip0900)\" style=\"stroke:#000000; stroke-width:4; stroke-opacity:1; fill:none\" points=\"\n",
       "  215.754,1425.62 2352.76,1425.62 \n",
       "  \"/>\n",
       "<polyline clip-path=\"url(#clip0900)\" style=\"stroke:#000000; stroke-width:4; stroke-opacity:1; fill:none\" points=\"\n",
       "  215.754,1425.62 215.754,47.2441 \n",
       "  \"/>\n",
       "<polyline clip-path=\"url(#clip0900)\" style=\"stroke:#000000; stroke-width:4; stroke-opacity:1; fill:none\" points=\"\n",
       "  276.235,1425.62 276.235,1404.94 \n",
       "  \"/>\n",
       "<polyline clip-path=\"url(#clip0900)\" style=\"stroke:#000000; stroke-width:4; stroke-opacity:1; fill:none\" points=\"\n",
       "  780.245,1425.62 780.245,1404.94 \n",
       "  \"/>\n",
       "<polyline clip-path=\"url(#clip0900)\" style=\"stroke:#000000; stroke-width:4; stroke-opacity:1; fill:none\" points=\"\n",
       "  1284.25,1425.62 1284.25,1404.94 \n",
       "  \"/>\n",
       "<polyline clip-path=\"url(#clip0900)\" style=\"stroke:#000000; stroke-width:4; stroke-opacity:1; fill:none\" points=\"\n",
       "  1788.26,1425.62 1788.26,1404.94 \n",
       "  \"/>\n",
       "<polyline clip-path=\"url(#clip0900)\" style=\"stroke:#000000; stroke-width:4; stroke-opacity:1; fill:none\" points=\"\n",
       "  2292.27,1425.62 2292.27,1404.94 \n",
       "  \"/>\n",
       "<polyline clip-path=\"url(#clip0900)\" style=\"stroke:#000000; stroke-width:4; stroke-opacity:1; fill:none\" points=\"\n",
       "  215.754,1121.97 247.809,1121.97 \n",
       "  \"/>\n",
       "<polyline clip-path=\"url(#clip0900)\" style=\"stroke:#000000; stroke-width:4; stroke-opacity:1; fill:none\" points=\"\n",
       "  215.754,776.683 247.809,776.683 \n",
       "  \"/>\n",
       "<polyline clip-path=\"url(#clip0900)\" style=\"stroke:#000000; stroke-width:4; stroke-opacity:1; fill:none\" points=\"\n",
       "  215.754,431.4 247.809,431.4 \n",
       "  \"/>\n",
       "<polyline clip-path=\"url(#clip0900)\" style=\"stroke:#000000; stroke-width:4; stroke-opacity:1; fill:none\" points=\"\n",
       "  215.754,86.1165 247.809,86.1165 \n",
       "  \"/>\n",
       "<g clip-path=\"url(#clip0900)\">\n",
       "<text style=\"fill:#000000; fill-opacity:1; font-family:Arial,Helvetica Neue,Helvetica,sans-serif; font-size:48px; text-anchor:start;\" transform=\"rotate(0, 221.745, 1500.63)\" x=\"221.745\" y=\"1500.63\">10</text>\n",
       "</g>\n",
       "<g clip-path=\"url(#clip0900)\">\n",
       "<text style=\"fill:#000000; fill-opacity:1; font-family:Arial,Helvetica Neue,Helvetica,sans-serif; font-size:38px; text-anchor:start;\" transform=\"rotate(0, 275.27, 1473.22)\" x=\"275.27\" y=\"1473.22\">-</text>\n",
       "</g>\n",
       "<g clip-path=\"url(#clip0900)\">\n",
       "<text style=\"fill:#000000; fill-opacity:1; font-family:Arial,Helvetica Neue,Helvetica,sans-serif; font-size:38px; text-anchor:start;\" transform=\"rotate(0, 298.109, 1473.22)\" x=\"298.109\" y=\"1473.22\">2 </text>\n",
       "</g>\n",
       "<g clip-path=\"url(#clip0900)\">\n",
       "<text style=\"fill:#000000; fill-opacity:1; font-family:Arial,Helvetica Neue,Helvetica,sans-serif; font-size:48px; text-anchor:start;\" transform=\"rotate(0, 725.755, 1500.63)\" x=\"725.755\" y=\"1500.63\">10</text>\n",
       "</g>\n",
       "<g clip-path=\"url(#clip0900)\">\n",
       "<text style=\"fill:#000000; fill-opacity:1; font-family:Arial,Helvetica Neue,Helvetica,sans-serif; font-size:38px; text-anchor:start;\" transform=\"rotate(0, 779.279, 1473.22)\" x=\"779.279\" y=\"1473.22\">-</text>\n",
       "</g>\n",
       "<g clip-path=\"url(#clip0900)\">\n",
       "<text style=\"fill:#000000; fill-opacity:1; font-family:Arial,Helvetica Neue,Helvetica,sans-serif; font-size:38px; text-anchor:start;\" transform=\"rotate(0, 802.119, 1473.22)\" x=\"802.119\" y=\"1473.22\">1 </text>\n",
       "</g>\n",
       "<g clip-path=\"url(#clip0900)\">\n",
       "<text style=\"fill:#000000; fill-opacity:1; font-family:Arial,Helvetica Neue,Helvetica,sans-serif; font-size:48px; text-anchor:start;\" transform=\"rotate(0, 1241.18, 1500.63)\" x=\"1241.18\" y=\"1500.63\">10</text>\n",
       "</g>\n",
       "<g clip-path=\"url(#clip0900)\">\n",
       "<text style=\"fill:#000000; fill-opacity:1; font-family:Arial,Helvetica Neue,Helvetica,sans-serif; font-size:38px; text-anchor:start;\" transform=\"rotate(0, 1294.71, 1473.22)\" x=\"1294.71\" y=\"1473.22\">0 </text>\n",
       "</g>\n",
       "<g clip-path=\"url(#clip0900)\">\n",
       "<text style=\"fill:#000000; fill-opacity:1; font-family:Arial,Helvetica Neue,Helvetica,sans-serif; font-size:48px; text-anchor:start;\" transform=\"rotate(0, 1745.19, 1500.63)\" x=\"1745.19\" y=\"1500.63\">10</text>\n",
       "</g>\n",
       "<g clip-path=\"url(#clip0900)\">\n",
       "<text style=\"fill:#000000; fill-opacity:1; font-family:Arial,Helvetica Neue,Helvetica,sans-serif; font-size:38px; text-anchor:start;\" transform=\"rotate(0, 1798.72, 1473.22)\" x=\"1798.72\" y=\"1473.22\">1 </text>\n",
       "</g>\n",
       "<g clip-path=\"url(#clip0900)\">\n",
       "<text style=\"fill:#000000; fill-opacity:1; font-family:Arial,Helvetica Neue,Helvetica,sans-serif; font-size:48px; text-anchor:start;\" transform=\"rotate(0, 2249.2, 1500.63)\" x=\"2249.2\" y=\"1500.63\">10</text>\n",
       "</g>\n",
       "<g clip-path=\"url(#clip0900)\">\n",
       "<text style=\"fill:#000000; fill-opacity:1; font-family:Arial,Helvetica Neue,Helvetica,sans-serif; font-size:38px; text-anchor:start;\" transform=\"rotate(0, 2302.73, 1473.22)\" x=\"2302.73\" y=\"1473.22\">2 </text>\n",
       "</g>\n",
       "<g clip-path=\"url(#clip0900)\">\n",
       "<text style=\"fill:#000000; fill-opacity:1; font-family:Arial,Helvetica Neue,Helvetica,sans-serif; font-size:48px; text-anchor:end;\" transform=\"rotate(0, 191.754, 1139.47)\" x=\"191.754\" y=\"1139.47\">0.4</text>\n",
       "</g>\n",
       "<g clip-path=\"url(#clip0900)\">\n",
       "<text style=\"fill:#000000; fill-opacity:1; font-family:Arial,Helvetica Neue,Helvetica,sans-serif; font-size:48px; text-anchor:end;\" transform=\"rotate(0, 191.754, 794.183)\" x=\"191.754\" y=\"794.183\">0.6</text>\n",
       "</g>\n",
       "<g clip-path=\"url(#clip0900)\">\n",
       "<text style=\"fill:#000000; fill-opacity:1; font-family:Arial,Helvetica Neue,Helvetica,sans-serif; font-size:48px; text-anchor:end;\" transform=\"rotate(0, 191.754, 448.9)\" x=\"191.754\" y=\"448.9\">0.8</text>\n",
       "</g>\n",
       "<g clip-path=\"url(#clip0900)\">\n",
       "<text style=\"fill:#000000; fill-opacity:1; font-family:Arial,Helvetica Neue,Helvetica,sans-serif; font-size:48px; text-anchor:end;\" transform=\"rotate(0, 191.754, 103.617)\" x=\"191.754\" y=\"103.617\">1.0</text>\n",
       "</g>\n",
       "<g clip-path=\"url(#clip0900)\">\n",
       "<text style=\"fill:#000000; fill-opacity:1; font-family:Arial,Helvetica Neue,Helvetica,sans-serif; font-size:66px; text-anchor:middle;\" transform=\"rotate(0, 1284.25, 1559.48)\" x=\"1284.25\" y=\"1559.48\">h</text>\n",
       "</g>\n",
       "<g clip-path=\"url(#clip0900)\">\n",
       "<text style=\"fill:#000000; fill-opacity:1; font-family:Arial,Helvetica Neue,Helvetica,sans-serif; font-size:66px; text-anchor:middle;\" transform=\"rotate(-90, 89.2861, 736.431)\" x=\"89.2861\" y=\"736.431\">M(h)</text>\n",
       "</g>\n",
       "<polyline clip-path=\"url(#clip0902)\" style=\"stroke:#009af9; stroke-width:4; stroke-opacity:1; fill:none\" points=\"\n",
       "  276.235,86.8063 500.24,91.4142 724.244,124.756 948.248,295.427 1172.25,617.078 1396.26,821.384 1620.26,902.899 1844.27,932.619 2068.27,943.32 2292.27,947.167 \n",
       "  \n",
       "  \"/>\n",
       "<circle clip-path=\"url(#clip0902)\" style=\"fill:#000000; stroke:none; fill-opacity:1\" cx=\"276.235\" cy=\"86.8063\" r=\"18\"/>\n",
       "<circle clip-path=\"url(#clip0902)\" style=\"fill:#009af9; stroke:none; fill-opacity:1\" cx=\"276.235\" cy=\"86.8063\" r=\"14\"/>\n",
       "<circle clip-path=\"url(#clip0902)\" style=\"fill:#000000; stroke:none; fill-opacity:1\" cx=\"500.24\" cy=\"91.4142\" r=\"18\"/>\n",
       "<circle clip-path=\"url(#clip0902)\" style=\"fill:#009af9; stroke:none; fill-opacity:1\" cx=\"500.24\" cy=\"91.4142\" r=\"14\"/>\n",
       "<circle clip-path=\"url(#clip0902)\" style=\"fill:#000000; stroke:none; fill-opacity:1\" cx=\"724.244\" cy=\"124.756\" r=\"18\"/>\n",
       "<circle clip-path=\"url(#clip0902)\" style=\"fill:#009af9; stroke:none; fill-opacity:1\" cx=\"724.244\" cy=\"124.756\" r=\"14\"/>\n",
       "<circle clip-path=\"url(#clip0902)\" style=\"fill:#000000; stroke:none; fill-opacity:1\" cx=\"948.248\" cy=\"295.427\" r=\"18\"/>\n",
       "<circle clip-path=\"url(#clip0902)\" style=\"fill:#009af9; stroke:none; fill-opacity:1\" cx=\"948.248\" cy=\"295.427\" r=\"14\"/>\n",
       "<circle clip-path=\"url(#clip0902)\" style=\"fill:#000000; stroke:none; fill-opacity:1\" cx=\"1172.25\" cy=\"617.078\" r=\"18\"/>\n",
       "<circle clip-path=\"url(#clip0902)\" style=\"fill:#009af9; stroke:none; fill-opacity:1\" cx=\"1172.25\" cy=\"617.078\" r=\"14\"/>\n",
       "<circle clip-path=\"url(#clip0902)\" style=\"fill:#000000; stroke:none; fill-opacity:1\" cx=\"1396.26\" cy=\"821.384\" r=\"18\"/>\n",
       "<circle clip-path=\"url(#clip0902)\" style=\"fill:#009af9; stroke:none; fill-opacity:1\" cx=\"1396.26\" cy=\"821.384\" r=\"14\"/>\n",
       "<circle clip-path=\"url(#clip0902)\" style=\"fill:#000000; stroke:none; fill-opacity:1\" cx=\"1620.26\" cy=\"902.899\" r=\"18\"/>\n",
       "<circle clip-path=\"url(#clip0902)\" style=\"fill:#009af9; stroke:none; fill-opacity:1\" cx=\"1620.26\" cy=\"902.899\" r=\"14\"/>\n",
       "<circle clip-path=\"url(#clip0902)\" style=\"fill:#000000; stroke:none; fill-opacity:1\" cx=\"1844.27\" cy=\"932.619\" r=\"18\"/>\n",
       "<circle clip-path=\"url(#clip0902)\" style=\"fill:#009af9; stroke:none; fill-opacity:1\" cx=\"1844.27\" cy=\"932.619\" r=\"14\"/>\n",
       "<circle clip-path=\"url(#clip0902)\" style=\"fill:#000000; stroke:none; fill-opacity:1\" cx=\"2068.27\" cy=\"943.32\" r=\"18\"/>\n",
       "<circle clip-path=\"url(#clip0902)\" style=\"fill:#009af9; stroke:none; fill-opacity:1\" cx=\"2068.27\" cy=\"943.32\" r=\"14\"/>\n",
       "<circle clip-path=\"url(#clip0902)\" style=\"fill:#000000; stroke:none; fill-opacity:1\" cx=\"2292.27\" cy=\"947.167\" r=\"18\"/>\n",
       "<circle clip-path=\"url(#clip0902)\" style=\"fill:#009af9; stroke:none; fill-opacity:1\" cx=\"2292.27\" cy=\"947.167\" r=\"14\"/>\n",
       "<polyline clip-path=\"url(#clip0902)\" style=\"stroke:#e26f46; stroke-width:4; stroke-opacity:1; fill:none\" points=\"\n",
       "  276.235,86.3836 500.24,88.2948 724.244,105.202 948.248,249.76 1172.25,649.093 1396.26,853.597 1620.26,917.08 1844.27,938.024 2068.27,945.301 2292.27,947.883 \n",
       "  \n",
       "  \"/>\n",
       "<circle clip-path=\"url(#clip0902)\" style=\"fill:#000000; stroke:none; fill-opacity:1\" cx=\"276.235\" cy=\"86.3836\" r=\"18\"/>\n",
       "<circle clip-path=\"url(#clip0902)\" style=\"fill:#e26f46; stroke:none; fill-opacity:1\" cx=\"276.235\" cy=\"86.3836\" r=\"14\"/>\n",
       "<circle clip-path=\"url(#clip0902)\" style=\"fill:#000000; stroke:none; fill-opacity:1\" cx=\"500.24\" cy=\"88.2948\" r=\"18\"/>\n",
       "<circle clip-path=\"url(#clip0902)\" style=\"fill:#e26f46; stroke:none; fill-opacity:1\" cx=\"500.24\" cy=\"88.2948\" r=\"14\"/>\n",
       "<circle clip-path=\"url(#clip0902)\" style=\"fill:#000000; stroke:none; fill-opacity:1\" cx=\"724.244\" cy=\"105.202\" r=\"18\"/>\n",
       "<circle clip-path=\"url(#clip0902)\" style=\"fill:#e26f46; stroke:none; fill-opacity:1\" cx=\"724.244\" cy=\"105.202\" r=\"14\"/>\n",
       "<circle clip-path=\"url(#clip0902)\" style=\"fill:#000000; stroke:none; fill-opacity:1\" cx=\"948.248\" cy=\"249.76\" r=\"18\"/>\n",
       "<circle clip-path=\"url(#clip0902)\" style=\"fill:#e26f46; stroke:none; fill-opacity:1\" cx=\"948.248\" cy=\"249.76\" r=\"14\"/>\n",
       "<circle clip-path=\"url(#clip0902)\" style=\"fill:#000000; stroke:none; fill-opacity:1\" cx=\"1172.25\" cy=\"649.093\" r=\"18\"/>\n",
       "<circle clip-path=\"url(#clip0902)\" style=\"fill:#e26f46; stroke:none; fill-opacity:1\" cx=\"1172.25\" cy=\"649.093\" r=\"14\"/>\n",
       "<circle clip-path=\"url(#clip0902)\" style=\"fill:#000000; stroke:none; fill-opacity:1\" cx=\"1396.26\" cy=\"853.597\" r=\"18\"/>\n",
       "<circle clip-path=\"url(#clip0902)\" style=\"fill:#e26f46; stroke:none; fill-opacity:1\" cx=\"1396.26\" cy=\"853.597\" r=\"14\"/>\n",
       "<circle clip-path=\"url(#clip0902)\" style=\"fill:#000000; stroke:none; fill-opacity:1\" cx=\"1620.26\" cy=\"917.08\" r=\"18\"/>\n",
       "<circle clip-path=\"url(#clip0902)\" style=\"fill:#e26f46; stroke:none; fill-opacity:1\" cx=\"1620.26\" cy=\"917.08\" r=\"14\"/>\n",
       "<circle clip-path=\"url(#clip0902)\" style=\"fill:#000000; stroke:none; fill-opacity:1\" cx=\"1844.27\" cy=\"938.024\" r=\"18\"/>\n",
       "<circle clip-path=\"url(#clip0902)\" style=\"fill:#e26f46; stroke:none; fill-opacity:1\" cx=\"1844.27\" cy=\"938.024\" r=\"14\"/>\n",
       "<circle clip-path=\"url(#clip0902)\" style=\"fill:#000000; stroke:none; fill-opacity:1\" cx=\"2068.27\" cy=\"945.301\" r=\"18\"/>\n",
       "<circle clip-path=\"url(#clip0902)\" style=\"fill:#e26f46; stroke:none; fill-opacity:1\" cx=\"2068.27\" cy=\"945.301\" r=\"14\"/>\n",
       "<circle clip-path=\"url(#clip0902)\" style=\"fill:#000000; stroke:none; fill-opacity:1\" cx=\"2292.27\" cy=\"947.883\" r=\"18\"/>\n",
       "<circle clip-path=\"url(#clip0902)\" style=\"fill:#e26f46; stroke:none; fill-opacity:1\" cx=\"2292.27\" cy=\"947.883\" r=\"14\"/>\n",
       "<polyline clip-path=\"url(#clip0902)\" style=\"stroke:#3da44d; stroke-width:4; stroke-opacity:1; fill:none\" points=\"\n",
       "  276.235,86.3326 500.24,87.804 724.244,100.023 948.248,228.397 1172.25,791.228 1396.26,1056.37 1620.26,1128.91 1844.27,1152.43 2068.27,1160.6 2292.27,1163.51 \n",
       "  \n",
       "  \"/>\n",
       "<circle clip-path=\"url(#clip0902)\" style=\"fill:#000000; stroke:none; fill-opacity:1\" cx=\"276.235\" cy=\"86.3326\" r=\"18\"/>\n",
       "<circle clip-path=\"url(#clip0902)\" style=\"fill:#3da44d; stroke:none; fill-opacity:1\" cx=\"276.235\" cy=\"86.3326\" r=\"14\"/>\n",
       "<circle clip-path=\"url(#clip0902)\" style=\"fill:#000000; stroke:none; fill-opacity:1\" cx=\"500.24\" cy=\"87.804\" r=\"18\"/>\n",
       "<circle clip-path=\"url(#clip0902)\" style=\"fill:#3da44d; stroke:none; fill-opacity:1\" cx=\"500.24\" cy=\"87.804\" r=\"14\"/>\n",
       "<circle clip-path=\"url(#clip0902)\" style=\"fill:#000000; stroke:none; fill-opacity:1\" cx=\"724.244\" cy=\"100.023\" r=\"18\"/>\n",
       "<circle clip-path=\"url(#clip0902)\" style=\"fill:#3da44d; stroke:none; fill-opacity:1\" cx=\"724.244\" cy=\"100.023\" r=\"14\"/>\n",
       "<circle clip-path=\"url(#clip0902)\" style=\"fill:#000000; stroke:none; fill-opacity:1\" cx=\"948.248\" cy=\"228.397\" r=\"18\"/>\n",
       "<circle clip-path=\"url(#clip0902)\" style=\"fill:#3da44d; stroke:none; fill-opacity:1\" cx=\"948.248\" cy=\"228.397\" r=\"14\"/>\n",
       "<circle clip-path=\"url(#clip0902)\" style=\"fill:#000000; stroke:none; fill-opacity:1\" cx=\"1172.25\" cy=\"791.228\" r=\"18\"/>\n",
       "<circle clip-path=\"url(#clip0902)\" style=\"fill:#3da44d; stroke:none; fill-opacity:1\" cx=\"1172.25\" cy=\"791.228\" r=\"14\"/>\n",
       "<circle clip-path=\"url(#clip0902)\" style=\"fill:#000000; stroke:none; fill-opacity:1\" cx=\"1396.26\" cy=\"1056.37\" r=\"18\"/>\n",
       "<circle clip-path=\"url(#clip0902)\" style=\"fill:#3da44d; stroke:none; fill-opacity:1\" cx=\"1396.26\" cy=\"1056.37\" r=\"14\"/>\n",
       "<circle clip-path=\"url(#clip0902)\" style=\"fill:#000000; stroke:none; fill-opacity:1\" cx=\"1620.26\" cy=\"1128.91\" r=\"18\"/>\n",
       "<circle clip-path=\"url(#clip0902)\" style=\"fill:#3da44d; stroke:none; fill-opacity:1\" cx=\"1620.26\" cy=\"1128.91\" r=\"14\"/>\n",
       "<circle clip-path=\"url(#clip0902)\" style=\"fill:#000000; stroke:none; fill-opacity:1\" cx=\"1844.27\" cy=\"1152.43\" r=\"18\"/>\n",
       "<circle clip-path=\"url(#clip0902)\" style=\"fill:#3da44d; stroke:none; fill-opacity:1\" cx=\"1844.27\" cy=\"1152.43\" r=\"14\"/>\n",
       "<circle clip-path=\"url(#clip0902)\" style=\"fill:#000000; stroke:none; fill-opacity:1\" cx=\"2068.27\" cy=\"1160.6\" r=\"18\"/>\n",
       "<circle clip-path=\"url(#clip0902)\" style=\"fill:#3da44d; stroke:none; fill-opacity:1\" cx=\"2068.27\" cy=\"1160.6\" r=\"14\"/>\n",
       "<circle clip-path=\"url(#clip0902)\" style=\"fill:#000000; stroke:none; fill-opacity:1\" cx=\"2292.27\" cy=\"1163.51\" r=\"18\"/>\n",
       "<circle clip-path=\"url(#clip0902)\" style=\"fill:#3da44d; stroke:none; fill-opacity:1\" cx=\"2292.27\" cy=\"1163.51\" r=\"14\"/>\n",
       "<polyline clip-path=\"url(#clip0902)\" style=\"stroke:#c271d2; stroke-width:4; stroke-opacity:1; fill:none\" points=\"\n",
       "  276.235,86.3065 500.24,87.5909 724.244,97.8207 948.248,201.529 1172.25,817.554 1396.26,1074.88 1620.26,1135.81 1844.27,1154.93 2068.27,1161.5 2292.27,1163.83 \n",
       "  \n",
       "  \"/>\n",
       "<circle clip-path=\"url(#clip0902)\" style=\"fill:#000000; stroke:none; fill-opacity:1\" cx=\"276.235\" cy=\"86.3065\" r=\"18\"/>\n",
       "<circle clip-path=\"url(#clip0902)\" style=\"fill:#c271d2; stroke:none; fill-opacity:1\" cx=\"276.235\" cy=\"86.3065\" r=\"14\"/>\n",
       "<circle clip-path=\"url(#clip0902)\" style=\"fill:#000000; stroke:none; fill-opacity:1\" cx=\"500.24\" cy=\"87.5909\" r=\"18\"/>\n",
       "<circle clip-path=\"url(#clip0902)\" style=\"fill:#c271d2; stroke:none; fill-opacity:1\" cx=\"500.24\" cy=\"87.5909\" r=\"14\"/>\n",
       "<circle clip-path=\"url(#clip0902)\" style=\"fill:#000000; stroke:none; fill-opacity:1\" cx=\"724.244\" cy=\"97.8207\" r=\"18\"/>\n",
       "<circle clip-path=\"url(#clip0902)\" style=\"fill:#c271d2; stroke:none; fill-opacity:1\" cx=\"724.244\" cy=\"97.8207\" r=\"14\"/>\n",
       "<circle clip-path=\"url(#clip0902)\" style=\"fill:#000000; stroke:none; fill-opacity:1\" cx=\"948.248\" cy=\"201.529\" r=\"18\"/>\n",
       "<circle clip-path=\"url(#clip0902)\" style=\"fill:#c271d2; stroke:none; fill-opacity:1\" cx=\"948.248\" cy=\"201.529\" r=\"14\"/>\n",
       "<circle clip-path=\"url(#clip0902)\" style=\"fill:#000000; stroke:none; fill-opacity:1\" cx=\"1172.25\" cy=\"817.554\" r=\"18\"/>\n",
       "<circle clip-path=\"url(#clip0902)\" style=\"fill:#c271d2; stroke:none; fill-opacity:1\" cx=\"1172.25\" cy=\"817.554\" r=\"14\"/>\n",
       "<circle clip-path=\"url(#clip0902)\" style=\"fill:#000000; stroke:none; fill-opacity:1\" cx=\"1396.26\" cy=\"1074.88\" r=\"18\"/>\n",
       "<circle clip-path=\"url(#clip0902)\" style=\"fill:#c271d2; stroke:none; fill-opacity:1\" cx=\"1396.26\" cy=\"1074.88\" r=\"14\"/>\n",
       "<circle clip-path=\"url(#clip0902)\" style=\"fill:#000000; stroke:none; fill-opacity:1\" cx=\"1620.26\" cy=\"1135.81\" r=\"18\"/>\n",
       "<circle clip-path=\"url(#clip0902)\" style=\"fill:#c271d2; stroke:none; fill-opacity:1\" cx=\"1620.26\" cy=\"1135.81\" r=\"14\"/>\n",
       "<circle clip-path=\"url(#clip0902)\" style=\"fill:#000000; stroke:none; fill-opacity:1\" cx=\"1844.27\" cy=\"1154.93\" r=\"18\"/>\n",
       "<circle clip-path=\"url(#clip0902)\" style=\"fill:#c271d2; stroke:none; fill-opacity:1\" cx=\"1844.27\" cy=\"1154.93\" r=\"14\"/>\n",
       "<circle clip-path=\"url(#clip0902)\" style=\"fill:#000000; stroke:none; fill-opacity:1\" cx=\"2068.27\" cy=\"1161.5\" r=\"18\"/>\n",
       "<circle clip-path=\"url(#clip0902)\" style=\"fill:#c271d2; stroke:none; fill-opacity:1\" cx=\"2068.27\" cy=\"1161.5\" r=\"14\"/>\n",
       "<circle clip-path=\"url(#clip0902)\" style=\"fill:#000000; stroke:none; fill-opacity:1\" cx=\"2292.27\" cy=\"1163.83\" r=\"18\"/>\n",
       "<circle clip-path=\"url(#clip0902)\" style=\"fill:#c271d2; stroke:none; fill-opacity:1\" cx=\"2292.27\" cy=\"1163.83\" r=\"14\"/>\n",
       "<polyline clip-path=\"url(#clip0902)\" style=\"stroke:#ac8d18; stroke-width:4; stroke-opacity:1; fill:none\" points=\"\n",
       "  276.235,86.2892 500.24,87.4561 724.244,96.6605 948.248,186.065 1172.25,895.349 1396.26,1179.51 1620.26,1242.59 1844.27,1262.42 2068.27,1269.25 2292.27,1271.68 \n",
       "  \n",
       "  \"/>\n",
       "<circle clip-path=\"url(#clip0902)\" style=\"fill:#000000; stroke:none; fill-opacity:1\" cx=\"276.235\" cy=\"86.2892\" r=\"18\"/>\n",
       "<circle clip-path=\"url(#clip0902)\" style=\"fill:#ac8d18; stroke:none; fill-opacity:1\" cx=\"276.235\" cy=\"86.2892\" r=\"14\"/>\n",
       "<circle clip-path=\"url(#clip0902)\" style=\"fill:#000000; stroke:none; fill-opacity:1\" cx=\"500.24\" cy=\"87.4561\" r=\"18\"/>\n",
       "<circle clip-path=\"url(#clip0902)\" style=\"fill:#ac8d18; stroke:none; fill-opacity:1\" cx=\"500.24\" cy=\"87.4561\" r=\"14\"/>\n",
       "<circle clip-path=\"url(#clip0902)\" style=\"fill:#000000; stroke:none; fill-opacity:1\" cx=\"724.244\" cy=\"96.6605\" r=\"18\"/>\n",
       "<circle clip-path=\"url(#clip0902)\" style=\"fill:#ac8d18; stroke:none; fill-opacity:1\" cx=\"724.244\" cy=\"96.6605\" r=\"14\"/>\n",
       "<circle clip-path=\"url(#clip0902)\" style=\"fill:#000000; stroke:none; fill-opacity:1\" cx=\"948.248\" cy=\"186.065\" r=\"18\"/>\n",
       "<circle clip-path=\"url(#clip0902)\" style=\"fill:#ac8d18; stroke:none; fill-opacity:1\" cx=\"948.248\" cy=\"186.065\" r=\"14\"/>\n",
       "<circle clip-path=\"url(#clip0902)\" style=\"fill:#000000; stroke:none; fill-opacity:1\" cx=\"1172.25\" cy=\"895.349\" r=\"18\"/>\n",
       "<circle clip-path=\"url(#clip0902)\" style=\"fill:#ac8d18; stroke:none; fill-opacity:1\" cx=\"1172.25\" cy=\"895.349\" r=\"14\"/>\n",
       "<circle clip-path=\"url(#clip0902)\" style=\"fill:#000000; stroke:none; fill-opacity:1\" cx=\"1396.26\" cy=\"1179.51\" r=\"18\"/>\n",
       "<circle clip-path=\"url(#clip0902)\" style=\"fill:#ac8d18; stroke:none; fill-opacity:1\" cx=\"1396.26\" cy=\"1179.51\" r=\"14\"/>\n",
       "<circle clip-path=\"url(#clip0902)\" style=\"fill:#000000; stroke:none; fill-opacity:1\" cx=\"1620.26\" cy=\"1242.59\" r=\"18\"/>\n",
       "<circle clip-path=\"url(#clip0902)\" style=\"fill:#ac8d18; stroke:none; fill-opacity:1\" cx=\"1620.26\" cy=\"1242.59\" r=\"14\"/>\n",
       "<circle clip-path=\"url(#clip0902)\" style=\"fill:#000000; stroke:none; fill-opacity:1\" cx=\"1844.27\" cy=\"1262.42\" r=\"18\"/>\n",
       "<circle clip-path=\"url(#clip0902)\" style=\"fill:#ac8d18; stroke:none; fill-opacity:1\" cx=\"1844.27\" cy=\"1262.42\" r=\"14\"/>\n",
       "<circle clip-path=\"url(#clip0902)\" style=\"fill:#000000; stroke:none; fill-opacity:1\" cx=\"2068.27\" cy=\"1269.25\" r=\"18\"/>\n",
       "<circle clip-path=\"url(#clip0902)\" style=\"fill:#ac8d18; stroke:none; fill-opacity:1\" cx=\"2068.27\" cy=\"1269.25\" r=\"14\"/>\n",
       "<circle clip-path=\"url(#clip0902)\" style=\"fill:#000000; stroke:none; fill-opacity:1\" cx=\"2292.27\" cy=\"1271.68\" r=\"18\"/>\n",
       "<circle clip-path=\"url(#clip0902)\" style=\"fill:#ac8d18; stroke:none; fill-opacity:1\" cx=\"2292.27\" cy=\"1271.68\" r=\"14\"/>\n",
       "<polyline clip-path=\"url(#clip0902)\" style=\"stroke:#00a9ad; stroke-width:4; stroke-opacity:1; fill:none\" points=\"\n",
       "  276.235,86.2769 500.24,87.3603 724.244,95.8855 948.248,175.024 1172.25,917.274 1396.26,1191.3 1620.26,1246.77 1844.27,1263.91 2068.27,1269.79 2292.27,1271.87 \n",
       "  \n",
       "  \"/>\n",
       "<circle clip-path=\"url(#clip0902)\" style=\"fill:#000000; stroke:none; fill-opacity:1\" cx=\"276.235\" cy=\"86.2769\" r=\"18\"/>\n",
       "<circle clip-path=\"url(#clip0902)\" style=\"fill:#00a9ad; stroke:none; fill-opacity:1\" cx=\"276.235\" cy=\"86.2769\" r=\"14\"/>\n",
       "<circle clip-path=\"url(#clip0902)\" style=\"fill:#000000; stroke:none; fill-opacity:1\" cx=\"500.24\" cy=\"87.3603\" r=\"18\"/>\n",
       "<circle clip-path=\"url(#clip0902)\" style=\"fill:#00a9ad; stroke:none; fill-opacity:1\" cx=\"500.24\" cy=\"87.3603\" r=\"14\"/>\n",
       "<circle clip-path=\"url(#clip0902)\" style=\"fill:#000000; stroke:none; fill-opacity:1\" cx=\"724.244\" cy=\"95.8855\" r=\"18\"/>\n",
       "<circle clip-path=\"url(#clip0902)\" style=\"fill:#00a9ad; stroke:none; fill-opacity:1\" cx=\"724.244\" cy=\"95.8855\" r=\"14\"/>\n",
       "<circle clip-path=\"url(#clip0902)\" style=\"fill:#000000; stroke:none; fill-opacity:1\" cx=\"948.248\" cy=\"175.024\" r=\"18\"/>\n",
       "<circle clip-path=\"url(#clip0902)\" style=\"fill:#00a9ad; stroke:none; fill-opacity:1\" cx=\"948.248\" cy=\"175.024\" r=\"14\"/>\n",
       "<circle clip-path=\"url(#clip0902)\" style=\"fill:#000000; stroke:none; fill-opacity:1\" cx=\"1172.25\" cy=\"917.274\" r=\"18\"/>\n",
       "<circle clip-path=\"url(#clip0902)\" style=\"fill:#00a9ad; stroke:none; fill-opacity:1\" cx=\"1172.25\" cy=\"917.274\" r=\"14\"/>\n",
       "<circle clip-path=\"url(#clip0902)\" style=\"fill:#000000; stroke:none; fill-opacity:1\" cx=\"1396.26\" cy=\"1191.3\" r=\"18\"/>\n",
       "<circle clip-path=\"url(#clip0902)\" style=\"fill:#00a9ad; stroke:none; fill-opacity:1\" cx=\"1396.26\" cy=\"1191.3\" r=\"14\"/>\n",
       "<circle clip-path=\"url(#clip0902)\" style=\"fill:#000000; stroke:none; fill-opacity:1\" cx=\"1620.26\" cy=\"1246.77\" r=\"18\"/>\n",
       "<circle clip-path=\"url(#clip0902)\" style=\"fill:#00a9ad; stroke:none; fill-opacity:1\" cx=\"1620.26\" cy=\"1246.77\" r=\"14\"/>\n",
       "<circle clip-path=\"url(#clip0902)\" style=\"fill:#000000; stroke:none; fill-opacity:1\" cx=\"1844.27\" cy=\"1263.91\" r=\"18\"/>\n",
       "<circle clip-path=\"url(#clip0902)\" style=\"fill:#00a9ad; stroke:none; fill-opacity:1\" cx=\"1844.27\" cy=\"1263.91\" r=\"14\"/>\n",
       "<circle clip-path=\"url(#clip0902)\" style=\"fill:#000000; stroke:none; fill-opacity:1\" cx=\"2068.27\" cy=\"1269.79\" r=\"18\"/>\n",
       "<circle clip-path=\"url(#clip0902)\" style=\"fill:#00a9ad; stroke:none; fill-opacity:1\" cx=\"2068.27\" cy=\"1269.79\" r=\"14\"/>\n",
       "<circle clip-path=\"url(#clip0902)\" style=\"fill:#000000; stroke:none; fill-opacity:1\" cx=\"2292.27\" cy=\"1271.87\" r=\"18\"/>\n",
       "<circle clip-path=\"url(#clip0902)\" style=\"fill:#00a9ad; stroke:none; fill-opacity:1\" cx=\"2292.27\" cy=\"1271.87\" r=\"14\"/>\n",
       "<polyline clip-path=\"url(#clip0902)\" style=\"stroke:#ed5d92; stroke-width:4; stroke-opacity:1; fill:none\" points=\"\n",
       "  276.235,86.2676 500.24,87.2885 724.244,95.3155 948.248,167.988 1172.25,970.217 1396.26,1257.57 1620.26,1313.74 1844.27,1331.17 2068.27,1337.16 2292.27,1339.28 \n",
       "  \n",
       "  \"/>\n",
       "<circle clip-path=\"url(#clip0902)\" style=\"fill:#000000; stroke:none; fill-opacity:1\" cx=\"276.235\" cy=\"86.2676\" r=\"18\"/>\n",
       "<circle clip-path=\"url(#clip0902)\" style=\"fill:#ed5d92; stroke:none; fill-opacity:1\" cx=\"276.235\" cy=\"86.2676\" r=\"14\"/>\n",
       "<circle clip-path=\"url(#clip0902)\" style=\"fill:#000000; stroke:none; fill-opacity:1\" cx=\"500.24\" cy=\"87.2885\" r=\"18\"/>\n",
       "<circle clip-path=\"url(#clip0902)\" style=\"fill:#ed5d92; stroke:none; fill-opacity:1\" cx=\"500.24\" cy=\"87.2885\" r=\"14\"/>\n",
       "<circle clip-path=\"url(#clip0902)\" style=\"fill:#000000; stroke:none; fill-opacity:1\" cx=\"724.244\" cy=\"95.3155\" r=\"18\"/>\n",
       "<circle clip-path=\"url(#clip0902)\" style=\"fill:#ed5d92; stroke:none; fill-opacity:1\" cx=\"724.244\" cy=\"95.3155\" r=\"14\"/>\n",
       "<circle clip-path=\"url(#clip0902)\" style=\"fill:#000000; stroke:none; fill-opacity:1\" cx=\"948.248\" cy=\"167.988\" r=\"18\"/>\n",
       "<circle clip-path=\"url(#clip0902)\" style=\"fill:#ed5d92; stroke:none; fill-opacity:1\" cx=\"948.248\" cy=\"167.988\" r=\"14\"/>\n",
       "<circle clip-path=\"url(#clip0902)\" style=\"fill:#000000; stroke:none; fill-opacity:1\" cx=\"1172.25\" cy=\"970.217\" r=\"18\"/>\n",
       "<circle clip-path=\"url(#clip0902)\" style=\"fill:#ed5d92; stroke:none; fill-opacity:1\" cx=\"1172.25\" cy=\"970.217\" r=\"14\"/>\n",
       "<circle clip-path=\"url(#clip0902)\" style=\"fill:#000000; stroke:none; fill-opacity:1\" cx=\"1396.26\" cy=\"1257.57\" r=\"18\"/>\n",
       "<circle clip-path=\"url(#clip0902)\" style=\"fill:#ed5d92; stroke:none; fill-opacity:1\" cx=\"1396.26\" cy=\"1257.57\" r=\"14\"/>\n",
       "<circle clip-path=\"url(#clip0902)\" style=\"fill:#000000; stroke:none; fill-opacity:1\" cx=\"1620.26\" cy=\"1313.74\" r=\"18\"/>\n",
       "<circle clip-path=\"url(#clip0902)\" style=\"fill:#ed5d92; stroke:none; fill-opacity:1\" cx=\"1620.26\" cy=\"1313.74\" r=\"14\"/>\n",
       "<circle clip-path=\"url(#clip0902)\" style=\"fill:#000000; stroke:none; fill-opacity:1\" cx=\"1844.27\" cy=\"1331.17\" r=\"18\"/>\n",
       "<circle clip-path=\"url(#clip0902)\" style=\"fill:#ed5d92; stroke:none; fill-opacity:1\" cx=\"1844.27\" cy=\"1331.17\" r=\"14\"/>\n",
       "<circle clip-path=\"url(#clip0902)\" style=\"fill:#000000; stroke:none; fill-opacity:1\" cx=\"2068.27\" cy=\"1337.16\" r=\"18\"/>\n",
       "<circle clip-path=\"url(#clip0902)\" style=\"fill:#ed5d92; stroke:none; fill-opacity:1\" cx=\"2068.27\" cy=\"1337.16\" r=\"14\"/>\n",
       "<circle clip-path=\"url(#clip0902)\" style=\"fill:#000000; stroke:none; fill-opacity:1\" cx=\"2292.27\" cy=\"1339.28\" r=\"18\"/>\n",
       "<circle clip-path=\"url(#clip0902)\" style=\"fill:#ed5d92; stroke:none; fill-opacity:1\" cx=\"2292.27\" cy=\"1339.28\" r=\"14\"/>\n",
       "<polyline clip-path=\"url(#clip0902)\" style=\"stroke:#c68125; stroke-width:4; stroke-opacity:1; fill:none\" points=\"\n",
       "  276.235,86.2605 500.24,87.2326 724.244,94.874 948.248,162.949 1172.25,988.843 1396.26,1265.81 1620.26,1316.61 1844.27,1332.19 2068.27,1337.53 2292.27,1339.41 \n",
       "  \n",
       "  \"/>\n",
       "<circle clip-path=\"url(#clip0902)\" style=\"fill:#000000; stroke:none; fill-opacity:1\" cx=\"276.235\" cy=\"86.2605\" r=\"18\"/>\n",
       "<circle clip-path=\"url(#clip0902)\" style=\"fill:#c68125; stroke:none; fill-opacity:1\" cx=\"276.235\" cy=\"86.2605\" r=\"14\"/>\n",
       "<circle clip-path=\"url(#clip0902)\" style=\"fill:#000000; stroke:none; fill-opacity:1\" cx=\"500.24\" cy=\"87.2326\" r=\"18\"/>\n",
       "<circle clip-path=\"url(#clip0902)\" style=\"fill:#c68125; stroke:none; fill-opacity:1\" cx=\"500.24\" cy=\"87.2326\" r=\"14\"/>\n",
       "<circle clip-path=\"url(#clip0902)\" style=\"fill:#000000; stroke:none; fill-opacity:1\" cx=\"724.244\" cy=\"94.874\" r=\"18\"/>\n",
       "<circle clip-path=\"url(#clip0902)\" style=\"fill:#c68125; stroke:none; fill-opacity:1\" cx=\"724.244\" cy=\"94.874\" r=\"14\"/>\n",
       "<circle clip-path=\"url(#clip0902)\" style=\"fill:#000000; stroke:none; fill-opacity:1\" cx=\"948.248\" cy=\"162.949\" r=\"18\"/>\n",
       "<circle clip-path=\"url(#clip0902)\" style=\"fill:#c68125; stroke:none; fill-opacity:1\" cx=\"948.248\" cy=\"162.949\" r=\"14\"/>\n",
       "<circle clip-path=\"url(#clip0902)\" style=\"fill:#000000; stroke:none; fill-opacity:1\" cx=\"1172.25\" cy=\"988.843\" r=\"18\"/>\n",
       "<circle clip-path=\"url(#clip0902)\" style=\"fill:#c68125; stroke:none; fill-opacity:1\" cx=\"1172.25\" cy=\"988.843\" r=\"14\"/>\n",
       "<circle clip-path=\"url(#clip0902)\" style=\"fill:#000000; stroke:none; fill-opacity:1\" cx=\"1396.26\" cy=\"1265.81\" r=\"18\"/>\n",
       "<circle clip-path=\"url(#clip0902)\" style=\"fill:#c68125; stroke:none; fill-opacity:1\" cx=\"1396.26\" cy=\"1265.81\" r=\"14\"/>\n",
       "<circle clip-path=\"url(#clip0902)\" style=\"fill:#000000; stroke:none; fill-opacity:1\" cx=\"1620.26\" cy=\"1316.61\" r=\"18\"/>\n",
       "<circle clip-path=\"url(#clip0902)\" style=\"fill:#c68125; stroke:none; fill-opacity:1\" cx=\"1620.26\" cy=\"1316.61\" r=\"14\"/>\n",
       "<circle clip-path=\"url(#clip0902)\" style=\"fill:#000000; stroke:none; fill-opacity:1\" cx=\"1844.27\" cy=\"1332.19\" r=\"18\"/>\n",
       "<circle clip-path=\"url(#clip0902)\" style=\"fill:#c68125; stroke:none; fill-opacity:1\" cx=\"1844.27\" cy=\"1332.19\" r=\"14\"/>\n",
       "<circle clip-path=\"url(#clip0902)\" style=\"fill:#000000; stroke:none; fill-opacity:1\" cx=\"2068.27\" cy=\"1337.53\" r=\"18\"/>\n",
       "<circle clip-path=\"url(#clip0902)\" style=\"fill:#c68125; stroke:none; fill-opacity:1\" cx=\"2068.27\" cy=\"1337.53\" r=\"14\"/>\n",
       "<circle clip-path=\"url(#clip0902)\" style=\"fill:#000000; stroke:none; fill-opacity:1\" cx=\"2292.27\" cy=\"1339.41\" r=\"18\"/>\n",
       "<circle clip-path=\"url(#clip0902)\" style=\"fill:#c68125; stroke:none; fill-opacity:1\" cx=\"2292.27\" cy=\"1339.41\" r=\"14\"/>\n",
       "<polyline clip-path=\"url(#clip0902)\" style=\"stroke:#00a98d; stroke-width:4; stroke-opacity:1; fill:none\" points=\"\n",
       "  276.235,86.2547 500.24,87.188 724.244,94.5212 948.248,159.279 1172.25,1028.72 1396.26,1312.54 1620.26,1363.57 1844.27,1379.3 2068.27,1384.7 2292.27,1386.61 \n",
       "  \n",
       "  \"/>\n",
       "<circle clip-path=\"url(#clip0902)\" style=\"fill:#000000; stroke:none; fill-opacity:1\" cx=\"276.235\" cy=\"86.2547\" r=\"18\"/>\n",
       "<circle clip-path=\"url(#clip0902)\" style=\"fill:#00a98d; stroke:none; fill-opacity:1\" cx=\"276.235\" cy=\"86.2547\" r=\"14\"/>\n",
       "<circle clip-path=\"url(#clip0902)\" style=\"fill:#000000; stroke:none; fill-opacity:1\" cx=\"500.24\" cy=\"87.188\" r=\"18\"/>\n",
       "<circle clip-path=\"url(#clip0902)\" style=\"fill:#00a98d; stroke:none; fill-opacity:1\" cx=\"500.24\" cy=\"87.188\" r=\"14\"/>\n",
       "<circle clip-path=\"url(#clip0902)\" style=\"fill:#000000; stroke:none; fill-opacity:1\" cx=\"724.244\" cy=\"94.5212\" r=\"18\"/>\n",
       "<circle clip-path=\"url(#clip0902)\" style=\"fill:#00a98d; stroke:none; fill-opacity:1\" cx=\"724.244\" cy=\"94.5212\" r=\"14\"/>\n",
       "<circle clip-path=\"url(#clip0902)\" style=\"fill:#000000; stroke:none; fill-opacity:1\" cx=\"948.248\" cy=\"159.279\" r=\"18\"/>\n",
       "<circle clip-path=\"url(#clip0902)\" style=\"fill:#00a98d; stroke:none; fill-opacity:1\" cx=\"948.248\" cy=\"159.279\" r=\"14\"/>\n",
       "<circle clip-path=\"url(#clip0902)\" style=\"fill:#000000; stroke:none; fill-opacity:1\" cx=\"1172.25\" cy=\"1028.72\" r=\"18\"/>\n",
       "<circle clip-path=\"url(#clip0902)\" style=\"fill:#00a98d; stroke:none; fill-opacity:1\" cx=\"1172.25\" cy=\"1028.72\" r=\"14\"/>\n",
       "<circle clip-path=\"url(#clip0902)\" style=\"fill:#000000; stroke:none; fill-opacity:1\" cx=\"1396.26\" cy=\"1312.54\" r=\"18\"/>\n",
       "<circle clip-path=\"url(#clip0902)\" style=\"fill:#00a98d; stroke:none; fill-opacity:1\" cx=\"1396.26\" cy=\"1312.54\" r=\"14\"/>\n",
       "<circle clip-path=\"url(#clip0902)\" style=\"fill:#000000; stroke:none; fill-opacity:1\" cx=\"1620.26\" cy=\"1363.57\" r=\"18\"/>\n",
       "<circle clip-path=\"url(#clip0902)\" style=\"fill:#00a98d; stroke:none; fill-opacity:1\" cx=\"1620.26\" cy=\"1363.57\" r=\"14\"/>\n",
       "<circle clip-path=\"url(#clip0902)\" style=\"fill:#000000; stroke:none; fill-opacity:1\" cx=\"1844.27\" cy=\"1379.3\" r=\"18\"/>\n",
       "<circle clip-path=\"url(#clip0902)\" style=\"fill:#00a98d; stroke:none; fill-opacity:1\" cx=\"1844.27\" cy=\"1379.3\" r=\"14\"/>\n",
       "<circle clip-path=\"url(#clip0902)\" style=\"fill:#000000; stroke:none; fill-opacity:1\" cx=\"2068.27\" cy=\"1384.7\" r=\"18\"/>\n",
       "<circle clip-path=\"url(#clip0902)\" style=\"fill:#00a98d; stroke:none; fill-opacity:1\" cx=\"2068.27\" cy=\"1384.7\" r=\"14\"/>\n",
       "<circle clip-path=\"url(#clip0902)\" style=\"fill:#000000; stroke:none; fill-opacity:1\" cx=\"2292.27\" cy=\"1386.61\" r=\"18\"/>\n",
       "<circle clip-path=\"url(#clip0902)\" style=\"fill:#00a98d; stroke:none; fill-opacity:1\" cx=\"2292.27\" cy=\"1386.61\" r=\"14\"/>\n",
       "<polygon clip-path=\"url(#clip0900)\" points=\"\n",
       "1897.61,735.564 2280.76,735.564 2280.76,130.764 1897.61,130.764 \n",
       "  \" fill=\"#ffffff\" fill-rule=\"evenodd\" fill-opacity=\"1\"/>\n",
       "<polyline clip-path=\"url(#clip0900)\" style=\"stroke:#000000; stroke-width:4; stroke-opacity:1; fill:none\" points=\"\n",
       "  1897.61,735.564 2280.76,735.564 2280.76,130.764 1897.61,130.764 1897.61,735.564 \n",
       "  \"/>\n",
       "<polyline clip-path=\"url(#clip0900)\" style=\"stroke:#009af9; stroke-width:4; stroke-opacity:1; fill:none\" points=\"\n",
       "  1921.61,191.244 2065.61,191.244 \n",
       "  \"/>\n",
       "<circle clip-path=\"url(#clip0900)\" style=\"fill:#000000; stroke:none; fill-opacity:1\" cx=\"2005.61\" cy=\"191.244\" r=\"25\"/>\n",
       "<circle clip-path=\"url(#clip0900)\" style=\"fill:#009af9; stroke:none; fill-opacity:1\" cx=\"2005.61\" cy=\"191.244\" r=\"21\"/>\n",
       "<g clip-path=\"url(#clip0900)\">\n",
       "<text style=\"fill:#000000; fill-opacity:1; font-family:Arial,Helvetica Neue,Helvetica,sans-serif; font-size:48px; text-anchor:start;\" transform=\"rotate(0, 2089.61, 208.744)\" x=\"2089.61\" y=\"208.744\">N = 2</text>\n",
       "</g>\n",
       "<polyline clip-path=\"url(#clip0900)\" style=\"stroke:#e26f46; stroke-width:4; stroke-opacity:1; fill:none\" points=\"\n",
       "  1921.61,251.724 2065.61,251.724 \n",
       "  \"/>\n",
       "<circle clip-path=\"url(#clip0900)\" style=\"fill:#000000; stroke:none; fill-opacity:1\" cx=\"2005.61\" cy=\"251.724\" r=\"25\"/>\n",
       "<circle clip-path=\"url(#clip0900)\" style=\"fill:#e26f46; stroke:none; fill-opacity:1\" cx=\"2005.61\" cy=\"251.724\" r=\"21\"/>\n",
       "<g clip-path=\"url(#clip0900)\">\n",
       "<text style=\"fill:#000000; fill-opacity:1; font-family:Arial,Helvetica Neue,Helvetica,sans-serif; font-size:48px; text-anchor:start;\" transform=\"rotate(0, 2089.61, 269.224)\" x=\"2089.61\" y=\"269.224\">N = 3</text>\n",
       "</g>\n",
       "<polyline clip-path=\"url(#clip0900)\" style=\"stroke:#3da44d; stroke-width:4; stroke-opacity:1; fill:none\" points=\"\n",
       "  1921.61,312.204 2065.61,312.204 \n",
       "  \"/>\n",
       "<circle clip-path=\"url(#clip0900)\" style=\"fill:#000000; stroke:none; fill-opacity:1\" cx=\"2005.61\" cy=\"312.204\" r=\"25\"/>\n",
       "<circle clip-path=\"url(#clip0900)\" style=\"fill:#3da44d; stroke:none; fill-opacity:1\" cx=\"2005.61\" cy=\"312.204\" r=\"21\"/>\n",
       "<g clip-path=\"url(#clip0900)\">\n",
       "<text style=\"fill:#000000; fill-opacity:1; font-family:Arial,Helvetica Neue,Helvetica,sans-serif; font-size:48px; text-anchor:start;\" transform=\"rotate(0, 2089.61, 329.704)\" x=\"2089.61\" y=\"329.704\">N = 4</text>\n",
       "</g>\n",
       "<polyline clip-path=\"url(#clip0900)\" style=\"stroke:#c271d2; stroke-width:4; stroke-opacity:1; fill:none\" points=\"\n",
       "  1921.61,372.684 2065.61,372.684 \n",
       "  \"/>\n",
       "<circle clip-path=\"url(#clip0900)\" style=\"fill:#000000; stroke:none; fill-opacity:1\" cx=\"2005.61\" cy=\"372.684\" r=\"25\"/>\n",
       "<circle clip-path=\"url(#clip0900)\" style=\"fill:#c271d2; stroke:none; fill-opacity:1\" cx=\"2005.61\" cy=\"372.684\" r=\"21\"/>\n",
       "<g clip-path=\"url(#clip0900)\">\n",
       "<text style=\"fill:#000000; fill-opacity:1; font-family:Arial,Helvetica Neue,Helvetica,sans-serif; font-size:48px; text-anchor:start;\" transform=\"rotate(0, 2089.61, 390.184)\" x=\"2089.61\" y=\"390.184\">N = 5</text>\n",
       "</g>\n",
       "<polyline clip-path=\"url(#clip0900)\" style=\"stroke:#ac8d18; stroke-width:4; stroke-opacity:1; fill:none\" points=\"\n",
       "  1921.61,433.164 2065.61,433.164 \n",
       "  \"/>\n",
       "<circle clip-path=\"url(#clip0900)\" style=\"fill:#000000; stroke:none; fill-opacity:1\" cx=\"2005.61\" cy=\"433.164\" r=\"25\"/>\n",
       "<circle clip-path=\"url(#clip0900)\" style=\"fill:#ac8d18; stroke:none; fill-opacity:1\" cx=\"2005.61\" cy=\"433.164\" r=\"21\"/>\n",
       "<g clip-path=\"url(#clip0900)\">\n",
       "<text style=\"fill:#000000; fill-opacity:1; font-family:Arial,Helvetica Neue,Helvetica,sans-serif; font-size:48px; text-anchor:start;\" transform=\"rotate(0, 2089.61, 450.664)\" x=\"2089.61\" y=\"450.664\">N = 6</text>\n",
       "</g>\n",
       "<polyline clip-path=\"url(#clip0900)\" style=\"stroke:#00a9ad; stroke-width:4; stroke-opacity:1; fill:none\" points=\"\n",
       "  1921.61,493.644 2065.61,493.644 \n",
       "  \"/>\n",
       "<circle clip-path=\"url(#clip0900)\" style=\"fill:#000000; stroke:none; fill-opacity:1\" cx=\"2005.61\" cy=\"493.644\" r=\"25\"/>\n",
       "<circle clip-path=\"url(#clip0900)\" style=\"fill:#00a9ad; stroke:none; fill-opacity:1\" cx=\"2005.61\" cy=\"493.644\" r=\"21\"/>\n",
       "<g clip-path=\"url(#clip0900)\">\n",
       "<text style=\"fill:#000000; fill-opacity:1; font-family:Arial,Helvetica Neue,Helvetica,sans-serif; font-size:48px; text-anchor:start;\" transform=\"rotate(0, 2089.61, 511.144)\" x=\"2089.61\" y=\"511.144\">N = 7</text>\n",
       "</g>\n",
       "<polyline clip-path=\"url(#clip0900)\" style=\"stroke:#ed5d92; stroke-width:4; stroke-opacity:1; fill:none\" points=\"\n",
       "  1921.61,554.124 2065.61,554.124 \n",
       "  \"/>\n",
       "<circle clip-path=\"url(#clip0900)\" style=\"fill:#000000; stroke:none; fill-opacity:1\" cx=\"2005.61\" cy=\"554.124\" r=\"25\"/>\n",
       "<circle clip-path=\"url(#clip0900)\" style=\"fill:#ed5d92; stroke:none; fill-opacity:1\" cx=\"2005.61\" cy=\"554.124\" r=\"21\"/>\n",
       "<g clip-path=\"url(#clip0900)\">\n",
       "<text style=\"fill:#000000; fill-opacity:1; font-family:Arial,Helvetica Neue,Helvetica,sans-serif; font-size:48px; text-anchor:start;\" transform=\"rotate(0, 2089.61, 571.624)\" x=\"2089.61\" y=\"571.624\">N = 8</text>\n",
       "</g>\n",
       "<polyline clip-path=\"url(#clip0900)\" style=\"stroke:#c68125; stroke-width:4; stroke-opacity:1; fill:none\" points=\"\n",
       "  1921.61,614.604 2065.61,614.604 \n",
       "  \"/>\n",
       "<circle clip-path=\"url(#clip0900)\" style=\"fill:#000000; stroke:none; fill-opacity:1\" cx=\"2005.61\" cy=\"614.604\" r=\"25\"/>\n",
       "<circle clip-path=\"url(#clip0900)\" style=\"fill:#c68125; stroke:none; fill-opacity:1\" cx=\"2005.61\" cy=\"614.604\" r=\"21\"/>\n",
       "<g clip-path=\"url(#clip0900)\">\n",
       "<text style=\"fill:#000000; fill-opacity:1; font-family:Arial,Helvetica Neue,Helvetica,sans-serif; font-size:48px; text-anchor:start;\" transform=\"rotate(0, 2089.61, 632.104)\" x=\"2089.61\" y=\"632.104\">N = 9</text>\n",
       "</g>\n",
       "<polyline clip-path=\"url(#clip0900)\" style=\"stroke:#00a98d; stroke-width:4; stroke-opacity:1; fill:none\" points=\"\n",
       "  1921.61,675.084 2065.61,675.084 \n",
       "  \"/>\n",
       "<circle clip-path=\"url(#clip0900)\" style=\"fill:#000000; stroke:none; fill-opacity:1\" cx=\"2005.61\" cy=\"675.084\" r=\"25\"/>\n",
       "<circle clip-path=\"url(#clip0900)\" style=\"fill:#00a98d; stroke:none; fill-opacity:1\" cx=\"2005.61\" cy=\"675.084\" r=\"21\"/>\n",
       "<g clip-path=\"url(#clip0900)\">\n",
       "<text style=\"fill:#000000; fill-opacity:1; font-family:Arial,Helvetica Neue,Helvetica,sans-serif; font-size:48px; text-anchor:start;\" transform=\"rotate(0, 2089.61, 692.584)\" x=\"2089.61\" y=\"692.584\">N = 10</text>\n",
       "</g>\n",
       "</svg>\n"
      ]
     },
     "execution_count": 164,
     "metadata": {},
     "output_type": "execute_result"
    }
   ],
   "source": [
    "using Plots\n",
    "hs = 10 .^ range(-2., stop=2., length=10)\n",
    "Ns = 2:10\n",
    "p = plot()\n",
    "for N in Ns\n",
    "    M = zeros(length(hs))\n",
    "    for (i,h) in enumerate(hs)\n",
    "        H, basis = TransverseFieldIsing(N=N, h=h)\n",
    "        vals, vecs = eigen(H)\n",
    "        groundstate = vecs[:,1]\n",
    "        M[i] = magnetization(groundstate, basis)\n",
    "    end\n",
    "    plot!(p, hs, M, xscale=:log10, marker=:circle, label=\"N = $N\",\n",
    "        xlab=\"h\", ylab=\"M(h)\")\n",
    "    println(M)\n",
    "end\n",
    "p"
   ]
  },
  {
   "cell_type": "markdown",
   "metadata": {},
   "source": [
    "**This looks like a phase transition!**\n",
    "\n",
    "For small $h$, the magnetization is unity, corresponding to a ferromagnetic state.\n",
    "\n",
    "By increasing $h$ enhance quantum fluctuations which drive a phase transition to a **quantum paramagnetic** phase with $M\\approx0$. (This is to be compared to increasing temperature in the classical Ising model, where thermal fluctuations cause a **classical paramagnetic** state.)"
   ]
  },
  {
   "cell_type": "markdown",
   "metadata": {},
   "source": [
    "## TODO: Going to large $N$ - utilizing sparsity"
   ]
  }
 ],
 "metadata": {
  "@webio": {
   "lastCommId": null,
   "lastKernelId": null
  },
  "kernelspec": {
   "display_name": "Julia 1.1.0",
   "language": "julia",
   "name": "julia-1.1"
  },
  "language_info": {
   "file_extension": ".jl",
   "mimetype": "application/julia",
   "name": "julia",
   "version": "1.1.0"
  }
 },
 "nbformat": 4,
 "nbformat_minor": 4
}
