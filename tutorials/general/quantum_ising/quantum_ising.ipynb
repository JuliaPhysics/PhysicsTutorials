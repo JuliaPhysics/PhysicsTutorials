{
 "cells": [
  {
   "cell_type": "markdown",
   "metadata": {},
   "source": [
    "# Quantum Ising Phase Transition\n",
    "### Carsten Bauer, Katharine Hyatt"
   ]
  },
  {
   "cell_type": "markdown",
   "metadata": {},
   "source": [
    "## Introduction"
   ]
  },
  {
   "cell_type": "markdown",
   "metadata": {},
   "source": [
    "In this tutorial we will consider a simple quantum mechanical system of spins sitting on a chain. Here, *quantum mechanical*, despite its pompous sound, simply means that our Hamiltonian matrix will have a non-trivial (i.e. non-diagonal) matrix structure.\n",
    "\n",
    "We will then ask a couple of basic questions,\n",
    "\n",
    "* What is the ground state of the system?\n",
    "* What happens if we turn on a transverse magnetic field?\n",
    "* Are there any phase transitions?\n",
    "\n",
    "To get answers to the questions, we will solve the time-independent Schrödinger equation\n",
    "\n",
    "$$H|\\psi\\rangle = E |\\psi\\rangle$$\n",
    "\n",
    "in Julia by means of exact diagonalization of the Hamiltonian."
   ]
  },
  {
   "cell_type": "markdown",
   "metadata": {},
   "source": [
    "## Transverse field quantum Ising chain"
   ]
  },
  {
   "cell_type": "markdown",
   "metadata": {},
   "source": [
    "Let's start out by defining our system. The Hamiltonian is given by"
   ]
  },
  {
   "cell_type": "markdown",
   "metadata": {},
   "source": [
    "$$\\mathcal{H} = -\\sum_{\\langle i, j \\rangle} \\hat{\\sigma}_i^z \\otimes \\hat{\\sigma}_j^z - h\\sum_i \\hat{\\sigma}_i^x$$"
   ]
  },
  {
   "cell_type": "markdown",
   "metadata": {},
   "source": [
    "Here, $\\hat{\\sigma}^z$ and $\\hat{\\sigma}^x$ are two of the three [Pauli matrices](https://en.wikipedia.org/wiki/Pauli_matrices), representing our quantum spins, $\\langle i, j \\rangle$ indicates that only neighboring spins talk to each other, and $h$ is the amplitude of the magnetic field. "
   ]
  },
  {
   "cell_type": "code",
   "execution_count": 1,
   "metadata": {},
   "outputs": [
    {
     "data": {
      "text/plain": [
       "2×2 Array{Int64,2}:\n",
       " 1   0\n",
       " 0  -1"
      ]
     },
     "execution_count": 1,
     "metadata": {},
     "output_type": "execute_result"
    }
   ],
   "source": [
    "σᶻ = [1 0; 0 -1] # \\sigma <TAB> followed by \\^z <TAB>"
   ]
  },
  {
   "cell_type": "code",
   "execution_count": 2,
   "metadata": {},
   "outputs": [
    {
     "data": {
      "text/plain": [
       "2×2 Array{Int64,2}:\n",
       " 0  1\n",
       " 1  0"
      ]
     },
     "execution_count": 2,
     "metadata": {},
     "output_type": "execute_result"
    }
   ],
   "source": [
    "σˣ = [0 1; 1 0]"
   ]
  },
  {
   "cell_type": "markdown",
   "metadata": {},
   "source": [
    "Labeling the eigensates of $\\sigma^z$ as $|\\downarrow\\rangle$ and $|\\uparrow\\rangle$, we interpret them as a spin pointing down or up (in $z$-direction), respectively.\n",
    "\n",
    "Clearly, since being purely off-diagonal, the effect of $\\sigma^x$ on such a single spin is to flip it:\n",
    "\n",
    "$$\\hat{\\sigma}^x\\left| \\downarrow \\right\\rangle = \\left| \\uparrow \\right\\rangle$$\n",
    "\n",
    "$$\\hat{\\sigma}^x\\left| \\uparrow \\right\\rangle = \\left| \\downarrow \\right\\rangle$$"
   ]
  },
  {
   "cell_type": "code",
   "execution_count": 3,
   "metadata": {},
   "outputs": [],
   "source": [
    "↑ = [1,0]; # \\uparrow <TAB>\n",
    "↓ = [0,1];"
   ]
  },
  {
   "cell_type": "code",
   "execution_count": 4,
   "metadata": {},
   "outputs": [
    {
     "data": {
      "text/plain": [
       "true"
      ]
     },
     "execution_count": 4,
     "metadata": {},
     "output_type": "execute_result"
    }
   ],
   "source": [
    "(σˣ * ↑) == ↓"
   ]
  },
  {
   "cell_type": "code",
   "execution_count": 5,
   "metadata": {},
   "outputs": [
    {
     "data": {
      "text/plain": [
       "true"
      ]
     },
     "execution_count": 5,
     "metadata": {},
     "output_type": "execute_result"
    }
   ],
   "source": [
    "(σˣ * ↓) == ↑"
   ]
  },
  {
   "cell_type": "markdown",
   "metadata": {},
   "source": [
    "The idea behind the Hamiltonian above is as follows:\n",
    "\n",
    "* The first term is diagonal in the $\\sigma^z$ eigenbasis. If there is no magnetic field, $h=0$, our quantum model reduces to the well-known classical [Ising model](https://en.wikipedia.org/wiki/Ising_model) (diagonal = trivial matrix structure -> classical). In this case, we have a **finite temperature phase transition** from a paramagnetic ($T>T_c$) phase, where the spins are **disordered by thermal fluctuations**, to a ferromagnetic phase ($T<T_c$), where they all point into the $z$ direction and, consequently, a ferromagnetic ground state at $T=0$.\n",
    "\n",
    "* Since this would be boring, we want to add quantum complications to this picture by making $H$ non-diagonal. To this end, we expose the quantum spins to a transverse magnetic field $h$ in $x$ direction in the second term. Now, since $\\sigma^z$ and $\\sigma^x$ do not commute (check `σˣ*σᶻ - σᶻ*σˣ` yourself), there is no common eigenbasis of the first and the second term and our Hamiltonian has a non-trivial matrix structure (It's quantum!). If there was *only the second term* the system would, again, be trivial, as it would be diagonal in the eigenbasis of $\\sigma^x$: the quantum spins want to be in an eigenstate of $\\sigma^x$, i.e. align to the magnetic field.\n",
    "\n",
    "* We can see that if we have both terms we have a competition between the spins wanting to point in the $z$ direction (first term) and at the same time being disturbed by the transverse magnetic field. We say that the magnetic field term adds **quantum fluctuations** to the system.\n",
    "\n",
    "Let us explore the physics of this interplay."
   ]
  },
  {
   "cell_type": "markdown",
   "metadata": {},
   "source": [
    "## Building the Hamiltonian matrix"
   ]
  },
  {
   "cell_type": "markdown",
   "metadata": {},
   "source": [
    "We will choose the $\\sigma^z$ eigenbasis as our computation basis.\n",
    "\n",
    "To build up our Hamiltonian matrix we need to take the kronecker product (tensor product) of spin matrices. Fortunately, Julia has a built-in function for this."
   ]
  },
  {
   "cell_type": "code",
   "execution_count": 6,
   "metadata": {},
   "outputs": [
    {
     "data": {
      "text/plain": [
       "4×4 Array{Int64,2}:\n",
       " 1   0   0  0\n",
       " 0  -1   0  0\n",
       " 0   0  -1  0\n",
       " 0   0   0  1"
      ]
     },
     "execution_count": 6,
     "metadata": {},
     "output_type": "execute_result"
    }
   ],
   "source": [
    "kron(σᶻ,σᶻ) # this is the matrix of the tensor product σᶻᵢ⊗ σᶻⱼ (⊗ = \\otimes <TAB>)"
   ]
  },
  {
   "cell_type": "markdown",
   "metadata": {},
   "source": [
    "Let's be fancy (cause we can!) and make this look a bit cooler."
   ]
  },
  {
   "cell_type": "code",
   "execution_count": 7,
   "metadata": {},
   "outputs": [
    {
     "data": {
      "text/plain": [
       "⊗ (generic function with 1 method)"
      ]
     },
     "execution_count": 7,
     "metadata": {},
     "output_type": "execute_result"
    }
   ],
   "source": [
    "⊗(x,y) = kron(x,y)"
   ]
  },
  {
   "cell_type": "code",
   "execution_count": 8,
   "metadata": {},
   "outputs": [
    {
     "data": {
      "text/plain": [
       "4×4 Array{Int64,2}:\n",
       " 1   0   0  0\n",
       " 0  -1   0  0\n",
       " 0   0  -1  0\n",
       " 0   0   0  1"
      ]
     },
     "execution_count": 8,
     "metadata": {},
     "output_type": "execute_result"
    }
   ],
   "source": [
    "σᶻ ⊗ σᶻ"
   ]
  },
  {
   "cell_type": "markdown",
   "metadata": {},
   "source": [
    "### Explicit 4-site Hamiltonian"
   ]
  },
  {
   "cell_type": "markdown",
   "metadata": {},
   "source": [
    "Imagine our spin chain consists of four sites. Writing out identity matrices (which were left implicit in $H$ above) explicitly, our Hamiltonian reads"
   ]
  },
  {
   "cell_type": "markdown",
   "metadata": {},
   "source": [
    "$$\\mathcal{H}_4 = -\\hat{\\sigma}_1^z \\hat{\\sigma}_2^z \\hat{I}_3 \\hat{I}_4 - \\hat{I}_1 \\hat{\\sigma}_2^z \\hat{\\sigma}_3^z \\hat{I}_4 - \\hat{I}_1 \\hat{I}_2 \\hat{\\sigma}_3^z \\hat{\\sigma}_4^z - h\\left(\\hat{\\sigma}_1^x\\hat{I}_2 \\hat{I}_3\\hat{I}_4 + \\hat{I}_1 \\hat{\\sigma}_2^x \\hat{I}_3\\hat{I}_4 +\\hat{I}_1 \\hat{I}_2 \\hat{\\sigma}_3^x\\hat{I}_4 + \\hat{I}_1 \\hat{I}_2 \\hat{I}_3 \\hat{\\sigma}_4^x\\right)$$"
   ]
  },
  {
   "cell_type": "markdown",
   "metadata": {},
   "source": [
    "(Note that we are considering *open* boundary conditions here - the spin on site 4 doesn't interact with the one on the first site. For *periodic* boundary conditions we'd have to add a term $- \\hat{\\sigma}^z_1 \\hat{I}_2 \\hat{I}_3 \\hat{\\sigma}_4^z$.)\n",
    "\n",
    "Translating this expression to Julia is super easy. After defining the identity matrix"
   ]
  },
  {
   "cell_type": "code",
   "execution_count": 9,
   "metadata": {},
   "outputs": [
    {
     "data": {
      "text/plain": [
       "2×2 Array{Int64,2}:\n",
       " 1  0\n",
       " 0  1"
      ]
     },
     "execution_count": 9,
     "metadata": {},
     "output_type": "execute_result"
    }
   ],
   "source": [
    "id = [1 0; 0 1] # identity matrix"
   ]
  },
  {
   "cell_type": "markdown",
   "metadata": {},
   "source": [
    "we can simply write"
   ]
  },
  {
   "cell_type": "code",
   "execution_count": 11,
   "metadata": {},
   "outputs": [
    {
     "data": {
      "text/plain": [
       "16×16 Array{Int64,2}:\n",
       " -3  -1  -1   0  -1   0   0   0  -1   0   0   0   0   0   0   0\n",
       " -1  -1   0  -1   0  -1   0   0   0  -1   0   0   0   0   0   0\n",
       " -1   0   1  -1   0   0  -1   0   0   0  -1   0   0   0   0   0\n",
       "  0  -1  -1  -1   0   0   0  -1   0   0   0  -1   0   0   0   0\n",
       " -1   0   0   0   1  -1  -1   0   0   0   0   0  -1   0   0   0\n",
       "  0  -1   0   0  -1   3   0  -1   0   0   0   0   0  -1   0   0\n",
       "  0   0  -1   0  -1   0   1  -1   0   0   0   0   0   0  -1   0\n",
       "  0   0   0  -1   0  -1  -1  -1   0   0   0   0   0   0   0  -1\n",
       " -1   0   0   0   0   0   0   0  -1  -1  -1   0  -1   0   0   0\n",
       "  0  -1   0   0   0   0   0   0  -1   1   0  -1   0  -1   0   0\n",
       "  0   0  -1   0   0   0   0   0  -1   0   3  -1   0   0  -1   0\n",
       "  0   0   0  -1   0   0   0   0   0  -1  -1   1   0   0   0  -1\n",
       "  0   0   0   0  -1   0   0   0  -1   0   0   0  -1  -1  -1   0\n",
       "  0   0   0   0   0  -1   0   0   0  -1   0   0  -1   1   0  -1\n",
       "  0   0   0   0   0   0  -1   0   0   0  -1   0  -1   0  -1  -1\n",
       "  0   0   0   0   0   0   0  -1   0   0   0  -1   0  -1  -1  -3"
      ]
     },
     "execution_count": 11,
     "metadata": {},
     "output_type": "execute_result"
    }
   ],
   "source": [
    "h = 1\n",
    "H = - σᶻ⊗σᶻ⊗id⊗id - id⊗σᶻ⊗σᶻ⊗id - id⊗id⊗σᶻ⊗σᶻ\n",
    "H -= h*(σˣ⊗id⊗id⊗id + id⊗σˣ⊗id⊗id + id⊗id⊗σˣ⊗id + id⊗id⊗id⊗σˣ)"
   ]
  },
  {
   "cell_type": "markdown",
   "metadata": {},
   "source": [
    "There it is.\n",
    "\n",
    "As nice as it is to write those tensor products explicitly, we certainly wouldn't want to write out all the terms for, say, 100 sites.\n",
    "\n",
    "Let's define a function that iteratively does the job for us."
   ]
  },
  {
   "cell_type": "code",
   "execution_count": 75,
   "metadata": {},
   "outputs": [
    {
     "data": {
      "text/plain": [
       "TransverseFieldIsing (generic function with 1 method)"
      ]
     },
     "execution_count": 75,
     "metadata": {},
     "output_type": "execute_result"
    }
   ],
   "source": [
    "function TransverseFieldIsing(;N,h)\n",
    "    id = [1 0; 0 1]\n",
    "    σˣ = [0 1; 1 0]\n",
    "    σᶻ = [1 0; 0 -1]\n",
    "    \n",
    "    # vector of operators: [σᶻ, σᶻ, id, ...]\n",
    "    first_term_ops = fill(id, N)\n",
    "    first_term_ops[1] = σᶻ\n",
    "    first_term_ops[2] = σᶻ\n",
    "    \n",
    "    # vector of operators: [σˣ, id, ...]\n",
    "    second_term_ops = fill(id, N)\n",
    "    second_term_ops[1] = σˣ\n",
    "    \n",
    "    H = spzeros(Int, 2^N, 2^N)\n",
    "    for i in 1:N-1\n",
    "        # tensor multiply all operators\n",
    "        H -= foldl(⊗, first_term_ops)\n",
    "        # cyclic shift the operators\n",
    "        first_term_ops = circshift(first_term_ops,1)\n",
    "    end\n",
    "    \n",
    "    for i in 1:N\n",
    "        H -= h*foldl(⊗, second_term_ops)\n",
    "        second_term_ops = circshift(second_term_ops,1)\n",
    "    end\n",
    "    H\n",
    "end"
   ]
  },
  {
   "cell_type": "code",
   "execution_count": 77,
   "metadata": {},
   "outputs": [
    {
     "data": {
      "text/plain": [
       "256×256 Array{Int64,2}:\n",
       " -7  -1  -1   0  -1   0   0   0  -1  …   0   0   0   0   0   0   0   0   0\n",
       " -1  -5   0  -1   0  -1   0   0   0      0   0   0   0   0   0   0   0   0\n",
       " -1   0  -3  -1   0   0  -1   0   0      0   0   0   0   0   0   0   0   0\n",
       "  0  -1  -1  -5   0   0   0  -1   0      0   0   0   0   0   0   0   0   0\n",
       " -1   0   0   0  -3  -1  -1   0   0      0   0   0   0   0   0   0   0   0\n",
       "  0  -1   0   0  -1  -1   0  -1   0  …   0   0   0   0   0   0   0   0   0\n",
       "  0   0  -1   0  -1   0  -3  -1   0      0   0   0   0   0   0   0   0   0\n",
       "  0   0   0  -1   0  -1  -1  -5   0      0   0   0   0   0   0   0   0   0\n",
       " -1   0   0   0   0   0   0   0  -3      0   0   0   0   0   0   0   0   0\n",
       "  0  -1   0   0   0   0   0   0  -1      0   0   0   0   0   0   0   0   0\n",
       "  0   0  -1   0   0   0   0   0  -1  …   0   0   0   0   0   0   0   0   0\n",
       "  0   0   0  -1   0   0   0   0   0      0   0   0   0   0   0   0   0   0\n",
       "  0   0   0   0  -1   0   0   0  -1      0   0   0   0   0   0   0   0   0\n",
       "  ⋮                   ⋮              ⋱               ⋮                   ⋮\n",
       "  0   0   0   0   0   0   0   0   0      0   0   0   0   0  -1   0   0   0\n",
       "  0   0   0   0   0   0   0   0   0  …  -1   0   0   0   0   0  -1   0   0\n",
       "  0   0   0   0   0   0   0   0   0     -1   0   0   0   0   0   0  -1   0\n",
       "  0   0   0   0   0   0   0   0   0     -3   0   0   0   0   0   0   0  -1\n",
       "  0   0   0   0   0   0   0   0   0      0  -5  -1  -1   0  -1   0   0   0\n",
       "  0   0   0   0   0   0   0   0   0      0  -1  -3   0  -1   0  -1   0   0\n",
       "  0   0   0   0   0   0   0   0   0  …   0  -1   0  -1  -1   0   0  -1   0\n",
       "  0   0   0   0   0   0   0   0   0      0   0  -1  -1  -3   0   0   0  -1\n",
       "  0   0   0   0   0   0   0   0   0      0  -1   0   0   0  -5  -1  -1   0\n",
       "  0   0   0   0   0   0   0   0   0      0   0  -1   0   0  -1  -3   0  -1\n",
       "  0   0   0   0   0   0   0   0   0      0   0   0  -1   0  -1   0  -5  -1\n",
       "  0   0   0   0   0   0   0   0   0  …  -1   0   0   0  -1   0  -1  -1  -7"
      ]
     },
     "execution_count": 77,
     "metadata": {},
     "output_type": "execute_result"
    }
   ],
   "source": [
    "TransverseFieldIsing(N=8, h=1)"
   ]
  },
  {
   "cell_type": "markdown",
   "metadata": {},
   "source": [
    "### Many-particle basis\n",
    "\n",
    "Beyond a single spin, we have to think how to encode our basis states.\n",
    "\n",
    "We make the arbitrary choice:\n",
    "$0 = \\text{false} = \\downarrow$ and $1 = \\text{true} = \\uparrow$\n",
    "\n",
    "This way, our many-spin basis states have nice a binary representations and we can efficiently store them in a Julia `BitArray`.\n",
    "\n",
    "Example: $|0010\\rangle = |\\text{false},\\text{false},\\text{true},\\text{false}\\rangle = |\\downarrow\\downarrow\\uparrow\\downarrow>$ is a basis state of a 4-site system\n",
    "\n",
    "We construct the full basis by binary counting."
   ]
  },
  {
   "cell_type": "code",
   "execution_count": 79,
   "metadata": {},
   "outputs": [
    {
     "data": {
      "text/plain": [
       "generate_basis"
      ]
     },
     "execution_count": 79,
     "metadata": {},
     "output_type": "execute_result"
    }
   ],
   "source": [
    "\"\"\"\n",
    "Binary `BitArray` representation of the given integer `num`, padded to length `N`.\n",
    "\"\"\"\n",
    "bit_rep(num::Integer, N::Integer) = BitArray(parse(Bool, i) for i in string(num, base=2, pad=N))\n",
    "\n",
    "\"\"\"\n",
    "    generate_basis(N::Integer) -> basis\n",
    "\n",
    "Generates a basis (`Vector{BitArray}`) spanning the Hilbert space of `N` spins.\n",
    "\"\"\"\n",
    "function generate_basis(N::Integer)\n",
    "    nstates = 2^N\n",
    "    basis = Vector{BitArray{1}}(undef, nstates)\n",
    "    for i in 0:nstates-1\n",
    "        basis[i+1] = bit_rep(i, N)\n",
    "    end\n",
    "    return basis\n",
    "end"
   ]
  },
  {
   "cell_type": "code",
   "execution_count": 80,
   "metadata": {},
   "outputs": [
    {
     "data": {
      "text/plain": [
       "16-element Array{BitArray{1},1}:\n",
       " [false, false, false, false]\n",
       " [false, false, false, true] \n",
       " [false, false, true, false] \n",
       " [false, false, true, true]  \n",
       " [false, true, false, false] \n",
       " [false, true, false, true]  \n",
       " [false, true, true, false]  \n",
       " [false, true, true, true]   \n",
       " [true, false, false, false] \n",
       " [true, false, false, true]  \n",
       " [true, false, true, false]  \n",
       " [true, false, true, true]   \n",
       " [true, true, false, false]  \n",
       " [true, true, false, true]   \n",
       " [true, true, true, false]   \n",
       " [true, true, true, true]    "
      ]
     },
     "execution_count": 80,
     "metadata": {},
     "output_type": "execute_result"
    }
   ],
   "source": [
    "generate_basis(4)"
   ]
  },
  {
   "cell_type": "markdown",
   "metadata": {},
   "source": [
    "### Side remark: Iterative construction of $H$"
   ]
  },
  {
   "cell_type": "markdown",
   "metadata": {},
   "source": [
    "It might not be obvious that this basis is indeed the basis underlying the Hamiltonian matrix constructed in `TransverseFieldIsing`. To convince ourselves that this is indeed the case, let's calculate the matrix elements of our Hamiltonian, $\\langle \\psi_1 | H | \\psi_2 \\rangle$, explicitly by applying $H$ to our basis states and utilizing their orthonormality, $\\langle \\psi_i | \\psi_j \\rangle = \\sigma_{i,j}$."
   ]
  },
  {
   "cell_type": "code",
   "execution_count": 82,
   "metadata": {},
   "outputs": [
    {
     "data": {
      "text/plain": [
       "TransverseFieldIsing_explicit (generic function with 1 method)"
      ]
     },
     "execution_count": 82,
     "metadata": {},
     "output_type": "execute_result"
    }
   ],
   "source": [
    "using LinearAlgebra\n",
    "\n",
    "function TransverseFieldIsing_explicit(; N::Integer, h::T=0) where T<:Real\n",
    "    basis = generate_basis(N)\n",
    "    H = zeros(T, 2^N, 2^N)\n",
    "    bonds = zip(collect(1:N-1), collect(2:N))\n",
    "    for (i, bstate) in enumerate(basis)\n",
    "        # diagonal part\n",
    "        diag_term = 0.\n",
    "        for (site_i, site_j) in bonds\n",
    "            if bstate[site_i] == bstate[site_j]\n",
    "                diag_term -= 1\n",
    "            else\n",
    "                diag_term += 1\n",
    "            end\n",
    "        end\n",
    "        H[i, i] = diag_term\n",
    "        \n",
    "        # off diagonal part\n",
    "        for site in 1:N\n",
    "            new_bstate = copy(bstate)\n",
    "            # flip the bit on the site (that's what σˣ does)\n",
    "            new_bstate[site] = !new_bstate[site]\n",
    "            # find corresponding single basis state with unity overlap (orthonormality)\n",
    "            new_i = findfirst(isequal(new_bstate), basis)\n",
    "            H[i, new_i] = -h\n",
    "        end\n",
    "    end\n",
    "    return H\n",
    "end"
   ]
  },
  {
   "cell_type": "code",
   "execution_count": 83,
   "metadata": {},
   "outputs": [
    {
     "data": {
      "text/plain": [
       "true"
      ]
     },
     "execution_count": 83,
     "metadata": {},
     "output_type": "execute_result"
    }
   ],
   "source": [
    "TransverseFieldIsing_explicit(N=4, h=1) ≈ TransverseFieldIsing(N=4, h=1)"
   ]
  },
  {
   "cell_type": "markdown",
   "metadata": {},
   "source": [
    "### Full exact diagonalization"
   ]
  },
  {
   "cell_type": "markdown",
   "metadata": {},
   "source": [
    "Alright. Let's solve the Schrödinger equation by diagonalizing $H$ for a system with $N=8$ and $h=1$."
   ]
  },
  {
   "cell_type": "code",
   "execution_count": 90,
   "metadata": {},
   "outputs": [
    {
     "data": {
      "text/plain": [
       "Eigen{Float64,Float64,Array{Float64,2},Array{Float64,1}}\n",
       "eigenvalues:\n",
       "256-element Array{Float64,1}:\n",
       " -9.837951447459426 \n",
       " -9.46887800960621  \n",
       " -8.74329948717107  \n",
       " -8.374226049317867 \n",
       " -8.054998024353266 \n",
       " -7.685924586500063 \n",
       " -7.427412901942416 \n",
       " -7.058339464089192 \n",
       " -6.960346064064927 \n",
       " -6.881915778576785 \n",
       " -6.591272626211728 \n",
       " -6.512842340723582 \n",
       " -6.437082904540963 \n",
       "  ⋮                 \n",
       "  6.512842340723575 \n",
       "  6.591272626211726 \n",
       "  6.88191577857678  \n",
       "  6.960346064064934 \n",
       "  7.0583394640891886\n",
       "  7.427412901942393 \n",
       "  7.685924586500062 \n",
       "  8.054998024353269 \n",
       "  8.374226049317883 \n",
       "  8.74329948717109  \n",
       "  9.468878009606211 \n",
       "  9.83795144745942  \n",
       "eigenvectors:\n",
       "256×256 Array{Float64,2}:\n",
       " 0.340927   -0.459362   -3.81639e-17  …   7.97973e-17   0.00885459\n",
       " 0.173416   -0.210059    0.0826509       -0.00480955   -0.0133586 \n",
       " 0.109265   -0.126567    0.0600217        0.00990677   -0.0214075 \n",
       " 0.135509   -0.123533    0.182584        -0.00219934    0.0121301 \n",
       " 0.101521   -0.116488    0.0389137       -0.0115529    -0.0195355 \n",
       " 0.0603592  -0.0541307   0.0677375    …   0.0296823     0.0367401 \n",
       " 0.0754706  -0.0572934   0.103307         0.00222615    0.0173773 \n",
       " 0.120803   -0.0590509   0.260672        -0.00610295   -0.0128526 \n",
       " 0.0995642  -0.11394     0.0135226        0.0125492    -0.020245  \n",
       " 0.0532448  -0.04999     0.0381968       -0.00794715    0.0263806 \n",
       " 0.0367401  -0.0296823   0.033051     …  -0.0541307     0.0603592 \n",
       " 0.0508038  -0.0245805   0.0889179        0.0223165    -0.0314965 \n",
       " 0.0663716  -0.0471469   0.0527574       -0.000811348   0.0160635 \n",
       " ⋮                                    ⋱                 ⋮         \n",
       " 0.0508038   0.0245805  -0.0889179       -0.0223165    -0.0314965 \n",
       " 0.0367401   0.0296823  -0.033051     …   0.0541307     0.0603592 \n",
       " 0.0532448   0.04999    -0.0381968        0.00794715    0.0263806 \n",
       " 0.0995642   0.11394    -0.0135226       -0.0125492    -0.020245  \n",
       " 0.120803    0.0590509  -0.260672         0.00610295   -0.0128526 \n",
       " 0.0754706   0.0572934  -0.103307        -0.00222615    0.0173773 \n",
       " 0.0603592   0.0541307  -0.0677375    …  -0.0296823     0.0367401 \n",
       " 0.101521    0.116488   -0.0389137        0.0115529    -0.0195355 \n",
       " 0.135509    0.123533   -0.182584         0.00219934    0.0121301 \n",
       " 0.109265    0.126567   -0.0600217       -0.00990677   -0.0214075 \n",
       " 0.173416    0.210059   -0.0826509        0.00480955   -0.0133586 \n",
       " 0.340927    0.459362    0.0          …   4.38622e-18   0.00885459"
      ]
     },
     "execution_count": 90,
     "metadata": {},
     "output_type": "execute_result"
    }
   ],
   "source": [
    "basis = generate_basis(8)\n",
    "H = TransverseFieldIsing(N=8, h=1)\n",
    "vals, vecs = eigen(H)"
   ]
  },
  {
   "cell_type": "markdown",
   "metadata": {},
   "source": [
    "That's it. Here is our groundstate. "
   ]
  },
  {
   "cell_type": "code",
   "execution_count": 86,
   "metadata": {},
   "outputs": [],
   "source": [
    "groundstate = vecs[:,1];"
   ]
  },
  {
   "cell_type": "markdown",
   "metadata": {},
   "source": [
    "The absolute square of this wave function is the probability of finding the system in a particular basis state."
   ]
  },
  {
   "cell_type": "code",
   "execution_count": 19,
   "metadata": {},
   "outputs": [
    {
     "data": {
      "text/plain": [
       "256-element Array{Float64,1}:\n",
       " 0.11623105759942885  \n",
       " 0.030073150814502212 \n",
       " 0.0119388989548912   \n",
       " 0.01836268922781065  \n",
       " 0.010306563749646199 \n",
       " 0.0036432311839576883\n",
       " 0.005695810419718821 \n",
       " 0.014593393364127294 \n",
       " 0.009913022568277332 \n",
       " 0.002835013679521494 \n",
       " 0.001349837628020143 \n",
       " 0.0025810283471239663\n",
       " 0.004405195883727727 \n",
       " ⋮                    \n",
       " 0.0025810283471239402\n",
       " 0.001349837628020142 \n",
       " 0.002835013679521493 \n",
       " 0.009913022568277134 \n",
       " 0.014593393364126966 \n",
       " 0.005695810419718817 \n",
       " 0.003643231183957665 \n",
       " 0.010306563749646001 \n",
       " 0.018362689227810196 \n",
       " 0.01193889895489093  \n",
       " 0.030073150814501577 \n",
       " 0.11623105759942208  "
      ]
     },
     "execution_count": 19,
     "metadata": {},
     "output_type": "execute_result"
    }
   ],
   "source": [
    "abs2.(groundstate)"
   ]
  },
  {
   "cell_type": "markdown",
   "metadata": {},
   "source": [
    "It's instructive to look at the extremal cases $h=0$ and $h>>1$."
   ]
  },
  {
   "cell_type": "code",
   "execution_count": 87,
   "metadata": {},
   "outputs": [
    {
     "data": {
      "text/plain": [
       "256-element Array{Float64,1}:\n",
       " 1.0\n",
       " 0.0\n",
       " 0.0\n",
       " 0.0\n",
       " 0.0\n",
       " 0.0\n",
       " 0.0\n",
       " 0.0\n",
       " 0.0\n",
       " 0.0\n",
       " 0.0\n",
       " 0.0\n",
       " 0.0\n",
       " ⋮  \n",
       " 0.0\n",
       " 0.0\n",
       " 0.0\n",
       " 0.0\n",
       " 0.0\n",
       " 0.0\n",
       " 0.0\n",
       " 0.0\n",
       " 0.0\n",
       " 0.0\n",
       " 0.0\n",
       " 0.0"
      ]
     },
     "execution_count": 87,
     "metadata": {},
     "output_type": "execute_result"
    }
   ],
   "source": [
    "H = TransverseFieldIsing(N=8, h=0)\n",
    "vals, vecs = eigen(H)\n",
    "groundstate = vecs[:,1]\n",
    "abs2.(groundstate)"
   ]
  },
  {
   "cell_type": "markdown",
   "metadata": {},
   "source": [
    "As we can see, for $h=0$ the system is (with probability one) in the first basis state, where all spins point in $-z$ direction."
   ]
  },
  {
   "cell_type": "code",
   "execution_count": 91,
   "metadata": {},
   "outputs": [
    {
     "data": {
      "text/plain": [
       "8-element BitArray{1}:\n",
       " false\n",
       " false\n",
       " false\n",
       " false\n",
       " false\n",
       " false\n",
       " false\n",
       " false"
      ]
     },
     "execution_count": 91,
     "metadata": {},
     "output_type": "execute_result"
    }
   ],
   "source": [
    "basis[1]"
   ]
  },
  {
   "cell_type": "markdown",
   "metadata": {},
   "source": [
    "On the other hand, for $h=100$, the system occupies all basis states with approximately equal probability (maximal superposition) - corresponding to eigenstates of $\\sigma^x$, i.e. alignment to the magnetic field."
   ]
  },
  {
   "cell_type": "code",
   "execution_count": 92,
   "metadata": {},
   "outputs": [
    {
     "data": {
      "text/plain": [
       "256-element Array{Float64,1}:\n",
       " 0.00404533959214578  \n",
       " 0.004004987329714098 \n",
       " 0.003965137205785807 \n",
       " 0.004004886702523801 \n",
       " 0.003965038080465978 \n",
       " 0.003925683101156531 \n",
       " 0.003964938454528805 \n",
       " 0.004004886199391184 \n",
       " 0.003965037585486796 \n",
       " 0.003925487314471259 \n",
       " 0.0038866215777983793\n",
       " 0.003925584959072649 \n",
       " 0.003964838836732753 \n",
       " ⋮                    \n",
       " 0.003925584959072673 \n",
       " 0.0038866215777984487\n",
       " 0.003925487314471334 \n",
       " 0.003965037585486885 \n",
       " 0.004004886199391219 \n",
       " 0.0039649384545288845\n",
       " 0.0039256831011566275\n",
       " 0.003965038080466088 \n",
       " 0.004004886702523875 \n",
       " 0.003965137205785895 \n",
       " 0.00400498732971419  \n",
       " 0.004045339592145809 "
      ]
     },
     "execution_count": 92,
     "metadata": {},
     "output_type": "execute_result"
    }
   ],
   "source": [
    "H = TransverseFieldIsing(N=8, h=100)\n",
    "vals, vecs = eigen(H)\n",
    "groundstate = vecs[:,1]\n",
    "abs2.(groundstate)"
   ]
  },
  {
   "cell_type": "markdown",
   "metadata": {},
   "source": [
    "# Are you a magnet or what?"
   ]
  },
  {
   "cell_type": "markdown",
   "metadata": {},
   "source": [
    "Let's vary $h$ and see what happens. Since we're looking at quantum magnets we will compute the overall magnetization, defined by\n",
    "\n",
    "$$M = \\frac{1}{N}\\sum_{i} \\sigma^z_i$$\n",
    "where $\\sigma^z_i$ is the value of the spin on site $i$ when we measure."
   ]
  },
  {
   "cell_type": "code",
   "execution_count": 93,
   "metadata": {},
   "outputs": [
    {
     "data": {
      "text/plain": [
       "magnetization (generic function with 2 methods)"
      ]
     },
     "execution_count": 93,
     "metadata": {},
     "output_type": "execute_result"
    }
   ],
   "source": [
    "function magnetization(state, basis)\n",
    "    M = 0.\n",
    "    for (i, bstate) in enumerate(basis)\n",
    "        bstate_M = 0.\n",
    "        for spin in bstate\n",
    "            bstate_M += (state[i]^2 * (spin ? 1 : -1))/length(bstate)\n",
    "        end\n",
    "        @assert abs(bstate_M) <= 1\n",
    "        M += abs(bstate_M)\n",
    "    end\n",
    "    return M\n",
    "end"
   ]
  },
  {
   "cell_type": "code",
   "execution_count": 94,
   "metadata": {},
   "outputs": [
    {
     "data": {
      "text/plain": [
       "0.2748106008973601"
      ]
     },
     "execution_count": 94,
     "metadata": {},
     "output_type": "execute_result"
    }
   ],
   "source": [
    "magnetization(groundstate, basis)"
   ]
  },
  {
   "cell_type": "markdown",
   "metadata": {},
   "source": [
    "Now we would like to examine the effects of $h$. We will:\n",
    "\n",
    "1. Find a variety of $h$ to look at.\n",
    "2. For each, compute the lowest energy eigenvector (groundstate) of the corresponding Hamiltonian.\n",
    "3. For each groundstate, compute the overall magnetization $M$.\n",
    "4. Plot $M(h)$ for a variety of system sizes, and see if anything cool happens."
   ]
  },
  {
   "cell_type": "code",
   "execution_count": 95,
   "metadata": {},
   "outputs": [
    {
     "name": "stdout",
     "output_type": "stream",
     "text": [
      "[0.9999, 0.999228, 0.994111, 0.959187, 0.820255, 0.643561, 0.553551, 0.519342, 0.506956, 0.5025]\n",
      "[0.999962, 0.999697, 0.997483, 0.977379, 0.835423, 0.620175, 0.538777, 0.513279, 0.504686, 0.501673]\n",
      "[0.999969, 0.999757, 0.998091, 0.983463, 0.830993, 0.517856, 0.418746, 0.389914, 0.380267, 0.376881]\n",
      "[0.999972, 0.999787, 0.998342, 0.986444, 0.849703, 0.500414, 0.410874, 0.38703, 0.379226, 0.376507]\n",
      "[0.999975, 0.999806, 0.998495, 0.987923, 0.861409, 0.444473, 0.349674, 0.324999, 0.316897, 0.314069]\n",
      "[0.999977, 0.99982, 0.998603, 0.988861, 0.875535, 0.431583, 0.344792, 0.323263, 0.316275, 0.313845]\n",
      "[0.999978, 0.999831, 0.998684, 0.989526, 0.88554, 0.394698, 0.306229, 0.284401, 0.277288, 0.274811]\n",
      "[0.999979, 0.999839, 0.998746, 0.990035, 0.894378, 0.384896, 0.302852, 0.283213, 0.276864, 0.274659]\n",
      "[0.99998, 0.999845, 0.998797, 0.99044, 0.900862, 0.358218, 0.275738, 0.255974, 0.249561, 0.24733]\n"
     ]
    },
    {
     "data": {
      "image/svg+xml": [
       "<?xml version=\"1.0\" encoding=\"utf-8\"?>\n",
       "<svg xmlns=\"http://www.w3.org/2000/svg\" xmlns:xlink=\"http://www.w3.org/1999/xlink\" width=\"600\" height=\"400\" viewBox=\"0 0 2400 1600\">\n",
       "<defs>\n",
       "  <clipPath id=\"clip1700\">\n",
       "    <rect x=\"0\" y=\"0\" width=\"2400\" height=\"1600\"/>\n",
       "  </clipPath>\n",
       "</defs>\n",
       "<polygon clip-path=\"url(#clip1700)\" points=\"\n",
       "0,1600 2400,1600 2400,0 0,0 \n",
       "  \" fill=\"#ffffff\" fill-rule=\"evenodd\" fill-opacity=\"1\"/>\n",
       "<defs>\n",
       "  <clipPath id=\"clip1701\">\n",
       "    <rect x=\"480\" y=\"0\" width=\"1681\" height=\"1600\"/>\n",
       "  </clipPath>\n",
       "</defs>\n",
       "<polygon clip-path=\"url(#clip1700)\" points=\"\n",
       "215.754,1425.62 2352.76,1425.62 2352.76,47.2441 215.754,47.2441 \n",
       "  \" fill=\"#ffffff\" fill-rule=\"evenodd\" fill-opacity=\"1\"/>\n",
       "<defs>\n",
       "  <clipPath id=\"clip1702\">\n",
       "    <rect x=\"215\" y=\"47\" width=\"2138\" height=\"1379\"/>\n",
       "  </clipPath>\n",
       "</defs>\n",
       "<polyline clip-path=\"url(#clip1702)\" style=\"stroke:#000000; stroke-width:2; stroke-opacity:0.1; fill:none\" points=\"\n",
       "  276.235,1425.62 276.235,47.2441 \n",
       "  \"/>\n",
       "<polyline clip-path=\"url(#clip1702)\" style=\"stroke:#000000; stroke-width:2; stroke-opacity:0.1; fill:none\" points=\"\n",
       "  780.245,1425.62 780.245,47.2441 \n",
       "  \"/>\n",
       "<polyline clip-path=\"url(#clip1702)\" style=\"stroke:#000000; stroke-width:2; stroke-opacity:0.1; fill:none\" points=\"\n",
       "  1284.25,1425.62 1284.25,47.2441 \n",
       "  \"/>\n",
       "<polyline clip-path=\"url(#clip1702)\" style=\"stroke:#000000; stroke-width:2; stroke-opacity:0.1; fill:none\" points=\"\n",
       "  1788.26,1425.62 1788.26,47.2441 \n",
       "  \"/>\n",
       "<polyline clip-path=\"url(#clip1702)\" style=\"stroke:#000000; stroke-width:2; stroke-opacity:0.1; fill:none\" points=\"\n",
       "  2292.27,1425.62 2292.27,47.2441 \n",
       "  \"/>\n",
       "<polyline clip-path=\"url(#clip1702)\" style=\"stroke:#000000; stroke-width:2; stroke-opacity:0.1; fill:none\" points=\"\n",
       "  215.754,1122.84 2352.76,1122.84 \n",
       "  \"/>\n",
       "<polyline clip-path=\"url(#clip1702)\" style=\"stroke:#000000; stroke-width:2; stroke-opacity:0.1; fill:none\" points=\"\n",
       "  215.754,777.3 2352.76,777.3 \n",
       "  \"/>\n",
       "<polyline clip-path=\"url(#clip1702)\" style=\"stroke:#000000; stroke-width:2; stroke-opacity:0.1; fill:none\" points=\"\n",
       "  215.754,431.76 2352.76,431.76 \n",
       "  \"/>\n",
       "<polyline clip-path=\"url(#clip1702)\" style=\"stroke:#000000; stroke-width:2; stroke-opacity:0.1; fill:none\" points=\"\n",
       "  215.754,86.2201 2352.76,86.2201 \n",
       "  \"/>\n",
       "<polyline clip-path=\"url(#clip1700)\" style=\"stroke:#000000; stroke-width:4; stroke-opacity:1; fill:none\" points=\"\n",
       "  215.754,1425.62 2352.76,1425.62 \n",
       "  \"/>\n",
       "<polyline clip-path=\"url(#clip1700)\" style=\"stroke:#000000; stroke-width:4; stroke-opacity:1; fill:none\" points=\"\n",
       "  215.754,1425.62 215.754,47.2441 \n",
       "  \"/>\n",
       "<polyline clip-path=\"url(#clip1700)\" style=\"stroke:#000000; stroke-width:4; stroke-opacity:1; fill:none\" points=\"\n",
       "  276.235,1425.62 276.235,1404.94 \n",
       "  \"/>\n",
       "<polyline clip-path=\"url(#clip1700)\" style=\"stroke:#000000; stroke-width:4; stroke-opacity:1; fill:none\" points=\"\n",
       "  780.245,1425.62 780.245,1404.94 \n",
       "  \"/>\n",
       "<polyline clip-path=\"url(#clip1700)\" style=\"stroke:#000000; stroke-width:4; stroke-opacity:1; fill:none\" points=\"\n",
       "  1284.25,1425.62 1284.25,1404.94 \n",
       "  \"/>\n",
       "<polyline clip-path=\"url(#clip1700)\" style=\"stroke:#000000; stroke-width:4; stroke-opacity:1; fill:none\" points=\"\n",
       "  1788.26,1425.62 1788.26,1404.94 \n",
       "  \"/>\n",
       "<polyline clip-path=\"url(#clip1700)\" style=\"stroke:#000000; stroke-width:4; stroke-opacity:1; fill:none\" points=\"\n",
       "  2292.27,1425.62 2292.27,1404.94 \n",
       "  \"/>\n",
       "<polyline clip-path=\"url(#clip1700)\" style=\"stroke:#000000; stroke-width:4; stroke-opacity:1; fill:none\" points=\"\n",
       "  215.754,1122.84 247.809,1122.84 \n",
       "  \"/>\n",
       "<polyline clip-path=\"url(#clip1700)\" style=\"stroke:#000000; stroke-width:4; stroke-opacity:1; fill:none\" points=\"\n",
       "  215.754,777.3 247.809,777.3 \n",
       "  \"/>\n",
       "<polyline clip-path=\"url(#clip1700)\" style=\"stroke:#000000; stroke-width:4; stroke-opacity:1; fill:none\" points=\"\n",
       "  215.754,431.76 247.809,431.76 \n",
       "  \"/>\n",
       "<polyline clip-path=\"url(#clip1700)\" style=\"stroke:#000000; stroke-width:4; stroke-opacity:1; fill:none\" points=\"\n",
       "  215.754,86.2201 247.809,86.2201 \n",
       "  \"/>\n",
       "<g clip-path=\"url(#clip1700)\">\n",
       "<text style=\"fill:#000000; fill-opacity:1; font-family:Arial,Helvetica Neue,Helvetica,sans-serif; font-size:48px; text-anchor:start;\" transform=\"rotate(0, 221.745, 1500.63)\" x=\"221.745\" y=\"1500.63\">10</text>\n",
       "</g>\n",
       "<g clip-path=\"url(#clip1700)\">\n",
       "<text style=\"fill:#000000; fill-opacity:1; font-family:Arial,Helvetica Neue,Helvetica,sans-serif; font-size:38px; text-anchor:start;\" transform=\"rotate(0, 275.27, 1473.22)\" x=\"275.27\" y=\"1473.22\">-</text>\n",
       "</g>\n",
       "<g clip-path=\"url(#clip1700)\">\n",
       "<text style=\"fill:#000000; fill-opacity:1; font-family:Arial,Helvetica Neue,Helvetica,sans-serif; font-size:38px; text-anchor:start;\" transform=\"rotate(0, 298.109, 1473.22)\" x=\"298.109\" y=\"1473.22\">2 </text>\n",
       "</g>\n",
       "<g clip-path=\"url(#clip1700)\">\n",
       "<text style=\"fill:#000000; fill-opacity:1; font-family:Arial,Helvetica Neue,Helvetica,sans-serif; font-size:48px; text-anchor:start;\" transform=\"rotate(0, 725.755, 1500.63)\" x=\"725.755\" y=\"1500.63\">10</text>\n",
       "</g>\n",
       "<g clip-path=\"url(#clip1700)\">\n",
       "<text style=\"fill:#000000; fill-opacity:1; font-family:Arial,Helvetica Neue,Helvetica,sans-serif; font-size:38px; text-anchor:start;\" transform=\"rotate(0, 779.279, 1473.22)\" x=\"779.279\" y=\"1473.22\">-</text>\n",
       "</g>\n",
       "<g clip-path=\"url(#clip1700)\">\n",
       "<text style=\"fill:#000000; fill-opacity:1; font-family:Arial,Helvetica Neue,Helvetica,sans-serif; font-size:38px; text-anchor:start;\" transform=\"rotate(0, 802.119, 1473.22)\" x=\"802.119\" y=\"1473.22\">1 </text>\n",
       "</g>\n",
       "<g clip-path=\"url(#clip1700)\">\n",
       "<text style=\"fill:#000000; fill-opacity:1; font-family:Arial,Helvetica Neue,Helvetica,sans-serif; font-size:48px; text-anchor:start;\" transform=\"rotate(0, 1241.18, 1500.63)\" x=\"1241.18\" y=\"1500.63\">10</text>\n",
       "</g>\n",
       "<g clip-path=\"url(#clip1700)\">\n",
       "<text style=\"fill:#000000; fill-opacity:1; font-family:Arial,Helvetica Neue,Helvetica,sans-serif; font-size:38px; text-anchor:start;\" transform=\"rotate(0, 1294.71, 1473.22)\" x=\"1294.71\" y=\"1473.22\">0 </text>\n",
       "</g>\n",
       "<g clip-path=\"url(#clip1700)\">\n",
       "<text style=\"fill:#000000; fill-opacity:1; font-family:Arial,Helvetica Neue,Helvetica,sans-serif; font-size:48px; text-anchor:start;\" transform=\"rotate(0, 1745.19, 1500.63)\" x=\"1745.19\" y=\"1500.63\">10</text>\n",
       "</g>\n",
       "<g clip-path=\"url(#clip1700)\">\n",
       "<text style=\"fill:#000000; fill-opacity:1; font-family:Arial,Helvetica Neue,Helvetica,sans-serif; font-size:38px; text-anchor:start;\" transform=\"rotate(0, 1798.72, 1473.22)\" x=\"1798.72\" y=\"1473.22\">1 </text>\n",
       "</g>\n",
       "<g clip-path=\"url(#clip1700)\">\n",
       "<text style=\"fill:#000000; fill-opacity:1; font-family:Arial,Helvetica Neue,Helvetica,sans-serif; font-size:48px; text-anchor:start;\" transform=\"rotate(0, 2249.2, 1500.63)\" x=\"2249.2\" y=\"1500.63\">10</text>\n",
       "</g>\n",
       "<g clip-path=\"url(#clip1700)\">\n",
       "<text style=\"fill:#000000; fill-opacity:1; font-family:Arial,Helvetica Neue,Helvetica,sans-serif; font-size:38px; text-anchor:start;\" transform=\"rotate(0, 2302.73, 1473.22)\" x=\"2302.73\" y=\"1473.22\">2 </text>\n",
       "</g>\n",
       "<g clip-path=\"url(#clip1700)\">\n",
       "<text style=\"fill:#000000; fill-opacity:1; font-family:Arial,Helvetica Neue,Helvetica,sans-serif; font-size:48px; text-anchor:end;\" transform=\"rotate(0, 191.754, 1140.34)\" x=\"191.754\" y=\"1140.34\">0.4</text>\n",
       "</g>\n",
       "<g clip-path=\"url(#clip1700)\">\n",
       "<text style=\"fill:#000000; fill-opacity:1; font-family:Arial,Helvetica Neue,Helvetica,sans-serif; font-size:48px; text-anchor:end;\" transform=\"rotate(0, 191.754, 794.8)\" x=\"191.754\" y=\"794.8\">0.6</text>\n",
       "</g>\n",
       "<g clip-path=\"url(#clip1700)\">\n",
       "<text style=\"fill:#000000; fill-opacity:1; font-family:Arial,Helvetica Neue,Helvetica,sans-serif; font-size:48px; text-anchor:end;\" transform=\"rotate(0, 191.754, 449.26)\" x=\"191.754\" y=\"449.26\">0.8</text>\n",
       "</g>\n",
       "<g clip-path=\"url(#clip1700)\">\n",
       "<text style=\"fill:#000000; fill-opacity:1; font-family:Arial,Helvetica Neue,Helvetica,sans-serif; font-size:48px; text-anchor:end;\" transform=\"rotate(0, 191.754, 103.72)\" x=\"191.754\" y=\"103.72\">1.0</text>\n",
       "</g>\n",
       "<g clip-path=\"url(#clip1700)\">\n",
       "<text style=\"fill:#000000; fill-opacity:1; font-family:Arial,Helvetica Neue,Helvetica,sans-serif; font-size:66px; text-anchor:middle;\" transform=\"rotate(0, 1284.25, 1559.48)\" x=\"1284.25\" y=\"1559.48\">h</text>\n",
       "</g>\n",
       "<g clip-path=\"url(#clip1700)\">\n",
       "<text style=\"fill:#000000; fill-opacity:1; font-family:Arial,Helvetica Neue,Helvetica,sans-serif; font-size:66px; text-anchor:middle;\" transform=\"rotate(-90, 89.2861, 736.431)\" x=\"89.2861\" y=\"736.431\">M(h)</text>\n",
       "</g>\n",
       "<polyline clip-path=\"url(#clip1702)\" style=\"stroke:#009af9; stroke-width:4; stroke-opacity:1; fill:none\" points=\"\n",
       "  276.235,86.3929 500.24,87.5547 724.244,96.3948 948.248,156.733 1172.25,396.766 1396.26,702.04 1620.26,857.55 1844.27,916.652 2068.27,938.052 2292.27,945.751 \n",
       "  \n",
       "  \"/>\n",
       "<circle clip-path=\"url(#clip1702)\" style=\"fill:#000000; stroke:none; fill-opacity:1\" cx=\"276.235\" cy=\"86.3929\" r=\"18\"/>\n",
       "<circle clip-path=\"url(#clip1702)\" style=\"fill:#009af9; stroke:none; fill-opacity:1\" cx=\"276.235\" cy=\"86.3929\" r=\"14\"/>\n",
       "<circle clip-path=\"url(#clip1702)\" style=\"fill:#000000; stroke:none; fill-opacity:1\" cx=\"500.24\" cy=\"87.5547\" r=\"18\"/>\n",
       "<circle clip-path=\"url(#clip1702)\" style=\"fill:#009af9; stroke:none; fill-opacity:1\" cx=\"500.24\" cy=\"87.5547\" r=\"14\"/>\n",
       "<circle clip-path=\"url(#clip1702)\" style=\"fill:#000000; stroke:none; fill-opacity:1\" cx=\"724.244\" cy=\"96.3948\" r=\"18\"/>\n",
       "<circle clip-path=\"url(#clip1702)\" style=\"fill:#009af9; stroke:none; fill-opacity:1\" cx=\"724.244\" cy=\"96.3948\" r=\"14\"/>\n",
       "<circle clip-path=\"url(#clip1702)\" style=\"fill:#000000; stroke:none; fill-opacity:1\" cx=\"948.248\" cy=\"156.733\" r=\"18\"/>\n",
       "<circle clip-path=\"url(#clip1702)\" style=\"fill:#009af9; stroke:none; fill-opacity:1\" cx=\"948.248\" cy=\"156.733\" r=\"14\"/>\n",
       "<circle clip-path=\"url(#clip1702)\" style=\"fill:#000000; stroke:none; fill-opacity:1\" cx=\"1172.25\" cy=\"396.766\" r=\"18\"/>\n",
       "<circle clip-path=\"url(#clip1702)\" style=\"fill:#009af9; stroke:none; fill-opacity:1\" cx=\"1172.25\" cy=\"396.766\" r=\"14\"/>\n",
       "<circle clip-path=\"url(#clip1702)\" style=\"fill:#000000; stroke:none; fill-opacity:1\" cx=\"1396.26\" cy=\"702.04\" r=\"18\"/>\n",
       "<circle clip-path=\"url(#clip1702)\" style=\"fill:#009af9; stroke:none; fill-opacity:1\" cx=\"1396.26\" cy=\"702.04\" r=\"14\"/>\n",
       "<circle clip-path=\"url(#clip1702)\" style=\"fill:#000000; stroke:none; fill-opacity:1\" cx=\"1620.26\" cy=\"857.55\" r=\"18\"/>\n",
       "<circle clip-path=\"url(#clip1702)\" style=\"fill:#009af9; stroke:none; fill-opacity:1\" cx=\"1620.26\" cy=\"857.55\" r=\"14\"/>\n",
       "<circle clip-path=\"url(#clip1702)\" style=\"fill:#000000; stroke:none; fill-opacity:1\" cx=\"1844.27\" cy=\"916.652\" r=\"18\"/>\n",
       "<circle clip-path=\"url(#clip1702)\" style=\"fill:#009af9; stroke:none; fill-opacity:1\" cx=\"1844.27\" cy=\"916.652\" r=\"14\"/>\n",
       "<circle clip-path=\"url(#clip1702)\" style=\"fill:#000000; stroke:none; fill-opacity:1\" cx=\"2068.27\" cy=\"938.052\" r=\"18\"/>\n",
       "<circle clip-path=\"url(#clip1702)\" style=\"fill:#009af9; stroke:none; fill-opacity:1\" cx=\"2068.27\" cy=\"938.052\" r=\"14\"/>\n",
       "<circle clip-path=\"url(#clip1702)\" style=\"fill:#000000; stroke:none; fill-opacity:1\" cx=\"2292.27\" cy=\"945.751\" r=\"18\"/>\n",
       "<circle clip-path=\"url(#clip1702)\" style=\"fill:#009af9; stroke:none; fill-opacity:1\" cx=\"2292.27\" cy=\"945.751\" r=\"14\"/>\n",
       "<polyline clip-path=\"url(#clip1702)\" style=\"stroke:#e26f46; stroke-width:4; stroke-opacity:1; fill:none\" points=\"\n",
       "  276.235,86.2859 500.24,86.7435 724.244,90.5686 948.248,125.303 1172.25,370.56 1396.26,742.444 1620.26,883.075 1844.27,927.128 2068.27,941.974 2292.27,947.179 \n",
       "  \n",
       "  \"/>\n",
       "<circle clip-path=\"url(#clip1702)\" style=\"fill:#000000; stroke:none; fill-opacity:1\" cx=\"276.235\" cy=\"86.2859\" r=\"18\"/>\n",
       "<circle clip-path=\"url(#clip1702)\" style=\"fill:#e26f46; stroke:none; fill-opacity:1\" cx=\"276.235\" cy=\"86.2859\" r=\"14\"/>\n",
       "<circle clip-path=\"url(#clip1702)\" style=\"fill:#000000; stroke:none; fill-opacity:1\" cx=\"500.24\" cy=\"86.7435\" r=\"18\"/>\n",
       "<circle clip-path=\"url(#clip1702)\" style=\"fill:#e26f46; stroke:none; fill-opacity:1\" cx=\"500.24\" cy=\"86.7435\" r=\"14\"/>\n",
       "<circle clip-path=\"url(#clip1702)\" style=\"fill:#000000; stroke:none; fill-opacity:1\" cx=\"724.244\" cy=\"90.5686\" r=\"18\"/>\n",
       "<circle clip-path=\"url(#clip1702)\" style=\"fill:#e26f46; stroke:none; fill-opacity:1\" cx=\"724.244\" cy=\"90.5686\" r=\"14\"/>\n",
       "<circle clip-path=\"url(#clip1702)\" style=\"fill:#000000; stroke:none; fill-opacity:1\" cx=\"948.248\" cy=\"125.303\" r=\"18\"/>\n",
       "<circle clip-path=\"url(#clip1702)\" style=\"fill:#e26f46; stroke:none; fill-opacity:1\" cx=\"948.248\" cy=\"125.303\" r=\"14\"/>\n",
       "<circle clip-path=\"url(#clip1702)\" style=\"fill:#000000; stroke:none; fill-opacity:1\" cx=\"1172.25\" cy=\"370.56\" r=\"18\"/>\n",
       "<circle clip-path=\"url(#clip1702)\" style=\"fill:#e26f46; stroke:none; fill-opacity:1\" cx=\"1172.25\" cy=\"370.56\" r=\"14\"/>\n",
       "<circle clip-path=\"url(#clip1702)\" style=\"fill:#000000; stroke:none; fill-opacity:1\" cx=\"1396.26\" cy=\"742.444\" r=\"18\"/>\n",
       "<circle clip-path=\"url(#clip1702)\" style=\"fill:#e26f46; stroke:none; fill-opacity:1\" cx=\"1396.26\" cy=\"742.444\" r=\"14\"/>\n",
       "<circle clip-path=\"url(#clip1702)\" style=\"fill:#000000; stroke:none; fill-opacity:1\" cx=\"1620.26\" cy=\"883.075\" r=\"18\"/>\n",
       "<circle clip-path=\"url(#clip1702)\" style=\"fill:#e26f46; stroke:none; fill-opacity:1\" cx=\"1620.26\" cy=\"883.075\" r=\"14\"/>\n",
       "<circle clip-path=\"url(#clip1702)\" style=\"fill:#000000; stroke:none; fill-opacity:1\" cx=\"1844.27\" cy=\"927.128\" r=\"18\"/>\n",
       "<circle clip-path=\"url(#clip1702)\" style=\"fill:#e26f46; stroke:none; fill-opacity:1\" cx=\"1844.27\" cy=\"927.128\" r=\"14\"/>\n",
       "<circle clip-path=\"url(#clip1702)\" style=\"fill:#000000; stroke:none; fill-opacity:1\" cx=\"2068.27\" cy=\"941.974\" r=\"18\"/>\n",
       "<circle clip-path=\"url(#clip1702)\" style=\"fill:#e26f46; stroke:none; fill-opacity:1\" cx=\"2068.27\" cy=\"941.974\" r=\"14\"/>\n",
       "<circle clip-path=\"url(#clip1702)\" style=\"fill:#000000; stroke:none; fill-opacity:1\" cx=\"2292.27\" cy=\"947.179\" r=\"18\"/>\n",
       "<circle clip-path=\"url(#clip1702)\" style=\"fill:#e26f46; stroke:none; fill-opacity:1\" cx=\"2292.27\" cy=\"947.179\" r=\"14\"/>\n",
       "<polyline clip-path=\"url(#clip1702)\" style=\"stroke:#3da44d; stroke-width:4; stroke-opacity:1; fill:none\" points=\"\n",
       "  276.235,86.2741 500.24,86.6392 724.244,89.5189 948.248,114.792 1172.25,378.214 1396.26,919.22 1620.26,1090.45 1844.27,1140.27 2068.27,1156.93 2292.27,1162.78 \n",
       "  \n",
       "  \"/>\n",
       "<circle clip-path=\"url(#clip1702)\" style=\"fill:#000000; stroke:none; fill-opacity:1\" cx=\"276.235\" cy=\"86.2741\" r=\"18\"/>\n",
       "<circle clip-path=\"url(#clip1702)\" style=\"fill:#3da44d; stroke:none; fill-opacity:1\" cx=\"276.235\" cy=\"86.2741\" r=\"14\"/>\n",
       "<circle clip-path=\"url(#clip1702)\" style=\"fill:#000000; stroke:none; fill-opacity:1\" cx=\"500.24\" cy=\"86.6392\" r=\"18\"/>\n",
       "<circle clip-path=\"url(#clip1702)\" style=\"fill:#3da44d; stroke:none; fill-opacity:1\" cx=\"500.24\" cy=\"86.6392\" r=\"14\"/>\n",
       "<circle clip-path=\"url(#clip1702)\" style=\"fill:#000000; stroke:none; fill-opacity:1\" cx=\"724.244\" cy=\"89.5189\" r=\"18\"/>\n",
       "<circle clip-path=\"url(#clip1702)\" style=\"fill:#3da44d; stroke:none; fill-opacity:1\" cx=\"724.244\" cy=\"89.5189\" r=\"14\"/>\n",
       "<circle clip-path=\"url(#clip1702)\" style=\"fill:#000000; stroke:none; fill-opacity:1\" cx=\"948.248\" cy=\"114.792\" r=\"18\"/>\n",
       "<circle clip-path=\"url(#clip1702)\" style=\"fill:#3da44d; stroke:none; fill-opacity:1\" cx=\"948.248\" cy=\"114.792\" r=\"14\"/>\n",
       "<circle clip-path=\"url(#clip1702)\" style=\"fill:#000000; stroke:none; fill-opacity:1\" cx=\"1172.25\" cy=\"378.214\" r=\"18\"/>\n",
       "<circle clip-path=\"url(#clip1702)\" style=\"fill:#3da44d; stroke:none; fill-opacity:1\" cx=\"1172.25\" cy=\"378.214\" r=\"14\"/>\n",
       "<circle clip-path=\"url(#clip1702)\" style=\"fill:#000000; stroke:none; fill-opacity:1\" cx=\"1396.26\" cy=\"919.22\" r=\"18\"/>\n",
       "<circle clip-path=\"url(#clip1702)\" style=\"fill:#3da44d; stroke:none; fill-opacity:1\" cx=\"1396.26\" cy=\"919.22\" r=\"14\"/>\n",
       "<circle clip-path=\"url(#clip1702)\" style=\"fill:#000000; stroke:none; fill-opacity:1\" cx=\"1620.26\" cy=\"1090.45\" r=\"18\"/>\n",
       "<circle clip-path=\"url(#clip1702)\" style=\"fill:#3da44d; stroke:none; fill-opacity:1\" cx=\"1620.26\" cy=\"1090.45\" r=\"14\"/>\n",
       "<circle clip-path=\"url(#clip1702)\" style=\"fill:#000000; stroke:none; fill-opacity:1\" cx=\"1844.27\" cy=\"1140.27\" r=\"18\"/>\n",
       "<circle clip-path=\"url(#clip1702)\" style=\"fill:#3da44d; stroke:none; fill-opacity:1\" cx=\"1844.27\" cy=\"1140.27\" r=\"14\"/>\n",
       "<circle clip-path=\"url(#clip1702)\" style=\"fill:#000000; stroke:none; fill-opacity:1\" cx=\"2068.27\" cy=\"1156.93\" r=\"18\"/>\n",
       "<circle clip-path=\"url(#clip1702)\" style=\"fill:#3da44d; stroke:none; fill-opacity:1\" cx=\"2068.27\" cy=\"1156.93\" r=\"14\"/>\n",
       "<circle clip-path=\"url(#clip1702)\" style=\"fill:#000000; stroke:none; fill-opacity:1\" cx=\"2292.27\" cy=\"1162.78\" r=\"18\"/>\n",
       "<circle clip-path=\"url(#clip1702)\" style=\"fill:#3da44d; stroke:none; fill-opacity:1\" cx=\"2292.27\" cy=\"1162.78\" r=\"14\"/>\n",
       "<polyline clip-path=\"url(#clip1702)\" style=\"stroke:#c271d2; stroke-width:4; stroke-opacity:1; fill:none\" points=\"\n",
       "  276.235,86.2677 500.24,86.5882 724.244,89.0844 948.248,109.641 1172.25,345.889 1396.26,949.354 1620.26,1104.05 1844.27,1145.25 2068.27,1158.73 2292.27,1163.43 \n",
       "  \n",
       "  \"/>\n",
       "<circle clip-path=\"url(#clip1702)\" style=\"fill:#000000; stroke:none; fill-opacity:1\" cx=\"276.235\" cy=\"86.2677\" r=\"18\"/>\n",
       "<circle clip-path=\"url(#clip1702)\" style=\"fill:#c271d2; stroke:none; fill-opacity:1\" cx=\"276.235\" cy=\"86.2677\" r=\"14\"/>\n",
       "<circle clip-path=\"url(#clip1702)\" style=\"fill:#000000; stroke:none; fill-opacity:1\" cx=\"500.24\" cy=\"86.5882\" r=\"18\"/>\n",
       "<circle clip-path=\"url(#clip1702)\" style=\"fill:#c271d2; stroke:none; fill-opacity:1\" cx=\"500.24\" cy=\"86.5882\" r=\"14\"/>\n",
       "<circle clip-path=\"url(#clip1702)\" style=\"fill:#000000; stroke:none; fill-opacity:1\" cx=\"724.244\" cy=\"89.0844\" r=\"18\"/>\n",
       "<circle clip-path=\"url(#clip1702)\" style=\"fill:#c271d2; stroke:none; fill-opacity:1\" cx=\"724.244\" cy=\"89.0844\" r=\"14\"/>\n",
       "<circle clip-path=\"url(#clip1702)\" style=\"fill:#000000; stroke:none; fill-opacity:1\" cx=\"948.248\" cy=\"109.641\" r=\"18\"/>\n",
       "<circle clip-path=\"url(#clip1702)\" style=\"fill:#c271d2; stroke:none; fill-opacity:1\" cx=\"948.248\" cy=\"109.641\" r=\"14\"/>\n",
       "<circle clip-path=\"url(#clip1702)\" style=\"fill:#000000; stroke:none; fill-opacity:1\" cx=\"1172.25\" cy=\"345.889\" r=\"18\"/>\n",
       "<circle clip-path=\"url(#clip1702)\" style=\"fill:#c271d2; stroke:none; fill-opacity:1\" cx=\"1172.25\" cy=\"345.889\" r=\"14\"/>\n",
       "<circle clip-path=\"url(#clip1702)\" style=\"fill:#000000; stroke:none; fill-opacity:1\" cx=\"1396.26\" cy=\"949.354\" r=\"18\"/>\n",
       "<circle clip-path=\"url(#clip1702)\" style=\"fill:#c271d2; stroke:none; fill-opacity:1\" cx=\"1396.26\" cy=\"949.354\" r=\"14\"/>\n",
       "<circle clip-path=\"url(#clip1702)\" style=\"fill:#000000; stroke:none; fill-opacity:1\" cx=\"1620.26\" cy=\"1104.05\" r=\"18\"/>\n",
       "<circle clip-path=\"url(#clip1702)\" style=\"fill:#c271d2; stroke:none; fill-opacity:1\" cx=\"1620.26\" cy=\"1104.05\" r=\"14\"/>\n",
       "<circle clip-path=\"url(#clip1702)\" style=\"fill:#000000; stroke:none; fill-opacity:1\" cx=\"1844.27\" cy=\"1145.25\" r=\"18\"/>\n",
       "<circle clip-path=\"url(#clip1702)\" style=\"fill:#c271d2; stroke:none; fill-opacity:1\" cx=\"1844.27\" cy=\"1145.25\" r=\"14\"/>\n",
       "<circle clip-path=\"url(#clip1702)\" style=\"fill:#000000; stroke:none; fill-opacity:1\" cx=\"2068.27\" cy=\"1158.73\" r=\"18\"/>\n",
       "<circle clip-path=\"url(#clip1702)\" style=\"fill:#c271d2; stroke:none; fill-opacity:1\" cx=\"2068.27\" cy=\"1158.73\" r=\"14\"/>\n",
       "<circle clip-path=\"url(#clip1702)\" style=\"fill:#000000; stroke:none; fill-opacity:1\" cx=\"2292.27\" cy=\"1163.43\" r=\"18\"/>\n",
       "<circle clip-path=\"url(#clip1702)\" style=\"fill:#c271d2; stroke:none; fill-opacity:1\" cx=\"2292.27\" cy=\"1163.43\" r=\"14\"/>\n",
       "<polyline clip-path=\"url(#clip1702)\" style=\"stroke:#ac8d18; stroke-width:4; stroke-opacity:1; fill:none\" points=\"\n",
       "  276.235,86.2633 500.24,86.5547 724.244,88.8204 948.248,107.085 1172.25,325.664 1396.26,1046 1620.26,1209.79 1844.27,1252.42 2068.27,1266.42 2292.27,1271.3 \n",
       "  \n",
       "  \"/>\n",
       "<circle clip-path=\"url(#clip1702)\" style=\"fill:#000000; stroke:none; fill-opacity:1\" cx=\"276.235\" cy=\"86.2633\" r=\"18\"/>\n",
       "<circle clip-path=\"url(#clip1702)\" style=\"fill:#ac8d18; stroke:none; fill-opacity:1\" cx=\"276.235\" cy=\"86.2633\" r=\"14\"/>\n",
       "<circle clip-path=\"url(#clip1702)\" style=\"fill:#000000; stroke:none; fill-opacity:1\" cx=\"500.24\" cy=\"86.5547\" r=\"18\"/>\n",
       "<circle clip-path=\"url(#clip1702)\" style=\"fill:#ac8d18; stroke:none; fill-opacity:1\" cx=\"500.24\" cy=\"86.5547\" r=\"14\"/>\n",
       "<circle clip-path=\"url(#clip1702)\" style=\"fill:#000000; stroke:none; fill-opacity:1\" cx=\"724.244\" cy=\"88.8204\" r=\"18\"/>\n",
       "<circle clip-path=\"url(#clip1702)\" style=\"fill:#ac8d18; stroke:none; fill-opacity:1\" cx=\"724.244\" cy=\"88.8204\" r=\"14\"/>\n",
       "<circle clip-path=\"url(#clip1702)\" style=\"fill:#000000; stroke:none; fill-opacity:1\" cx=\"948.248\" cy=\"107.085\" r=\"18\"/>\n",
       "<circle clip-path=\"url(#clip1702)\" style=\"fill:#ac8d18; stroke:none; fill-opacity:1\" cx=\"948.248\" cy=\"107.085\" r=\"14\"/>\n",
       "<circle clip-path=\"url(#clip1702)\" style=\"fill:#000000; stroke:none; fill-opacity:1\" cx=\"1172.25\" cy=\"325.664\" r=\"18\"/>\n",
       "<circle clip-path=\"url(#clip1702)\" style=\"fill:#ac8d18; stroke:none; fill-opacity:1\" cx=\"1172.25\" cy=\"325.664\" r=\"14\"/>\n",
       "<circle clip-path=\"url(#clip1702)\" style=\"fill:#000000; stroke:none; fill-opacity:1\" cx=\"1396.26\" cy=\"1046\" r=\"18\"/>\n",
       "<circle clip-path=\"url(#clip1702)\" style=\"fill:#ac8d18; stroke:none; fill-opacity:1\" cx=\"1396.26\" cy=\"1046\" r=\"14\"/>\n",
       "<circle clip-path=\"url(#clip1702)\" style=\"fill:#000000; stroke:none; fill-opacity:1\" cx=\"1620.26\" cy=\"1209.79\" r=\"18\"/>\n",
       "<circle clip-path=\"url(#clip1702)\" style=\"fill:#ac8d18; stroke:none; fill-opacity:1\" cx=\"1620.26\" cy=\"1209.79\" r=\"14\"/>\n",
       "<circle clip-path=\"url(#clip1702)\" style=\"fill:#000000; stroke:none; fill-opacity:1\" cx=\"1844.27\" cy=\"1252.42\" r=\"18\"/>\n",
       "<circle clip-path=\"url(#clip1702)\" style=\"fill:#ac8d18; stroke:none; fill-opacity:1\" cx=\"1844.27\" cy=\"1252.42\" r=\"14\"/>\n",
       "<circle clip-path=\"url(#clip1702)\" style=\"fill:#000000; stroke:none; fill-opacity:1\" cx=\"2068.27\" cy=\"1266.42\" r=\"18\"/>\n",
       "<circle clip-path=\"url(#clip1702)\" style=\"fill:#ac8d18; stroke:none; fill-opacity:1\" cx=\"2068.27\" cy=\"1266.42\" r=\"14\"/>\n",
       "<circle clip-path=\"url(#clip1702)\" style=\"fill:#000000; stroke:none; fill-opacity:1\" cx=\"2292.27\" cy=\"1271.3\" r=\"18\"/>\n",
       "<circle clip-path=\"url(#clip1702)\" style=\"fill:#ac8d18; stroke:none; fill-opacity:1\" cx=\"2292.27\" cy=\"1271.3\" r=\"14\"/>\n",
       "<polyline clip-path=\"url(#clip1702)\" style=\"stroke:#00a9ad; stroke-width:4; stroke-opacity:1; fill:none\" points=\"\n",
       "  276.235,86.2602 500.24,86.5308 724.244,88.6341 948.248,105.465 1172.25,301.258 1396.26,1068.27 1620.26,1218.22 1844.27,1255.42 2068.27,1267.49 2292.27,1271.69 \n",
       "  \n",
       "  \"/>\n",
       "<circle clip-path=\"url(#clip1702)\" style=\"fill:#000000; stroke:none; fill-opacity:1\" cx=\"276.235\" cy=\"86.2602\" r=\"18\"/>\n",
       "<circle clip-path=\"url(#clip1702)\" style=\"fill:#00a9ad; stroke:none; fill-opacity:1\" cx=\"276.235\" cy=\"86.2602\" r=\"14\"/>\n",
       "<circle clip-path=\"url(#clip1702)\" style=\"fill:#000000; stroke:none; fill-opacity:1\" cx=\"500.24\" cy=\"86.5308\" r=\"18\"/>\n",
       "<circle clip-path=\"url(#clip1702)\" style=\"fill:#00a9ad; stroke:none; fill-opacity:1\" cx=\"500.24\" cy=\"86.5308\" r=\"14\"/>\n",
       "<circle clip-path=\"url(#clip1702)\" style=\"fill:#000000; stroke:none; fill-opacity:1\" cx=\"724.244\" cy=\"88.6341\" r=\"18\"/>\n",
       "<circle clip-path=\"url(#clip1702)\" style=\"fill:#00a9ad; stroke:none; fill-opacity:1\" cx=\"724.244\" cy=\"88.6341\" r=\"14\"/>\n",
       "<circle clip-path=\"url(#clip1702)\" style=\"fill:#000000; stroke:none; fill-opacity:1\" cx=\"948.248\" cy=\"105.465\" r=\"18\"/>\n",
       "<circle clip-path=\"url(#clip1702)\" style=\"fill:#00a9ad; stroke:none; fill-opacity:1\" cx=\"948.248\" cy=\"105.465\" r=\"14\"/>\n",
       "<circle clip-path=\"url(#clip1702)\" style=\"fill:#000000; stroke:none; fill-opacity:1\" cx=\"1172.25\" cy=\"301.258\" r=\"18\"/>\n",
       "<circle clip-path=\"url(#clip1702)\" style=\"fill:#00a9ad; stroke:none; fill-opacity:1\" cx=\"1172.25\" cy=\"301.258\" r=\"14\"/>\n",
       "<circle clip-path=\"url(#clip1702)\" style=\"fill:#000000; stroke:none; fill-opacity:1\" cx=\"1396.26\" cy=\"1068.27\" r=\"18\"/>\n",
       "<circle clip-path=\"url(#clip1702)\" style=\"fill:#00a9ad; stroke:none; fill-opacity:1\" cx=\"1396.26\" cy=\"1068.27\" r=\"14\"/>\n",
       "<circle clip-path=\"url(#clip1702)\" style=\"fill:#000000; stroke:none; fill-opacity:1\" cx=\"1620.26\" cy=\"1218.22\" r=\"18\"/>\n",
       "<circle clip-path=\"url(#clip1702)\" style=\"fill:#00a9ad; stroke:none; fill-opacity:1\" cx=\"1620.26\" cy=\"1218.22\" r=\"14\"/>\n",
       "<circle clip-path=\"url(#clip1702)\" style=\"fill:#000000; stroke:none; fill-opacity:1\" cx=\"1844.27\" cy=\"1255.42\" r=\"18\"/>\n",
       "<circle clip-path=\"url(#clip1702)\" style=\"fill:#00a9ad; stroke:none; fill-opacity:1\" cx=\"1844.27\" cy=\"1255.42\" r=\"14\"/>\n",
       "<circle clip-path=\"url(#clip1702)\" style=\"fill:#000000; stroke:none; fill-opacity:1\" cx=\"2068.27\" cy=\"1267.49\" r=\"18\"/>\n",
       "<circle clip-path=\"url(#clip1702)\" style=\"fill:#00a9ad; stroke:none; fill-opacity:1\" cx=\"2068.27\" cy=\"1267.49\" r=\"14\"/>\n",
       "<circle clip-path=\"url(#clip1702)\" style=\"fill:#000000; stroke:none; fill-opacity:1\" cx=\"2292.27\" cy=\"1271.69\" r=\"18\"/>\n",
       "<circle clip-path=\"url(#clip1702)\" style=\"fill:#00a9ad; stroke:none; fill-opacity:1\" cx=\"2292.27\" cy=\"1271.69\" r=\"14\"/>\n",
       "<polyline clip-path=\"url(#clip1702)\" style=\"stroke:#ed5d92; stroke-width:4; stroke-opacity:1; fill:none\" points=\"\n",
       "  276.235,86.2579 500.24,86.5129 724.244,88.4946 948.248,104.315 1172.25,283.972 1396.26,1132 1620.26,1284.85 1844.27,1322.56 2068.27,1334.85 2292.27,1339.13 \n",
       "  \n",
       "  \"/>\n",
       "<circle clip-path=\"url(#clip1702)\" style=\"fill:#000000; stroke:none; fill-opacity:1\" cx=\"276.235\" cy=\"86.2579\" r=\"18\"/>\n",
       "<circle clip-path=\"url(#clip1702)\" style=\"fill:#ed5d92; stroke:none; fill-opacity:1\" cx=\"276.235\" cy=\"86.2579\" r=\"14\"/>\n",
       "<circle clip-path=\"url(#clip1702)\" style=\"fill:#000000; stroke:none; fill-opacity:1\" cx=\"500.24\" cy=\"86.5129\" r=\"18\"/>\n",
       "<circle clip-path=\"url(#clip1702)\" style=\"fill:#ed5d92; stroke:none; fill-opacity:1\" cx=\"500.24\" cy=\"86.5129\" r=\"14\"/>\n",
       "<circle clip-path=\"url(#clip1702)\" style=\"fill:#000000; stroke:none; fill-opacity:1\" cx=\"724.244\" cy=\"88.4946\" r=\"18\"/>\n",
       "<circle clip-path=\"url(#clip1702)\" style=\"fill:#ed5d92; stroke:none; fill-opacity:1\" cx=\"724.244\" cy=\"88.4946\" r=\"14\"/>\n",
       "<circle clip-path=\"url(#clip1702)\" style=\"fill:#000000; stroke:none; fill-opacity:1\" cx=\"948.248\" cy=\"104.315\" r=\"18\"/>\n",
       "<circle clip-path=\"url(#clip1702)\" style=\"fill:#ed5d92; stroke:none; fill-opacity:1\" cx=\"948.248\" cy=\"104.315\" r=\"14\"/>\n",
       "<circle clip-path=\"url(#clip1702)\" style=\"fill:#000000; stroke:none; fill-opacity:1\" cx=\"1172.25\" cy=\"283.972\" r=\"18\"/>\n",
       "<circle clip-path=\"url(#clip1702)\" style=\"fill:#ed5d92; stroke:none; fill-opacity:1\" cx=\"1172.25\" cy=\"283.972\" r=\"14\"/>\n",
       "<circle clip-path=\"url(#clip1702)\" style=\"fill:#000000; stroke:none; fill-opacity:1\" cx=\"1396.26\" cy=\"1132\" r=\"18\"/>\n",
       "<circle clip-path=\"url(#clip1702)\" style=\"fill:#ed5d92; stroke:none; fill-opacity:1\" cx=\"1396.26\" cy=\"1132\" r=\"14\"/>\n",
       "<circle clip-path=\"url(#clip1702)\" style=\"fill:#000000; stroke:none; fill-opacity:1\" cx=\"1620.26\" cy=\"1284.85\" r=\"18\"/>\n",
       "<circle clip-path=\"url(#clip1702)\" style=\"fill:#ed5d92; stroke:none; fill-opacity:1\" cx=\"1620.26\" cy=\"1284.85\" r=\"14\"/>\n",
       "<circle clip-path=\"url(#clip1702)\" style=\"fill:#000000; stroke:none; fill-opacity:1\" cx=\"1844.27\" cy=\"1322.56\" r=\"18\"/>\n",
       "<circle clip-path=\"url(#clip1702)\" style=\"fill:#ed5d92; stroke:none; fill-opacity:1\" cx=\"1844.27\" cy=\"1322.56\" r=\"14\"/>\n",
       "<circle clip-path=\"url(#clip1702)\" style=\"fill:#000000; stroke:none; fill-opacity:1\" cx=\"2068.27\" cy=\"1334.85\" r=\"18\"/>\n",
       "<circle clip-path=\"url(#clip1702)\" style=\"fill:#ed5d92; stroke:none; fill-opacity:1\" cx=\"2068.27\" cy=\"1334.85\" r=\"14\"/>\n",
       "<circle clip-path=\"url(#clip1702)\" style=\"fill:#000000; stroke:none; fill-opacity:1\" cx=\"2292.27\" cy=\"1339.13\" r=\"18\"/>\n",
       "<circle clip-path=\"url(#clip1702)\" style=\"fill:#ed5d92; stroke:none; fill-opacity:1\" cx=\"2292.27\" cy=\"1339.13\" r=\"14\"/>\n",
       "<polyline clip-path=\"url(#clip1702)\" style=\"stroke:#c68125; stroke-width:4; stroke-opacity:1; fill:none\" points=\"\n",
       "  276.235,86.2561 500.24,86.499 724.244,88.3861 948.248,103.436 1172.25,268.703 1396.26,1148.93 1620.26,1290.68 1844.27,1324.61 2068.27,1335.58 2292.27,1339.39 \n",
       "  \n",
       "  \"/>\n",
       "<circle clip-path=\"url(#clip1702)\" style=\"fill:#000000; stroke:none; fill-opacity:1\" cx=\"276.235\" cy=\"86.2561\" r=\"18\"/>\n",
       "<circle clip-path=\"url(#clip1702)\" style=\"fill:#c68125; stroke:none; fill-opacity:1\" cx=\"276.235\" cy=\"86.2561\" r=\"14\"/>\n",
       "<circle clip-path=\"url(#clip1702)\" style=\"fill:#000000; stroke:none; fill-opacity:1\" cx=\"500.24\" cy=\"86.499\" r=\"18\"/>\n",
       "<circle clip-path=\"url(#clip1702)\" style=\"fill:#c68125; stroke:none; fill-opacity:1\" cx=\"500.24\" cy=\"86.499\" r=\"14\"/>\n",
       "<circle clip-path=\"url(#clip1702)\" style=\"fill:#000000; stroke:none; fill-opacity:1\" cx=\"724.244\" cy=\"88.3861\" r=\"18\"/>\n",
       "<circle clip-path=\"url(#clip1702)\" style=\"fill:#c68125; stroke:none; fill-opacity:1\" cx=\"724.244\" cy=\"88.3861\" r=\"14\"/>\n",
       "<circle clip-path=\"url(#clip1702)\" style=\"fill:#000000; stroke:none; fill-opacity:1\" cx=\"948.248\" cy=\"103.436\" r=\"18\"/>\n",
       "<circle clip-path=\"url(#clip1702)\" style=\"fill:#c68125; stroke:none; fill-opacity:1\" cx=\"948.248\" cy=\"103.436\" r=\"14\"/>\n",
       "<circle clip-path=\"url(#clip1702)\" style=\"fill:#000000; stroke:none; fill-opacity:1\" cx=\"1172.25\" cy=\"268.703\" r=\"18\"/>\n",
       "<circle clip-path=\"url(#clip1702)\" style=\"fill:#c68125; stroke:none; fill-opacity:1\" cx=\"1172.25\" cy=\"268.703\" r=\"14\"/>\n",
       "<circle clip-path=\"url(#clip1702)\" style=\"fill:#000000; stroke:none; fill-opacity:1\" cx=\"1396.26\" cy=\"1148.93\" r=\"18\"/>\n",
       "<circle clip-path=\"url(#clip1702)\" style=\"fill:#c68125; stroke:none; fill-opacity:1\" cx=\"1396.26\" cy=\"1148.93\" r=\"14\"/>\n",
       "<circle clip-path=\"url(#clip1702)\" style=\"fill:#000000; stroke:none; fill-opacity:1\" cx=\"1620.26\" cy=\"1290.68\" r=\"18\"/>\n",
       "<circle clip-path=\"url(#clip1702)\" style=\"fill:#c68125; stroke:none; fill-opacity:1\" cx=\"1620.26\" cy=\"1290.68\" r=\"14\"/>\n",
       "<circle clip-path=\"url(#clip1702)\" style=\"fill:#000000; stroke:none; fill-opacity:1\" cx=\"1844.27\" cy=\"1324.61\" r=\"18\"/>\n",
       "<circle clip-path=\"url(#clip1702)\" style=\"fill:#c68125; stroke:none; fill-opacity:1\" cx=\"1844.27\" cy=\"1324.61\" r=\"14\"/>\n",
       "<circle clip-path=\"url(#clip1702)\" style=\"fill:#000000; stroke:none; fill-opacity:1\" cx=\"2068.27\" cy=\"1335.58\" r=\"18\"/>\n",
       "<circle clip-path=\"url(#clip1702)\" style=\"fill:#c68125; stroke:none; fill-opacity:1\" cx=\"2068.27\" cy=\"1335.58\" r=\"14\"/>\n",
       "<circle clip-path=\"url(#clip1702)\" style=\"fill:#000000; stroke:none; fill-opacity:1\" cx=\"2292.27\" cy=\"1339.39\" r=\"18\"/>\n",
       "<circle clip-path=\"url(#clip1702)\" style=\"fill:#c68125; stroke:none; fill-opacity:1\" cx=\"2292.27\" cy=\"1339.39\" r=\"14\"/>\n",
       "<polyline clip-path=\"url(#clip1702)\" style=\"stroke:#00a98d; stroke-width:4; stroke-opacity:1; fill:none\" points=\"\n",
       "  276.235,86.2547 500.24,86.4878 724.244,88.2993 948.248,102.736 1172.25,257.5 1396.26,1195.03 1620.26,1337.53 1844.27,1371.67 2068.27,1382.75 2292.27,1386.61 \n",
       "  \n",
       "  \"/>\n",
       "<circle clip-path=\"url(#clip1702)\" style=\"fill:#000000; stroke:none; fill-opacity:1\" cx=\"276.235\" cy=\"86.2547\" r=\"18\"/>\n",
       "<circle clip-path=\"url(#clip1702)\" style=\"fill:#00a98d; stroke:none; fill-opacity:1\" cx=\"276.235\" cy=\"86.2547\" r=\"14\"/>\n",
       "<circle clip-path=\"url(#clip1702)\" style=\"fill:#000000; stroke:none; fill-opacity:1\" cx=\"500.24\" cy=\"86.4878\" r=\"18\"/>\n",
       "<circle clip-path=\"url(#clip1702)\" style=\"fill:#00a98d; stroke:none; fill-opacity:1\" cx=\"500.24\" cy=\"86.4878\" r=\"14\"/>\n",
       "<circle clip-path=\"url(#clip1702)\" style=\"fill:#000000; stroke:none; fill-opacity:1\" cx=\"724.244\" cy=\"88.2993\" r=\"18\"/>\n",
       "<circle clip-path=\"url(#clip1702)\" style=\"fill:#00a98d; stroke:none; fill-opacity:1\" cx=\"724.244\" cy=\"88.2993\" r=\"14\"/>\n",
       "<circle clip-path=\"url(#clip1702)\" style=\"fill:#000000; stroke:none; fill-opacity:1\" cx=\"948.248\" cy=\"102.736\" r=\"18\"/>\n",
       "<circle clip-path=\"url(#clip1702)\" style=\"fill:#00a98d; stroke:none; fill-opacity:1\" cx=\"948.248\" cy=\"102.736\" r=\"14\"/>\n",
       "<circle clip-path=\"url(#clip1702)\" style=\"fill:#000000; stroke:none; fill-opacity:1\" cx=\"1172.25\" cy=\"257.5\" r=\"18\"/>\n",
       "<circle clip-path=\"url(#clip1702)\" style=\"fill:#00a98d; stroke:none; fill-opacity:1\" cx=\"1172.25\" cy=\"257.5\" r=\"14\"/>\n",
       "<circle clip-path=\"url(#clip1702)\" style=\"fill:#000000; stroke:none; fill-opacity:1\" cx=\"1396.26\" cy=\"1195.03\" r=\"18\"/>\n",
       "<circle clip-path=\"url(#clip1702)\" style=\"fill:#00a98d; stroke:none; fill-opacity:1\" cx=\"1396.26\" cy=\"1195.03\" r=\"14\"/>\n",
       "<circle clip-path=\"url(#clip1702)\" style=\"fill:#000000; stroke:none; fill-opacity:1\" cx=\"1620.26\" cy=\"1337.53\" r=\"18\"/>\n",
       "<circle clip-path=\"url(#clip1702)\" style=\"fill:#00a98d; stroke:none; fill-opacity:1\" cx=\"1620.26\" cy=\"1337.53\" r=\"14\"/>\n",
       "<circle clip-path=\"url(#clip1702)\" style=\"fill:#000000; stroke:none; fill-opacity:1\" cx=\"1844.27\" cy=\"1371.67\" r=\"18\"/>\n",
       "<circle clip-path=\"url(#clip1702)\" style=\"fill:#00a98d; stroke:none; fill-opacity:1\" cx=\"1844.27\" cy=\"1371.67\" r=\"14\"/>\n",
       "<circle clip-path=\"url(#clip1702)\" style=\"fill:#000000; stroke:none; fill-opacity:1\" cx=\"2068.27\" cy=\"1382.75\" r=\"18\"/>\n",
       "<circle clip-path=\"url(#clip1702)\" style=\"fill:#00a98d; stroke:none; fill-opacity:1\" cx=\"2068.27\" cy=\"1382.75\" r=\"14\"/>\n",
       "<circle clip-path=\"url(#clip1702)\" style=\"fill:#000000; stroke:none; fill-opacity:1\" cx=\"2292.27\" cy=\"1386.61\" r=\"18\"/>\n",
       "<circle clip-path=\"url(#clip1702)\" style=\"fill:#00a98d; stroke:none; fill-opacity:1\" cx=\"2292.27\" cy=\"1386.61\" r=\"14\"/>\n",
       "<polygon clip-path=\"url(#clip1700)\" points=\"\n",
       "1897.61,735.564 2280.76,735.564 2280.76,130.764 1897.61,130.764 \n",
       "  \" fill=\"#ffffff\" fill-rule=\"evenodd\" fill-opacity=\"1\"/>\n",
       "<polyline clip-path=\"url(#clip1700)\" style=\"stroke:#000000; stroke-width:4; stroke-opacity:1; fill:none\" points=\"\n",
       "  1897.61,735.564 2280.76,735.564 2280.76,130.764 1897.61,130.764 1897.61,735.564 \n",
       "  \"/>\n",
       "<polyline clip-path=\"url(#clip1700)\" style=\"stroke:#009af9; stroke-width:4; stroke-opacity:1; fill:none\" points=\"\n",
       "  1921.61,191.244 2065.61,191.244 \n",
       "  \"/>\n",
       "<circle clip-path=\"url(#clip1700)\" style=\"fill:#000000; stroke:none; fill-opacity:1\" cx=\"2005.61\" cy=\"191.244\" r=\"25\"/>\n",
       "<circle clip-path=\"url(#clip1700)\" style=\"fill:#009af9; stroke:none; fill-opacity:1\" cx=\"2005.61\" cy=\"191.244\" r=\"21\"/>\n",
       "<g clip-path=\"url(#clip1700)\">\n",
       "<text style=\"fill:#000000; fill-opacity:1; font-family:Arial,Helvetica Neue,Helvetica,sans-serif; font-size:48px; text-anchor:start;\" transform=\"rotate(0, 2089.61, 208.744)\" x=\"2089.61\" y=\"208.744\">N = 2</text>\n",
       "</g>\n",
       "<polyline clip-path=\"url(#clip1700)\" style=\"stroke:#e26f46; stroke-width:4; stroke-opacity:1; fill:none\" points=\"\n",
       "  1921.61,251.724 2065.61,251.724 \n",
       "  \"/>\n",
       "<circle clip-path=\"url(#clip1700)\" style=\"fill:#000000; stroke:none; fill-opacity:1\" cx=\"2005.61\" cy=\"251.724\" r=\"25\"/>\n",
       "<circle clip-path=\"url(#clip1700)\" style=\"fill:#e26f46; stroke:none; fill-opacity:1\" cx=\"2005.61\" cy=\"251.724\" r=\"21\"/>\n",
       "<g clip-path=\"url(#clip1700)\">\n",
       "<text style=\"fill:#000000; fill-opacity:1; font-family:Arial,Helvetica Neue,Helvetica,sans-serif; font-size:48px; text-anchor:start;\" transform=\"rotate(0, 2089.61, 269.224)\" x=\"2089.61\" y=\"269.224\">N = 3</text>\n",
       "</g>\n",
       "<polyline clip-path=\"url(#clip1700)\" style=\"stroke:#3da44d; stroke-width:4; stroke-opacity:1; fill:none\" points=\"\n",
       "  1921.61,312.204 2065.61,312.204 \n",
       "  \"/>\n",
       "<circle clip-path=\"url(#clip1700)\" style=\"fill:#000000; stroke:none; fill-opacity:1\" cx=\"2005.61\" cy=\"312.204\" r=\"25\"/>\n",
       "<circle clip-path=\"url(#clip1700)\" style=\"fill:#3da44d; stroke:none; fill-opacity:1\" cx=\"2005.61\" cy=\"312.204\" r=\"21\"/>\n",
       "<g clip-path=\"url(#clip1700)\">\n",
       "<text style=\"fill:#000000; fill-opacity:1; font-family:Arial,Helvetica Neue,Helvetica,sans-serif; font-size:48px; text-anchor:start;\" transform=\"rotate(0, 2089.61, 329.704)\" x=\"2089.61\" y=\"329.704\">N = 4</text>\n",
       "</g>\n",
       "<polyline clip-path=\"url(#clip1700)\" style=\"stroke:#c271d2; stroke-width:4; stroke-opacity:1; fill:none\" points=\"\n",
       "  1921.61,372.684 2065.61,372.684 \n",
       "  \"/>\n",
       "<circle clip-path=\"url(#clip1700)\" style=\"fill:#000000; stroke:none; fill-opacity:1\" cx=\"2005.61\" cy=\"372.684\" r=\"25\"/>\n",
       "<circle clip-path=\"url(#clip1700)\" style=\"fill:#c271d2; stroke:none; fill-opacity:1\" cx=\"2005.61\" cy=\"372.684\" r=\"21\"/>\n",
       "<g clip-path=\"url(#clip1700)\">\n",
       "<text style=\"fill:#000000; fill-opacity:1; font-family:Arial,Helvetica Neue,Helvetica,sans-serif; font-size:48px; text-anchor:start;\" transform=\"rotate(0, 2089.61, 390.184)\" x=\"2089.61\" y=\"390.184\">N = 5</text>\n",
       "</g>\n",
       "<polyline clip-path=\"url(#clip1700)\" style=\"stroke:#ac8d18; stroke-width:4; stroke-opacity:1; fill:none\" points=\"\n",
       "  1921.61,433.164 2065.61,433.164 \n",
       "  \"/>\n",
       "<circle clip-path=\"url(#clip1700)\" style=\"fill:#000000; stroke:none; fill-opacity:1\" cx=\"2005.61\" cy=\"433.164\" r=\"25\"/>\n",
       "<circle clip-path=\"url(#clip1700)\" style=\"fill:#ac8d18; stroke:none; fill-opacity:1\" cx=\"2005.61\" cy=\"433.164\" r=\"21\"/>\n",
       "<g clip-path=\"url(#clip1700)\">\n",
       "<text style=\"fill:#000000; fill-opacity:1; font-family:Arial,Helvetica Neue,Helvetica,sans-serif; font-size:48px; text-anchor:start;\" transform=\"rotate(0, 2089.61, 450.664)\" x=\"2089.61\" y=\"450.664\">N = 6</text>\n",
       "</g>\n",
       "<polyline clip-path=\"url(#clip1700)\" style=\"stroke:#00a9ad; stroke-width:4; stroke-opacity:1; fill:none\" points=\"\n",
       "  1921.61,493.644 2065.61,493.644 \n",
       "  \"/>\n",
       "<circle clip-path=\"url(#clip1700)\" style=\"fill:#000000; stroke:none; fill-opacity:1\" cx=\"2005.61\" cy=\"493.644\" r=\"25\"/>\n",
       "<circle clip-path=\"url(#clip1700)\" style=\"fill:#00a9ad; stroke:none; fill-opacity:1\" cx=\"2005.61\" cy=\"493.644\" r=\"21\"/>\n",
       "<g clip-path=\"url(#clip1700)\">\n",
       "<text style=\"fill:#000000; fill-opacity:1; font-family:Arial,Helvetica Neue,Helvetica,sans-serif; font-size:48px; text-anchor:start;\" transform=\"rotate(0, 2089.61, 511.144)\" x=\"2089.61\" y=\"511.144\">N = 7</text>\n",
       "</g>\n",
       "<polyline clip-path=\"url(#clip1700)\" style=\"stroke:#ed5d92; stroke-width:4; stroke-opacity:1; fill:none\" points=\"\n",
       "  1921.61,554.124 2065.61,554.124 \n",
       "  \"/>\n",
       "<circle clip-path=\"url(#clip1700)\" style=\"fill:#000000; stroke:none; fill-opacity:1\" cx=\"2005.61\" cy=\"554.124\" r=\"25\"/>\n",
       "<circle clip-path=\"url(#clip1700)\" style=\"fill:#ed5d92; stroke:none; fill-opacity:1\" cx=\"2005.61\" cy=\"554.124\" r=\"21\"/>\n",
       "<g clip-path=\"url(#clip1700)\">\n",
       "<text style=\"fill:#000000; fill-opacity:1; font-family:Arial,Helvetica Neue,Helvetica,sans-serif; font-size:48px; text-anchor:start;\" transform=\"rotate(0, 2089.61, 571.624)\" x=\"2089.61\" y=\"571.624\">N = 8</text>\n",
       "</g>\n",
       "<polyline clip-path=\"url(#clip1700)\" style=\"stroke:#c68125; stroke-width:4; stroke-opacity:1; fill:none\" points=\"\n",
       "  1921.61,614.604 2065.61,614.604 \n",
       "  \"/>\n",
       "<circle clip-path=\"url(#clip1700)\" style=\"fill:#000000; stroke:none; fill-opacity:1\" cx=\"2005.61\" cy=\"614.604\" r=\"25\"/>\n",
       "<circle clip-path=\"url(#clip1700)\" style=\"fill:#c68125; stroke:none; fill-opacity:1\" cx=\"2005.61\" cy=\"614.604\" r=\"21\"/>\n",
       "<g clip-path=\"url(#clip1700)\">\n",
       "<text style=\"fill:#000000; fill-opacity:1; font-family:Arial,Helvetica Neue,Helvetica,sans-serif; font-size:48px; text-anchor:start;\" transform=\"rotate(0, 2089.61, 632.104)\" x=\"2089.61\" y=\"632.104\">N = 9</text>\n",
       "</g>\n",
       "<polyline clip-path=\"url(#clip1700)\" style=\"stroke:#00a98d; stroke-width:4; stroke-opacity:1; fill:none\" points=\"\n",
       "  1921.61,675.084 2065.61,675.084 \n",
       "  \"/>\n",
       "<circle clip-path=\"url(#clip1700)\" style=\"fill:#000000; stroke:none; fill-opacity:1\" cx=\"2005.61\" cy=\"675.084\" r=\"25\"/>\n",
       "<circle clip-path=\"url(#clip1700)\" style=\"fill:#00a98d; stroke:none; fill-opacity:1\" cx=\"2005.61\" cy=\"675.084\" r=\"21\"/>\n",
       "<g clip-path=\"url(#clip1700)\">\n",
       "<text style=\"fill:#000000; fill-opacity:1; font-family:Arial,Helvetica Neue,Helvetica,sans-serif; font-size:48px; text-anchor:start;\" transform=\"rotate(0, 2089.61, 692.584)\" x=\"2089.61\" y=\"692.584\">N = 10</text>\n",
       "</g>\n",
       "</svg>\n"
      ]
     },
     "execution_count": 95,
     "metadata": {},
     "output_type": "execute_result"
    }
   ],
   "source": [
    "using Plots\n",
    "hs = 10 .^ range(-2., stop=2., length=10)\n",
    "Ns = 2:10\n",
    "p = plot()\n",
    "for N in Ns\n",
    "    M = zeros(length(hs))\n",
    "    for (i,h) in enumerate(hs)\n",
    "        basis = generate_basis(N)\n",
    "        H = TransverseFieldIsing(N=N, h=h)\n",
    "        vals, vecs = eigen(H)\n",
    "        groundstate = vecs[:,1]\n",
    "        M[i] = magnetization(groundstate, basis)\n",
    "    end\n",
    "    plot!(p, hs, M, xscale=:log10, marker=:circle, label=\"N = $N\",\n",
    "        xlab=\"h\", ylab=\"M(h)\")\n",
    "    println(M)\n",
    "end\n",
    "p"
   ]
  },
  {
   "cell_type": "markdown",
   "metadata": {},
   "source": [
    "**This looks like a phase transition!**\n",
    "\n",
    "For small $h$, the magnetization is unity, corresponding to a ferromagnetic state. By increasing the magnetic field $h$ we have a competition between the two terms in the Hamiltonian and eventually the system becomes paramagnetic with $M\\approx0$. Our plot suggests that this change of state happens around $h\\sim1$, which is in good agreement with the exact solution $h=1$.\n",
    "\n",
    "It is crucial to realize, that in our calculation we are inspecting the ground state of the system. Since $T=0$, it is purely quantum fluctuations that drive the transition: a **quantum phase transition**! This is to be compared to increasing temperature in the classical Ising model, where it's thermal fluctuations that cause a classical phase transition from a ferromagnetic to a paramagnetic state. For this reason, the state that we observe at high magnetic field strengths is called a **quantum paramagnet**."
   ]
  },
  {
   "cell_type": "markdown",
   "metadata": {},
   "source": [
    "## Hilbert space is a big space"
   ]
  },
  {
   "cell_type": "markdown",
   "metadata": {},
   "source": [
    "So far, we have only inspected chains of length $N\\leq10$. As we see in our plot above, there are rather strong finite-size effects on the magnetization. To extract a numerical estimate for the critical magnetic field strength $h_c$ of the transition we would have to consider much larger systems until we observe convergence as a function of $N$. Although this is clearly beyond the scope of this tutorial, let us at least pave the way.\n",
    "\n",
    "Our calculation, in its current form, doesn't scale. The reason for this is simple, **Hilbert space is a big place!**\n",
    "\n",
    "The number of basis states, and therefore the number of dimensions, grows **exponentially** with system size."
   ]
  },
  {
   "cell_type": "code",
   "execution_count": 96,
   "metadata": {},
   "outputs": [
    {
     "data": {
      "image/svg+xml": [
       "<?xml version=\"1.0\" encoding=\"utf-8\"?>\n",
       "<svg xmlns=\"http://www.w3.org/2000/svg\" xmlns:xlink=\"http://www.w3.org/1999/xlink\" width=\"600\" height=\"400\" viewBox=\"0 0 2400 1600\">\n",
       "<defs>\n",
       "  <clipPath id=\"clip2100\">\n",
       "    <rect x=\"0\" y=\"0\" width=\"2400\" height=\"1600\"/>\n",
       "  </clipPath>\n",
       "</defs>\n",
       "<polygon clip-path=\"url(#clip2100)\" points=\"\n",
       "0,1600 2400,1600 2400,0 0,0 \n",
       "  \" fill=\"#ffffff\" fill-rule=\"evenodd\" fill-opacity=\"1\"/>\n",
       "<defs>\n",
       "  <clipPath id=\"clip2101\">\n",
       "    <rect x=\"480\" y=\"0\" width=\"1681\" height=\"1600\"/>\n",
       "  </clipPath>\n",
       "</defs>\n",
       "<polygon clip-path=\"url(#clip2100)\" points=\"\n",
       "363.188,1425.62 2352.76,1425.62 2352.76,47.2441 363.188,47.2441 \n",
       "  \" fill=\"#ffffff\" fill-rule=\"evenodd\" fill-opacity=\"1\"/>\n",
       "<defs>\n",
       "  <clipPath id=\"clip2102\">\n",
       "    <rect x=\"363\" y=\"47\" width=\"1991\" height=\"1379\"/>\n",
       "  </clipPath>\n",
       "</defs>\n",
       "<polyline clip-path=\"url(#clip2102)\" style=\"stroke:#000000; stroke-width:2; stroke-opacity:0.1; fill:none\" points=\"\n",
       "  801.255,1425.62 801.255,47.2441 \n",
       "  \"/>\n",
       "<polyline clip-path=\"url(#clip2102)\" style=\"stroke:#000000; stroke-width:2; stroke-opacity:0.1; fill:none\" points=\"\n",
       "  1301.67,1425.62 1301.67,47.2441 \n",
       "  \"/>\n",
       "<polyline clip-path=\"url(#clip2102)\" style=\"stroke:#000000; stroke-width:2; stroke-opacity:0.1; fill:none\" points=\"\n",
       "  1802.08,1425.62 1802.08,47.2441 \n",
       "  \"/>\n",
       "<polyline clip-path=\"url(#clip2102)\" style=\"stroke:#000000; stroke-width:2; stroke-opacity:0.1; fill:none\" points=\"\n",
       "  2302.49,1425.62 2302.49,47.2441 \n",
       "  \"/>\n",
       "<polyline clip-path=\"url(#clip2102)\" style=\"stroke:#000000; stroke-width:2; stroke-opacity:0.1; fill:none\" points=\"\n",
       "  363.188,1386.61 2352.76,1386.61 \n",
       "  \"/>\n",
       "<polyline clip-path=\"url(#clip2102)\" style=\"stroke:#000000; stroke-width:2; stroke-opacity:0.1; fill:none\" points=\"\n",
       "  363.188,1063.33 2352.76,1063.33 \n",
       "  \"/>\n",
       "<polyline clip-path=\"url(#clip2102)\" style=\"stroke:#000000; stroke-width:2; stroke-opacity:0.1; fill:none\" points=\"\n",
       "  363.188,740.056 2352.76,740.056 \n",
       "  \"/>\n",
       "<polyline clip-path=\"url(#clip2102)\" style=\"stroke:#000000; stroke-width:2; stroke-opacity:0.1; fill:none\" points=\"\n",
       "  363.188,416.779 2352.76,416.779 \n",
       "  \"/>\n",
       "<polyline clip-path=\"url(#clip2102)\" style=\"stroke:#000000; stroke-width:2; stroke-opacity:0.1; fill:none\" points=\"\n",
       "  363.188,93.5019 2352.76,93.5019 \n",
       "  \"/>\n",
       "<polyline clip-path=\"url(#clip2100)\" style=\"stroke:#000000; stroke-width:4; stroke-opacity:1; fill:none\" points=\"\n",
       "  363.188,1425.62 2352.76,1425.62 \n",
       "  \"/>\n",
       "<polyline clip-path=\"url(#clip2100)\" style=\"stroke:#000000; stroke-width:4; stroke-opacity:1; fill:none\" points=\"\n",
       "  363.188,1425.62 363.188,47.2441 \n",
       "  \"/>\n",
       "<polyline clip-path=\"url(#clip2100)\" style=\"stroke:#000000; stroke-width:4; stroke-opacity:1; fill:none\" points=\"\n",
       "  801.255,1425.62 801.255,1404.94 \n",
       "  \"/>\n",
       "<polyline clip-path=\"url(#clip2100)\" style=\"stroke:#000000; stroke-width:4; stroke-opacity:1; fill:none\" points=\"\n",
       "  1301.67,1425.62 1301.67,1404.94 \n",
       "  \"/>\n",
       "<polyline clip-path=\"url(#clip2100)\" style=\"stroke:#000000; stroke-width:4; stroke-opacity:1; fill:none\" points=\"\n",
       "  1802.08,1425.62 1802.08,1404.94 \n",
       "  \"/>\n",
       "<polyline clip-path=\"url(#clip2100)\" style=\"stroke:#000000; stroke-width:4; stroke-opacity:1; fill:none\" points=\"\n",
       "  2302.49,1425.62 2302.49,1404.94 \n",
       "  \"/>\n",
       "<polyline clip-path=\"url(#clip2100)\" style=\"stroke:#000000; stroke-width:4; stroke-opacity:1; fill:none\" points=\"\n",
       "  363.188,1386.61 393.031,1386.61 \n",
       "  \"/>\n",
       "<polyline clip-path=\"url(#clip2100)\" style=\"stroke:#000000; stroke-width:4; stroke-opacity:1; fill:none\" points=\"\n",
       "  363.188,1063.33 393.031,1063.33 \n",
       "  \"/>\n",
       "<polyline clip-path=\"url(#clip2100)\" style=\"stroke:#000000; stroke-width:4; stroke-opacity:1; fill:none\" points=\"\n",
       "  363.188,740.056 393.031,740.056 \n",
       "  \"/>\n",
       "<polyline clip-path=\"url(#clip2100)\" style=\"stroke:#000000; stroke-width:4; stroke-opacity:1; fill:none\" points=\"\n",
       "  363.188,416.779 393.031,416.779 \n",
       "  \"/>\n",
       "<polyline clip-path=\"url(#clip2100)\" style=\"stroke:#000000; stroke-width:4; stroke-opacity:1; fill:none\" points=\"\n",
       "  363.188,93.5019 393.031,93.5019 \n",
       "  \"/>\n",
       "<g clip-path=\"url(#clip2100)\">\n",
       "<text style=\"fill:#000000; fill-opacity:1; font-family:Arial,Helvetica Neue,Helvetica,sans-serif; font-size:48px; text-anchor:middle;\" transform=\"rotate(0, 801.255, 1479.62)\" x=\"801.255\" y=\"1479.62\">5</text>\n",
       "</g>\n",
       "<g clip-path=\"url(#clip2100)\">\n",
       "<text style=\"fill:#000000; fill-opacity:1; font-family:Arial,Helvetica Neue,Helvetica,sans-serif; font-size:48px; text-anchor:middle;\" transform=\"rotate(0, 1301.67, 1479.62)\" x=\"1301.67\" y=\"1479.62\">10</text>\n",
       "</g>\n",
       "<g clip-path=\"url(#clip2100)\">\n",
       "<text style=\"fill:#000000; fill-opacity:1; font-family:Arial,Helvetica Neue,Helvetica,sans-serif; font-size:48px; text-anchor:middle;\" transform=\"rotate(0, 1802.08, 1479.62)\" x=\"1802.08\" y=\"1479.62\">15</text>\n",
       "</g>\n",
       "<g clip-path=\"url(#clip2100)\">\n",
       "<text style=\"fill:#000000; fill-opacity:1; font-family:Arial,Helvetica Neue,Helvetica,sans-serif; font-size:48px; text-anchor:middle;\" transform=\"rotate(0, 2302.49, 1479.62)\" x=\"2302.49\" y=\"1479.62\">20</text>\n",
       "</g>\n",
       "<g clip-path=\"url(#clip2100)\">\n",
       "<text style=\"fill:#000000; fill-opacity:1; font-family:Arial,Helvetica Neue,Helvetica,sans-serif; font-size:48px; text-anchor:end;\" transform=\"rotate(0, 339.188, 1404.11)\" x=\"339.188\" y=\"1404.11\">0</text>\n",
       "</g>\n",
       "<g clip-path=\"url(#clip2100)\">\n",
       "<text style=\"fill:#000000; fill-opacity:1; font-family:Arial,Helvetica Neue,Helvetica,sans-serif; font-size:48px; text-anchor:start;\" transform=\"rotate(0, 168.903, 1087.06)\" x=\"168.903\" y=\"1087.06\">2.5×10</text>\n",
       "</g>\n",
       "<g clip-path=\"url(#clip2100)\">\n",
       "<text style=\"fill:#000000; fill-opacity:1; font-family:Arial,Helvetica Neue,Helvetica,sans-serif; font-size:38px; text-anchor:start;\" transform=\"rotate(0, 317.443, 1059.65)\" x=\"317.443\" y=\"1059.65\">5</text>\n",
       "</g>\n",
       "<g clip-path=\"url(#clip2100)\">\n",
       "<text style=\"fill:#000000; fill-opacity:1; font-family:Arial,Helvetica Neue,Helvetica,sans-serif; font-size:48px; text-anchor:start;\" transform=\"rotate(0, 168.903, 763.784)\" x=\"168.903\" y=\"763.784\">5.0×10</text>\n",
       "</g>\n",
       "<g clip-path=\"url(#clip2100)\">\n",
       "<text style=\"fill:#000000; fill-opacity:1; font-family:Arial,Helvetica Neue,Helvetica,sans-serif; font-size:38px; text-anchor:start;\" transform=\"rotate(0, 317.443, 736.374)\" x=\"317.443\" y=\"736.374\">5</text>\n",
       "</g>\n",
       "<g clip-path=\"url(#clip2100)\">\n",
       "<text style=\"fill:#000000; fill-opacity:1; font-family:Arial,Helvetica Neue,Helvetica,sans-serif; font-size:48px; text-anchor:start;\" transform=\"rotate(0, 168.903, 440.507)\" x=\"168.903\" y=\"440.507\">7.5×10</text>\n",
       "</g>\n",
       "<g clip-path=\"url(#clip2100)\">\n",
       "<text style=\"fill:#000000; fill-opacity:1; font-family:Arial,Helvetica Neue,Helvetica,sans-serif; font-size:38px; text-anchor:start;\" transform=\"rotate(0, 317.443, 413.096)\" x=\"317.443\" y=\"413.096\">5</text>\n",
       "</g>\n",
       "<g clip-path=\"url(#clip2100)\">\n",
       "<text style=\"fill:#000000; fill-opacity:1; font-family:Arial,Helvetica Neue,Helvetica,sans-serif; font-size:48px; text-anchor:start;\" transform=\"rotate(0, 168.903, 117.23)\" x=\"168.903\" y=\"117.23\">1.0×10</text>\n",
       "</g>\n",
       "<g clip-path=\"url(#clip2100)\">\n",
       "<text style=\"fill:#000000; fill-opacity:1; font-family:Arial,Helvetica Neue,Helvetica,sans-serif; font-size:38px; text-anchor:start;\" transform=\"rotate(0, 317.443, 89.8191)\" x=\"317.443\" y=\"89.8191\">6</text>\n",
       "</g>\n",
       "<g clip-path=\"url(#clip2100)\">\n",
       "<text style=\"fill:#000000; fill-opacity:1; font-family:Arial,Helvetica Neue,Helvetica,sans-serif; font-size:66px; text-anchor:middle;\" transform=\"rotate(0, 1357.97, 1559.48)\" x=\"1357.97\" y=\"1559.48\">N</text>\n",
       "</g>\n",
       "<g clip-path=\"url(#clip2100)\">\n",
       "<text style=\"fill:#000000; fill-opacity:1; font-family:Arial,Helvetica Neue,Helvetica,sans-serif; font-size:66px; text-anchor:middle;\" transform=\"rotate(-90, 89.2861, 736.431)\" x=\"89.2861\" y=\"736.431\"># Hilbert space dimensions</text>\n",
       "</g>\n",
       "<polyline clip-path=\"url(#clip2102)\" style=\"stroke:#000000; stroke-width:4; stroke-opacity:1; fill:none\" points=\"\n",
       "  419.496,1386.61 591.206,1386.6 694.396,1386.59 781.642,1386.57 876.415,1386.54 963.788,1386.48 1057.46,1386.37 1165.99,1386.09 1262.44,1385.6 1347.02,1384.8 \n",
       "  1439.23,1383.18 1531.98,1380.08 1634.54,1373.33 1732.12,1360.51 1782.85,1349.52 1833.58,1333.91 1876.29,1315.77 1918.99,1291.39 1945.06,1272.55 1971.13,1249.98 \n",
       "  1997.2,1222.94 2023.26,1190.56 2047.77,1154.29 2072.28,1111.32 2096.78,1060.4 2121.29,1000.06 2140.91,943.77 2160.54,879.281 2180.17,805.401 2199.8,720.763 \n",
       "  2219.43,623.799 2239.06,512.715 2258.69,385.454 2278.32,239.662 2284.36,190.65 2290.41,139.544 2296.45,86.2547 \n",
       "  \"/>\n",
       "</svg>\n"
      ]
     },
     "execution_count": 96,
     "metadata": {},
     "output_type": "execute_result"
    }
   ],
   "source": [
    "plot(N -> 2^N, 1, 20, legend=false, color=:black, xlab=\"N\", ylab=\"# Hilbert space dimensions\")"
   ]
  },
  {
   "cell_type": "markdown",
   "metadata": {},
   "source": [
    "Our Hamiltonian matrix therefore will become huge(!) and is not going to fit into memory (apart from the fact that diagonalization would take forever)."
   ]
  },
  {
   "cell_type": "code",
   "execution_count": 97,
   "metadata": {},
   "outputs": [
    {
     "data": {
      "text/plain": [
       "\u001b[32m\u001b[1mTest Passed\u001b[22m\u001b[39m\n",
       "      Thrown: OutOfMemoryError"
      ]
     },
     "execution_count": 97,
     "metadata": {},
     "output_type": "execute_result"
    }
   ],
   "source": [
    "using Test\n",
    "@test_throws OutOfMemoryError TransverseFieldIsing(N=20, h=1)"
   ]
  },
  {
   "cell_type": "markdown",
   "metadata": {},
   "source": [
    "So, what can we do about it? The answer is, **sparsity**.\n",
    "\n",
    "Let's inspect the Hamiltonian a bit more closely."
   ]
  },
  {
   "cell_type": "code",
   "execution_count": 98,
   "metadata": {},
   "outputs": [
    {
     "data": {
      "text/plain": [
       "1024×1024 Array{Int64,2}:\n",
       " -9  -1  -1   0  -1   0   0   0  -1  …   0   0   0   0   0   0   0   0   0\n",
       " -1  -7   0  -1   0  -1   0   0   0      0   0   0   0   0   0   0   0   0\n",
       " -1   0  -5  -1   0   0  -1   0   0      0   0   0   0   0   0   0   0   0\n",
       "  0  -1  -1  -7   0   0   0  -1   0      0   0   0   0   0   0   0   0   0\n",
       " -1   0   0   0  -5  -1  -1   0   0      0   0   0   0   0   0   0   0   0\n",
       "  0  -1   0   0  -1  -3   0  -1   0  …   0   0   0   0   0   0   0   0   0\n",
       "  0   0  -1   0  -1   0  -5  -1   0      0   0   0   0   0   0   0   0   0\n",
       "  0   0   0  -1   0  -1  -1  -7   0      0   0   0   0   0   0   0   0   0\n",
       " -1   0   0   0   0   0   0   0  -5      0   0   0   0   0   0   0   0   0\n",
       "  0  -1   0   0   0   0   0   0  -1      0   0   0   0   0   0   0   0   0\n",
       "  0   0  -1   0   0   0   0   0  -1  …   0   0   0   0   0   0   0   0   0\n",
       "  0   0   0  -1   0   0   0   0   0      0   0   0   0   0   0   0   0   0\n",
       "  0   0   0   0  -1   0   0   0  -1      0   0   0   0   0   0   0   0   0\n",
       "  ⋮                   ⋮              ⋱   ⋮                   ⋮            \n",
       "  0   0   0   0   0   0   0   0   0      0   0   0   0   0  -1   0   0   0\n",
       "  0   0   0   0   0   0   0   0   0     -1   0   0   0   0   0  -1   0   0\n",
       "  0   0   0   0   0   0   0   0   0     -1   0   0   0   0   0   0  -1   0\n",
       "  0   0   0   0   0   0   0   0   0  …  -5   0   0   0   0   0   0   0  -1\n",
       "  0   0   0   0   0   0   0   0   0      0  -7  -1  -1   0  -1   0   0   0\n",
       "  0   0   0   0   0   0   0   0   0      0  -1  -5   0  -1   0  -1   0   0\n",
       "  0   0   0   0   0   0   0   0   0      0  -1   0  -3  -1   0   0  -1   0\n",
       "  0   0   0   0   0   0   0   0   0      0   0  -1  -1  -5   0   0   0  -1\n",
       "  0   0   0   0   0   0   0   0   0  …   0  -1   0   0   0  -7  -1  -1   0\n",
       "  0   0   0   0   0   0   0   0   0      0   0  -1   0   0  -1  -5   0  -1\n",
       "  0   0   0   0   0   0   0   0   0      0   0   0  -1   0  -1   0  -7  -1\n",
       "  0   0   0   0   0   0   0   0   0     -1   0   0   0  -1   0  -1  -1  -9"
      ]
     },
     "execution_count": 98,
     "metadata": {},
     "output_type": "execute_result"
    }
   ],
   "source": [
    "H = TransverseFieldIsing(N=10, h=1)"
   ]
  },
  {
   "cell_type": "markdown",
   "metadata": {},
   "source": [
    "Noticably, there are a lot of zeros. How does this depend on $N$?\n",
    "\n",
    "Let's plot the sparsity, i.e. ratio of zero entries."
   ]
  },
  {
   "cell_type": "code",
   "execution_count": 99,
   "metadata": {},
   "outputs": [
    {
     "data": {
      "image/svg+xml": [
       "<?xml version=\"1.0\" encoding=\"utf-8\"?>\n",
       "<svg xmlns=\"http://www.w3.org/2000/svg\" xmlns:xlink=\"http://www.w3.org/1999/xlink\" width=\"600\" height=\"400\" viewBox=\"0 0 2400 1600\">\n",
       "<defs>\n",
       "  <clipPath id=\"clip2500\">\n",
       "    <rect x=\"0\" y=\"0\" width=\"2400\" height=\"1600\"/>\n",
       "  </clipPath>\n",
       "</defs>\n",
       "<polygon clip-path=\"url(#clip2500)\" points=\"\n",
       "0,1600 2400,1600 2400,0 0,0 \n",
       "  \" fill=\"#ffffff\" fill-rule=\"evenodd\" fill-opacity=\"1\"/>\n",
       "<defs>\n",
       "  <clipPath id=\"clip2501\">\n",
       "    <rect x=\"480\" y=\"0\" width=\"1681\" height=\"1600\"/>\n",
       "  </clipPath>\n",
       "</defs>\n",
       "<polygon clip-path=\"url(#clip2500)\" points=\"\n",
       "215.754,1425.62 2352.76,1425.62 2352.76,47.2441 215.754,47.2441 \n",
       "  \" fill=\"#ffffff\" fill-rule=\"evenodd\" fill-opacity=\"1\"/>\n",
       "<defs>\n",
       "  <clipPath id=\"clip2502\">\n",
       "    <rect x=\"215\" y=\"47\" width=\"2138\" height=\"1379\"/>\n",
       "  </clipPath>\n",
       "</defs>\n",
       "<polyline clip-path=\"url(#clip2502)\" style=\"stroke:#000000; stroke-width:2; stroke-opacity:0.1; fill:none\" points=\"\n",
       "  377.037,1425.62 377.037,47.2441 \n",
       "  \"/>\n",
       "<polyline clip-path=\"url(#clip2502)\" style=\"stroke:#000000; stroke-width:2; stroke-opacity:0.1; fill:none\" points=\"\n",
       "  881.047,1425.62 881.047,47.2441 \n",
       "  \"/>\n",
       "<polyline clip-path=\"url(#clip2502)\" style=\"stroke:#000000; stroke-width:2; stroke-opacity:0.1; fill:none\" points=\"\n",
       "  1385.06,1425.62 1385.06,47.2441 \n",
       "  \"/>\n",
       "<polyline clip-path=\"url(#clip2502)\" style=\"stroke:#000000; stroke-width:2; stroke-opacity:0.1; fill:none\" points=\"\n",
       "  1889.07,1425.62 1889.07,47.2441 \n",
       "  \"/>\n",
       "<polyline clip-path=\"url(#clip2502)\" style=\"stroke:#000000; stroke-width:2; stroke-opacity:0.1; fill:none\" points=\"\n",
       "  215.754,1125.43 2352.76,1125.43 \n",
       "  \"/>\n",
       "<polyline clip-path=\"url(#clip2502)\" style=\"stroke:#000000; stroke-width:2; stroke-opacity:0.1; fill:none\" points=\"\n",
       "  215.754,777.198 2352.76,777.198 \n",
       "  \"/>\n",
       "<polyline clip-path=\"url(#clip2502)\" style=\"stroke:#000000; stroke-width:2; stroke-opacity:0.1; fill:none\" points=\"\n",
       "  215.754,428.963 2352.76,428.963 \n",
       "  \"/>\n",
       "<polyline clip-path=\"url(#clip2502)\" style=\"stroke:#000000; stroke-width:2; stroke-opacity:0.1; fill:none\" points=\"\n",
       "  215.754,80.7285 2352.76,80.7285 \n",
       "  \"/>\n",
       "<polyline clip-path=\"url(#clip2500)\" style=\"stroke:#000000; stroke-width:4; stroke-opacity:1; fill:none\" points=\"\n",
       "  215.754,1425.62 2352.76,1425.62 \n",
       "  \"/>\n",
       "<polyline clip-path=\"url(#clip2500)\" style=\"stroke:#000000; stroke-width:4; stroke-opacity:1; fill:none\" points=\"\n",
       "  215.754,1425.62 215.754,47.2441 \n",
       "  \"/>\n",
       "<polyline clip-path=\"url(#clip2500)\" style=\"stroke:#000000; stroke-width:4; stroke-opacity:1; fill:none\" points=\"\n",
       "  377.037,1425.62 377.037,1404.94 \n",
       "  \"/>\n",
       "<polyline clip-path=\"url(#clip2500)\" style=\"stroke:#000000; stroke-width:4; stroke-opacity:1; fill:none\" points=\"\n",
       "  881.047,1425.62 881.047,1404.94 \n",
       "  \"/>\n",
       "<polyline clip-path=\"url(#clip2500)\" style=\"stroke:#000000; stroke-width:4; stroke-opacity:1; fill:none\" points=\"\n",
       "  1385.06,1425.62 1385.06,1404.94 \n",
       "  \"/>\n",
       "<polyline clip-path=\"url(#clip2500)\" style=\"stroke:#000000; stroke-width:4; stroke-opacity:1; fill:none\" points=\"\n",
       "  1889.07,1425.62 1889.07,1404.94 \n",
       "  \"/>\n",
       "<polyline clip-path=\"url(#clip2500)\" style=\"stroke:#000000; stroke-width:4; stroke-opacity:1; fill:none\" points=\"\n",
       "  215.754,1125.43 247.809,1125.43 \n",
       "  \"/>\n",
       "<polyline clip-path=\"url(#clip2500)\" style=\"stroke:#000000; stroke-width:4; stroke-opacity:1; fill:none\" points=\"\n",
       "  215.754,777.198 247.809,777.198 \n",
       "  \"/>\n",
       "<polyline clip-path=\"url(#clip2500)\" style=\"stroke:#000000; stroke-width:4; stroke-opacity:1; fill:none\" points=\"\n",
       "  215.754,428.963 247.809,428.963 \n",
       "  \"/>\n",
       "<polyline clip-path=\"url(#clip2500)\" style=\"stroke:#000000; stroke-width:4; stroke-opacity:1; fill:none\" points=\"\n",
       "  215.754,80.7285 247.809,80.7285 \n",
       "  \"/>\n",
       "<g clip-path=\"url(#clip2500)\">\n",
       "<text style=\"fill:#000000; fill-opacity:1; font-family:Arial,Helvetica Neue,Helvetica,sans-serif; font-size:48px; text-anchor:middle;\" transform=\"rotate(0, 377.037, 1479.62)\" x=\"377.037\" y=\"1479.62\">2.5</text>\n",
       "</g>\n",
       "<g clip-path=\"url(#clip2500)\">\n",
       "<text style=\"fill:#000000; fill-opacity:1; font-family:Arial,Helvetica Neue,Helvetica,sans-serif; font-size:48px; text-anchor:middle;\" transform=\"rotate(0, 881.047, 1479.62)\" x=\"881.047\" y=\"1479.62\">5.0</text>\n",
       "</g>\n",
       "<g clip-path=\"url(#clip2500)\">\n",
       "<text style=\"fill:#000000; fill-opacity:1; font-family:Arial,Helvetica Neue,Helvetica,sans-serif; font-size:48px; text-anchor:middle;\" transform=\"rotate(0, 1385.06, 1479.62)\" x=\"1385.06\" y=\"1479.62\">7.5</text>\n",
       "</g>\n",
       "<g clip-path=\"url(#clip2500)\">\n",
       "<text style=\"fill:#000000; fill-opacity:1; font-family:Arial,Helvetica Neue,Helvetica,sans-serif; font-size:48px; text-anchor:middle;\" transform=\"rotate(0, 1889.07, 1479.62)\" x=\"1889.07\" y=\"1479.62\">10.0</text>\n",
       "</g>\n",
       "<g clip-path=\"url(#clip2500)\">\n",
       "<text style=\"fill:#000000; fill-opacity:1; font-family:Arial,Helvetica Neue,Helvetica,sans-serif; font-size:48px; text-anchor:end;\" transform=\"rotate(0, 191.754, 1142.93)\" x=\"191.754\" y=\"1142.93\">0.4</text>\n",
       "</g>\n",
       "<g clip-path=\"url(#clip2500)\">\n",
       "<text style=\"fill:#000000; fill-opacity:1; font-family:Arial,Helvetica Neue,Helvetica,sans-serif; font-size:48px; text-anchor:end;\" transform=\"rotate(0, 191.754, 794.698)\" x=\"191.754\" y=\"794.698\">0.6</text>\n",
       "</g>\n",
       "<g clip-path=\"url(#clip2500)\">\n",
       "<text style=\"fill:#000000; fill-opacity:1; font-family:Arial,Helvetica Neue,Helvetica,sans-serif; font-size:48px; text-anchor:end;\" transform=\"rotate(0, 191.754, 446.463)\" x=\"191.754\" y=\"446.463\">0.8</text>\n",
       "</g>\n",
       "<g clip-path=\"url(#clip2500)\">\n",
       "<text style=\"fill:#000000; fill-opacity:1; font-family:Arial,Helvetica Neue,Helvetica,sans-serif; font-size:48px; text-anchor:end;\" transform=\"rotate(0, 191.754, 98.2285)\" x=\"191.754\" y=\"98.2285\">1.0</text>\n",
       "</g>\n",
       "<g clip-path=\"url(#clip2500)\">\n",
       "<text style=\"fill:#000000; fill-opacity:1; font-family:Arial,Helvetica Neue,Helvetica,sans-serif; font-size:66px; text-anchor:middle;\" transform=\"rotate(0, 1284.25, 1559.48)\" x=\"1284.25\" y=\"1559.48\">chain length N</text>\n",
       "</g>\n",
       "<g clip-path=\"url(#clip2500)\">\n",
       "<text style=\"fill:#000000; fill-opacity:1; font-family:Arial,Helvetica Neue,Helvetica,sans-serif; font-size:66px; text-anchor:middle;\" transform=\"rotate(-90, 89.2861, 736.431)\" x=\"89.2861\" y=\"736.431\">Hamiltonian sparsity</text>\n",
       "</g>\n",
       "<polyline clip-path=\"url(#clip2502)\" style=\"stroke:#009af9; stroke-width:4; stroke-opacity:1; fill:none\" points=\"\n",
       "  276.235,1386.61 477.839,842.492 679.443,624.845 881.047,386.794 1082.65,271.169 1284.25,185.301 1485.86,141.942 1687.46,113.806 1889.07,99.4325 2090.67,90.7215 \n",
       "  2292.27,86.2547 \n",
       "  \"/>\n",
       "<circle clip-path=\"url(#clip2502)\" style=\"fill:#000000; stroke:none; fill-opacity:1\" cx=\"276.235\" cy=\"1386.61\" r=\"18\"/>\n",
       "<circle clip-path=\"url(#clip2502)\" style=\"fill:#009af9; stroke:none; fill-opacity:1\" cx=\"276.235\" cy=\"1386.61\" r=\"14\"/>\n",
       "<circle clip-path=\"url(#clip2502)\" style=\"fill:#000000; stroke:none; fill-opacity:1\" cx=\"477.839\" cy=\"842.492\" r=\"18\"/>\n",
       "<circle clip-path=\"url(#clip2502)\" style=\"fill:#009af9; stroke:none; fill-opacity:1\" cx=\"477.839\" cy=\"842.492\" r=\"14\"/>\n",
       "<circle clip-path=\"url(#clip2502)\" style=\"fill:#000000; stroke:none; fill-opacity:1\" cx=\"679.443\" cy=\"624.845\" r=\"18\"/>\n",
       "<circle clip-path=\"url(#clip2502)\" style=\"fill:#009af9; stroke:none; fill-opacity:1\" cx=\"679.443\" cy=\"624.845\" r=\"14\"/>\n",
       "<circle clip-path=\"url(#clip2502)\" style=\"fill:#000000; stroke:none; fill-opacity:1\" cx=\"881.047\" cy=\"386.794\" r=\"18\"/>\n",
       "<circle clip-path=\"url(#clip2502)\" style=\"fill:#009af9; stroke:none; fill-opacity:1\" cx=\"881.047\" cy=\"386.794\" r=\"14\"/>\n",
       "<circle clip-path=\"url(#clip2502)\" style=\"fill:#000000; stroke:none; fill-opacity:1\" cx=\"1082.65\" cy=\"271.169\" r=\"18\"/>\n",
       "<circle clip-path=\"url(#clip2502)\" style=\"fill:#009af9; stroke:none; fill-opacity:1\" cx=\"1082.65\" cy=\"271.169\" r=\"14\"/>\n",
       "<circle clip-path=\"url(#clip2502)\" style=\"fill:#000000; stroke:none; fill-opacity:1\" cx=\"1284.25\" cy=\"185.301\" r=\"18\"/>\n",
       "<circle clip-path=\"url(#clip2502)\" style=\"fill:#009af9; stroke:none; fill-opacity:1\" cx=\"1284.25\" cy=\"185.301\" r=\"14\"/>\n",
       "<circle clip-path=\"url(#clip2502)\" style=\"fill:#000000; stroke:none; fill-opacity:1\" cx=\"1485.86\" cy=\"141.942\" r=\"18\"/>\n",
       "<circle clip-path=\"url(#clip2502)\" style=\"fill:#009af9; stroke:none; fill-opacity:1\" cx=\"1485.86\" cy=\"141.942\" r=\"14\"/>\n",
       "<circle clip-path=\"url(#clip2502)\" style=\"fill:#000000; stroke:none; fill-opacity:1\" cx=\"1687.46\" cy=\"113.806\" r=\"18\"/>\n",
       "<circle clip-path=\"url(#clip2502)\" style=\"fill:#009af9; stroke:none; fill-opacity:1\" cx=\"1687.46\" cy=\"113.806\" r=\"14\"/>\n",
       "<circle clip-path=\"url(#clip2502)\" style=\"fill:#000000; stroke:none; fill-opacity:1\" cx=\"1889.07\" cy=\"99.4325\" r=\"18\"/>\n",
       "<circle clip-path=\"url(#clip2502)\" style=\"fill:#009af9; stroke:none; fill-opacity:1\" cx=\"1889.07\" cy=\"99.4325\" r=\"14\"/>\n",
       "<circle clip-path=\"url(#clip2502)\" style=\"fill:#000000; stroke:none; fill-opacity:1\" cx=\"2090.67\" cy=\"90.7215\" r=\"18\"/>\n",
       "<circle clip-path=\"url(#clip2502)\" style=\"fill:#009af9; stroke:none; fill-opacity:1\" cx=\"2090.67\" cy=\"90.7215\" r=\"14\"/>\n",
       "<circle clip-path=\"url(#clip2502)\" style=\"fill:#000000; stroke:none; fill-opacity:1\" cx=\"2292.27\" cy=\"86.2547\" r=\"18\"/>\n",
       "<circle clip-path=\"url(#clip2502)\" style=\"fill:#009af9; stroke:none; fill-opacity:1\" cx=\"2292.27\" cy=\"86.2547\" r=\"14\"/>\n",
       "</svg>\n"
      ]
     },
     "execution_count": 99,
     "metadata": {},
     "output_type": "execute_result"
    }
   ],
   "source": [
    "sparsity(x) = count(isequal(0), x)/length(x)\n",
    "\n",
    "Ns = 2:12\n",
    "sparsities = Float64[]\n",
    "for N in Ns\n",
    "    H = TransverseFieldIsing(N=N, h=1)\n",
    "    push!(sparsities, sparsity(H))\n",
    "end\n",
    "plot(Ns, sparsities, legend=false, xlab=\"chain length N\", ylab=\"Hamiltonian sparsity\", marker=:circle)"
   ]
  },
  {
   "cell_type": "markdown",
   "metadata": {},
   "source": [
    "For $N\\gtrsim10$ almost all entries are zero! We should get rid of those and store $H$ as a sparse matrix."
   ]
  },
  {
   "cell_type": "markdown",
   "metadata": {},
   "source": [
    "### Building the sparse Hamiltonian"
   ]
  },
  {
   "cell_type": "markdown",
   "metadata": {},
   "source": [
    "Generally, we can bring a dense matrix into a sparse matrix format using the function `sparse`."
   ]
  },
  {
   "cell_type": "code",
   "execution_count": 103,
   "metadata": {},
   "outputs": [
    {
     "data": {
      "text/plain": [
       "16×16 SparseMatrixCSC{Int64,Int64} with 80 stored entries:\n",
       "  [1 ,  1]  =  -3\n",
       "  [2 ,  1]  =  -1\n",
       "  [3 ,  1]  =  -1\n",
       "  [5 ,  1]  =  -1\n",
       "  [9 ,  1]  =  -1\n",
       "  [1 ,  2]  =  -1\n",
       "  [2 ,  2]  =  -1\n",
       "  [4 ,  2]  =  -1\n",
       "  [6 ,  2]  =  -1\n",
       "  [10,  2]  =  -1\n",
       "  [1 ,  3]  =  -1\n",
       "  [3 ,  3]  =  1\n",
       "  ⋮\n",
       "  [14, 14]  =  1\n",
       "  [16, 14]  =  -1\n",
       "  [7 , 15]  =  -1\n",
       "  [11, 15]  =  -1\n",
       "  [13, 15]  =  -1\n",
       "  [15, 15]  =  -1\n",
       "  [16, 15]  =  -1\n",
       "  [8 , 16]  =  -1\n",
       "  [12, 16]  =  -1\n",
       "  [14, 16]  =  -1\n",
       "  [15, 16]  =  -1\n",
       "  [16, 16]  =  -3"
      ]
     },
     "execution_count": 103,
     "metadata": {},
     "output_type": "execute_result"
    }
   ],
   "source": [
    "H = TransverseFieldIsing(N=4,h=1)\n",
    "H |> sparse"
   ]
  },
  {
   "cell_type": "markdown",
   "metadata": {},
   "source": [
    "Note that in this format, only the 80 non-zero entries are stored (rather than 256 elements).\n",
    "\n",
    "So, how do we have to modify our function `TransverseFieldIsing` to only keep track of non-zero elements during the Hamiltonian construction?\n",
    "\n",
    "It turns out it is as simple as initializing our identity and pauli matrices as sparse matrices!"
   ]
  },
  {
   "cell_type": "code",
   "execution_count": 104,
   "metadata": {},
   "outputs": [
    {
     "data": {
      "text/plain": [
       "TransverseFieldIsing_sparse (generic function with 1 method)"
      ]
     },
     "execution_count": 104,
     "metadata": {},
     "output_type": "execute_result"
    }
   ],
   "source": [
    "using SparseArrays\n",
    "\n",
    "function TransverseFieldIsing_sparse(;N,h)\n",
    "    id = [1 0; 0 1] |> sparse\n",
    "    σˣ = [0 1; 1 0] |> sparse\n",
    "    σᶻ = [1 0; 0 -1] |> sparse\n",
    "    \n",
    "    first_term_ops = fill(id, N)\n",
    "    first_term_ops[1] = σᶻ\n",
    "    first_term_ops[2] = σᶻ\n",
    "    \n",
    "    second_term_ops = fill(id, N)\n",
    "    second_term_ops[1] = σˣ\n",
    "    \n",
    "    H = spzeros(Int, 2^N, 2^N)\n",
    "    for i in 1:N-1\n",
    "        H -= foldl(⊗, first_term_ops)\n",
    "        first_term_ops = circshift(first_term_ops,1)\n",
    "    end\n",
    "    \n",
    "    for i in 1:N\n",
    "        H -= h*foldl(⊗, second_term_ops)\n",
    "        second_term_ops = circshift(second_term_ops,1)\n",
    "    end\n",
    "    H\n",
    "end"
   ]
  },
  {
   "cell_type": "markdown",
   "metadata": {},
   "source": [
    "We should check that apart from the new type `SparseMatrixCSC` this is still the same Hamiltonian."
   ]
  },
  {
   "cell_type": "code",
   "execution_count": 108,
   "metadata": {},
   "outputs": [],
   "source": [
    "H = TransverseFieldIsing_sparse(N=10, h=1);"
   ]
  },
  {
   "cell_type": "code",
   "execution_count": 109,
   "metadata": {},
   "outputs": [
    {
     "data": {
      "text/plain": [
       "true"
      ]
     },
     "execution_count": 109,
     "metadata": {},
     "output_type": "execute_result"
    }
   ],
   "source": [
    "H_dense = TransverseFieldIsing(N=10, h=1)\n",
    "H ≈ H_dense"
   ]
  },
  {
   "cell_type": "markdown",
   "metadata": {},
   "source": [
    "Great. But is it really faster?"
   ]
  },
  {
   "cell_type": "code",
   "execution_count": 114,
   "metadata": {},
   "outputs": [
    {
     "name": "stdout",
     "output_type": "stream",
     "text": [
      "  0.056897 seconds (26.64 k allocations: 13.681 MiB, 10.26% gc time)\n",
      "  0.000826 seconds (887 allocations: 2.621 MiB)\n"
     ]
    }
   ],
   "source": [
    "@time TransverseFieldIsing(N=10,h=1);\n",
    "@time TransverseFieldIsing_sparse(N=10,h=1);"
   ]
  },
  {
   "cell_type": "markdown",
   "metadata": {},
   "source": [
    "It is *a lot* faster!"
   ]
  },
  {
   "cell_type": "markdown",
   "metadata": {},
   "source": [
    "Alright, let's try to go to larger $N$. While `TransverseFieldIsing` threw an `OutOfMemoryError` for `N=20`, our new function is more efficient:"
   ]
  },
  {
   "cell_type": "code",
   "execution_count": 45,
   "metadata": {},
   "outputs": [
    {
     "name": "stdout",
     "output_type": "stream",
     "text": [
      " 30.209882 seconds (5.65 k allocations: 31.082 GiB, 52.54% gc time)\n"
     ]
    },
    {
     "data": {
      "text/plain": [
       "4194304×4194304 SparseMatrixCSC{Int64,Int64} with 96468992 stored entries:\n",
       "  [1      ,       1]  =  -21\n",
       "  [2      ,       1]  =  -1\n",
       "  [3      ,       1]  =  -1\n",
       "  [5      ,       1]  =  -1\n",
       "  [9      ,       1]  =  -1\n",
       "  [17     ,       1]  =  -1\n",
       "  [33     ,       1]  =  -1\n",
       "  [65     ,       1]  =  -1\n",
       "  [129    ,       1]  =  -1\n",
       "  [257    ,       1]  =  -1\n",
       "  [513    ,       1]  =  -1\n",
       "  [1025   ,       1]  =  -1\n",
       "  ⋮\n",
       "  [4193280, 4194304]  =  -1\n",
       "  [4193792, 4194304]  =  -1\n",
       "  [4194048, 4194304]  =  -1\n",
       "  [4194176, 4194304]  =  -1\n",
       "  [4194240, 4194304]  =  -1\n",
       "  [4194272, 4194304]  =  -1\n",
       "  [4194288, 4194304]  =  -1\n",
       "  [4194296, 4194304]  =  -1\n",
       "  [4194300, 4194304]  =  -1\n",
       "  [4194302, 4194304]  =  -1\n",
       "  [4194303, 4194304]  =  -1\n",
       "  [4194304, 4194304]  =  -21"
      ]
     },
     "execution_count": 45,
     "metadata": {},
     "output_type": "execute_result"
    }
   ],
   "source": [
    "@time H = TransverseFieldIsing_sparse(N=20,h=1)"
   ]
  },
  {
   "cell_type": "markdown",
   "metadata": {},
   "source": [
    "Note that this is matrix, formally, has **1,099,511,627,776** entries!"
   ]
  },
  {
   "cell_type": "markdown",
   "metadata": {},
   "source": [
    "### Diagonalizing sparse matrices"
   ]
  },
  {
   "cell_type": "markdown",
   "metadata": {},
   "source": [
    "We have taken the first hurdle of constructing our large-system Hamiltonian as a sparse matrix. Unfortunately, if we try to diagonalize $H$, we realize that Julia's built-in eigensolver `eigen` doesn't support matrices.\n",
    "\n",
    "```\n",
    "eigen(A) not supported for sparse matrices. Use for example eigs(A) from the Arpack package instead.\n",
    "```"
   ]
  },
  {
   "cell_type": "markdown",
   "metadata": {},
   "source": [
    "Gladly it suggests a solution: [ARPACK.jl](https://github.com/JuliaLinearAlgebra/Arpack.jl). It provides a wrapper to the Fortran library [ARPACK](https://www.caam.rice.edu/software/ARPACK/) which implements iterative eigenvalue and singular value solvers for sparse matrices.\n",
    "\n",
    "There are also a bunch of pure Julia implementations available in\n",
    "\n",
    "* [ArnoldiMethod.jl](https://github.com/haampie/ArnoldiMethod.jl)\n",
    "* [KrylovKit.jl](https://github.com/Jutho/KrylovKit.jl)\n",
    "* [IterativeSolvers.jl](https://github.com/JuliaMath/IterativeSolvers.jl)\n",
    "\n",
    "Let us use the ArnoldiMethod.jl package."
   ]
  },
  {
   "cell_type": "code",
   "execution_count": 46,
   "metadata": {},
   "outputs": [
    {
     "data": {
      "text/plain": [
       "eigen_sparse (generic function with 1 method)"
      ]
     },
     "execution_count": 46,
     "metadata": {},
     "output_type": "execute_result"
    }
   ],
   "source": [
    "using ArnoldiMethod\n",
    "\n",
    "function eigen_sparse(x)\n",
    "    decomp, history = partialschur(x, nev=1, which=SR()); # only solve for the ground state\n",
    "    vals, vecs = partialeigen(decomp);\n",
    "    return vals, vecs\n",
    "end"
   ]
  },
  {
   "cell_type": "markdown",
   "metadata": {},
   "source": [
    "Solving for the ground state takes less than a minute on an i5 desktop machine."
   ]
  },
  {
   "cell_type": "code",
   "execution_count": 47,
   "metadata": {},
   "outputs": [
    {
     "name": "stdout",
     "output_type": "stream",
     "text": [
      " 45.682012 seconds (52.47 k allocations: 1.315 GiB, 0.78% gc time)\n"
     ]
    },
    {
     "data": {
      "text/plain": [
       "([-27.6537], [-0.131298; -0.0658092; … ; -0.0658092; -0.131298])"
      ]
     },
     "execution_count": 47,
     "metadata": {},
     "output_type": "execute_result"
    }
   ],
   "source": [
    "@time vals, vecs = eigen_sparse(H)"
   ]
  },
  {
   "cell_type": "markdown",
   "metadata": {},
   "source": [
    "Voila. There we have the ground state energy and the ground state wave function for a $N=20$ chain of quantum spins!"
   ]
  },
  {
   "cell_type": "code",
   "execution_count": 38,
   "metadata": {},
   "outputs": [
    {
     "data": {
      "text/plain": [
       "1048576-element Array{Float64,1}:\n",
       " -0.14916142700621093 \n",
       " -0.07480019465780907 \n",
       " -0.04680670288849741 \n",
       " -0.05648765085646125 \n",
       " -0.04331037774796717 \n",
       " -0.025019354910246077\n",
       " -0.030717723336679485\n",
       " -0.04758869732398544 \n",
       " -0.04222143981919191 \n",
       " -0.022038589093061226\n",
       " -0.014930347462201279\n",
       " -0.019814691861532244\n",
       " -0.026479636346283756\n",
       "  ⋮                   \n",
       " -0.01981469086655054 \n",
       " -0.014930347383241036\n",
       " -0.022038589081610726\n",
       " -0.04222144100165106 \n",
       " -0.04758869377128955 \n",
       " -0.030717722442931472\n",
       " -0.02501935440177531 \n",
       " -0.043310378520214673\n",
       " -0.05648764857849333 \n",
       " -0.04680670309756741 \n",
       " -0.07480019510415355 \n",
       " -0.14916143184163233 "
      ]
     },
     "execution_count": 38,
     "metadata": {},
     "output_type": "execute_result"
    }
   ],
   "source": [
    "groundstate = vecs[:,1]"
   ]
  },
  {
   "cell_type": "markdown",
   "metadata": {},
   "source": [
    "### Magnetization once again"
   ]
  },
  {
   "cell_type": "markdown",
   "metadata": {},
   "source": [
    "To measure the magnetization, we could use our function `magnetization(state, basis)` from above. However, the way we wrote it above, it depends on an explicit list of basis states which we do not want to construct for a large system explicitly.\n",
    "\n",
    "Let's rewrite the function slightly such that bit representations of our basis states are calculated on the fly."
   ]
  },
  {
   "cell_type": "code",
   "execution_count": 39,
   "metadata": {},
   "outputs": [
    {
     "data": {
      "text/plain": [
       "magnetization (generic function with 2 methods)"
      ]
     },
     "execution_count": 39,
     "metadata": {},
     "output_type": "execute_result"
    }
   ],
   "source": [
    "function magnetization(state)\n",
    "    N = Int(log2(length(state)))\n",
    "    M = 0.\n",
    "    for i in 1:length(state)\n",
    "        bstate = bit_rep(i-1,N)\n",
    "        bstate_M = 0.\n",
    "        for spin in bstate\n",
    "            bstate_M += (state[i]^2 * (spin ? 1 : -1))/N\n",
    "        end\n",
    "        @assert abs(bstate_M) <= 1\n",
    "        M += abs(bstate_M)\n",
    "    end\n",
    "    return M\n",
    "end"
   ]
  },
  {
   "cell_type": "code",
   "execution_count": 40,
   "metadata": {},
   "outputs": [
    {
     "data": {
      "text/plain": [
       "0.08169578623984544"
      ]
     },
     "execution_count": 40,
     "metadata": {},
     "output_type": "execute_result"
    }
   ],
   "source": [
    "magnetization(groundstate, basis)"
   ]
  },
  {
   "cell_type": "markdown",
   "metadata": {},
   "source": [
    "We are now able to recreate our magnetization vs magnetic field strength plotincluding larger systems (takes about 3 minutes on this i5 Desktop machine)."
   ]
  },
  {
   "cell_type": "code",
   "execution_count": 41,
   "metadata": {},
   "outputs": [
    {
     "name": "stdout",
     "output_type": "stream",
     "text": [
      "[0.9999, 0.999228, 0.994111, 0.959187, 0.820255, 0.643561, 0.553551, 0.519342, 0.506956, 0.5025]\n",
      "[0.999969, 0.999757, 0.998091, 0.983463, 0.830993, 0.517856, 0.418746, 0.389914, 0.380267, 0.376881]\n",
      "[0.999975, 0.999806, 0.998495, 0.987923, 0.861409, 0.444473, 0.349674, 0.324999, 0.316897, 0.314069]\n",
      "[0.999978, 0.999831, 0.998684, 0.989526, 0.88554, 0.394698, 0.306229, 0.284401, 0.277288, 0.274811]\n",
      "[0.99998, 0.999845, 0.998797, 0.99044, 0.900862, 0.358218, 0.275738, 0.255974, 0.249561, 0.24733]\n",
      "[0.999981, 0.999855, 0.998872, 0.991047, 0.910222, 0.330096, 0.252836, 0.23465, 0.228765, 0.226719]\n",
      "[0.999982, 0.999862, 0.998926, 0.991479, 0.916192, 0.307612, 0.234825, 0.217894, 0.212425, 0.210525]\n",
      "[0.999983, 0.999867, 0.998966, 0.991804, 0.920281, 0.289126, 0.220182, 0.204279, 0.199149, 0.197367]\n",
      "[0.999983, 0.999871, 0.998998, 0.992057, 0.92328, 0.273591, 0.207974, 0.192933, 0.188086, 0.186402]\n",
      "[0.999984, 0.999874, 0.999023, 0.992259, 0.925601, 0.260303, 0.197594, 0.183288, 0.178682, 0.177082]\n",
      "161.010009 seconds (85.18 M allocations: 149.296 GiB, 27.56% gc time)\n"
     ]
    },
    {
     "data": {
      "image/svg+xml": [
       "<?xml version=\"1.0\" encoding=\"utf-8\"?>\n",
       "<svg xmlns=\"http://www.w3.org/2000/svg\" xmlns:xlink=\"http://www.w3.org/1999/xlink\" width=\"600\" height=\"400\" viewBox=\"0 0 2400 1600\">\n",
       "<defs>\n",
       "  <clipPath id=\"clip0900\">\n",
       "    <rect x=\"0\" y=\"0\" width=\"2400\" height=\"1600\"/>\n",
       "  </clipPath>\n",
       "</defs>\n",
       "<polygon clip-path=\"url(#clip0900)\" points=\"\n",
       "0,1600 2400,1600 2400,0 0,0 \n",
       "  \" fill=\"#ffffff\" fill-rule=\"evenodd\" fill-opacity=\"1\"/>\n",
       "<defs>\n",
       "  <clipPath id=\"clip0901\">\n",
       "    <rect x=\"480\" y=\"0\" width=\"1681\" height=\"1600\"/>\n",
       "  </clipPath>\n",
       "</defs>\n",
       "<polygon clip-path=\"url(#clip0900)\" points=\"\n",
       "215.754,1425.62 2352.76,1425.62 2352.76,47.2441 215.754,47.2441 \n",
       "  \" fill=\"#ffffff\" fill-rule=\"evenodd\" fill-opacity=\"1\"/>\n",
       "<defs>\n",
       "  <clipPath id=\"clip0902\">\n",
       "    <rect x=\"215\" y=\"47\" width=\"2138\" height=\"1379\"/>\n",
       "  </clipPath>\n",
       "</defs>\n",
       "<polyline clip-path=\"url(#clip0902)\" style=\"stroke:#000000; stroke-width:2; stroke-opacity:0.1; fill:none\" points=\"\n",
       "  276.235,1425.62 276.235,47.2441 \n",
       "  \"/>\n",
       "<polyline clip-path=\"url(#clip0902)\" style=\"stroke:#000000; stroke-width:2; stroke-opacity:0.1; fill:none\" points=\"\n",
       "  780.245,1425.62 780.245,47.2441 \n",
       "  \"/>\n",
       "<polyline clip-path=\"url(#clip0902)\" style=\"stroke:#000000; stroke-width:2; stroke-opacity:0.1; fill:none\" points=\"\n",
       "  1284.25,1425.62 1284.25,47.2441 \n",
       "  \"/>\n",
       "<polyline clip-path=\"url(#clip0902)\" style=\"stroke:#000000; stroke-width:2; stroke-opacity:0.1; fill:none\" points=\"\n",
       "  1788.26,1425.62 1788.26,47.2441 \n",
       "  \"/>\n",
       "<polyline clip-path=\"url(#clip0902)\" style=\"stroke:#000000; stroke-width:2; stroke-opacity:0.1; fill:none\" points=\"\n",
       "  2292.27,1425.62 2292.27,47.2441 \n",
       "  \"/>\n",
       "<polyline clip-path=\"url(#clip0902)\" style=\"stroke:#000000; stroke-width:2; stroke-opacity:0.1; fill:none\" points=\"\n",
       "  215.754,1350.39 2352.76,1350.39 \n",
       "  \"/>\n",
       "<polyline clip-path=\"url(#clip0902)\" style=\"stroke:#000000; stroke-width:2; stroke-opacity:0.1; fill:none\" points=\"\n",
       "  215.754,1034.35 2352.76,1034.35 \n",
       "  \"/>\n",
       "<polyline clip-path=\"url(#clip0902)\" style=\"stroke:#000000; stroke-width:2; stroke-opacity:0.1; fill:none\" points=\"\n",
       "  215.754,718.311 2352.76,718.311 \n",
       "  \"/>\n",
       "<polyline clip-path=\"url(#clip0902)\" style=\"stroke:#000000; stroke-width:2; stroke-opacity:0.1; fill:none\" points=\"\n",
       "  215.754,402.27 2352.76,402.27 \n",
       "  \"/>\n",
       "<polyline clip-path=\"url(#clip0902)\" style=\"stroke:#000000; stroke-width:2; stroke-opacity:0.1; fill:none\" points=\"\n",
       "  215.754,86.229 2352.76,86.229 \n",
       "  \"/>\n",
       "<polyline clip-path=\"url(#clip0900)\" style=\"stroke:#000000; stroke-width:4; stroke-opacity:1; fill:none\" points=\"\n",
       "  215.754,1425.62 2352.76,1425.62 \n",
       "  \"/>\n",
       "<polyline clip-path=\"url(#clip0900)\" style=\"stroke:#000000; stroke-width:4; stroke-opacity:1; fill:none\" points=\"\n",
       "  215.754,1425.62 215.754,47.2441 \n",
       "  \"/>\n",
       "<polyline clip-path=\"url(#clip0900)\" style=\"stroke:#000000; stroke-width:4; stroke-opacity:1; fill:none\" points=\"\n",
       "  276.235,1425.62 276.235,1404.94 \n",
       "  \"/>\n",
       "<polyline clip-path=\"url(#clip0900)\" style=\"stroke:#000000; stroke-width:4; stroke-opacity:1; fill:none\" points=\"\n",
       "  780.245,1425.62 780.245,1404.94 \n",
       "  \"/>\n",
       "<polyline clip-path=\"url(#clip0900)\" style=\"stroke:#000000; stroke-width:4; stroke-opacity:1; fill:none\" points=\"\n",
       "  1284.25,1425.62 1284.25,1404.94 \n",
       "  \"/>\n",
       "<polyline clip-path=\"url(#clip0900)\" style=\"stroke:#000000; stroke-width:4; stroke-opacity:1; fill:none\" points=\"\n",
       "  1788.26,1425.62 1788.26,1404.94 \n",
       "  \"/>\n",
       "<polyline clip-path=\"url(#clip0900)\" style=\"stroke:#000000; stroke-width:4; stroke-opacity:1; fill:none\" points=\"\n",
       "  2292.27,1425.62 2292.27,1404.94 \n",
       "  \"/>\n",
       "<polyline clip-path=\"url(#clip0900)\" style=\"stroke:#000000; stroke-width:4; stroke-opacity:1; fill:none\" points=\"\n",
       "  215.754,1350.39 247.809,1350.39 \n",
       "  \"/>\n",
       "<polyline clip-path=\"url(#clip0900)\" style=\"stroke:#000000; stroke-width:4; stroke-opacity:1; fill:none\" points=\"\n",
       "  215.754,1034.35 247.809,1034.35 \n",
       "  \"/>\n",
       "<polyline clip-path=\"url(#clip0900)\" style=\"stroke:#000000; stroke-width:4; stroke-opacity:1; fill:none\" points=\"\n",
       "  215.754,718.311 247.809,718.311 \n",
       "  \"/>\n",
       "<polyline clip-path=\"url(#clip0900)\" style=\"stroke:#000000; stroke-width:4; stroke-opacity:1; fill:none\" points=\"\n",
       "  215.754,402.27 247.809,402.27 \n",
       "  \"/>\n",
       "<polyline clip-path=\"url(#clip0900)\" style=\"stroke:#000000; stroke-width:4; stroke-opacity:1; fill:none\" points=\"\n",
       "  215.754,86.229 247.809,86.229 \n",
       "  \"/>\n",
       "<g clip-path=\"url(#clip0900)\">\n",
       "<text style=\"fill:#000000; fill-opacity:1; font-family:Arial,Helvetica Neue,Helvetica,sans-serif; font-size:48px; text-anchor:start;\" transform=\"rotate(0, 221.745, 1500.63)\" x=\"221.745\" y=\"1500.63\">10</text>\n",
       "</g>\n",
       "<g clip-path=\"url(#clip0900)\">\n",
       "<text style=\"fill:#000000; fill-opacity:1; font-family:Arial,Helvetica Neue,Helvetica,sans-serif; font-size:38px; text-anchor:start;\" transform=\"rotate(0, 275.27, 1473.22)\" x=\"275.27\" y=\"1473.22\">-</text>\n",
       "</g>\n",
       "<g clip-path=\"url(#clip0900)\">\n",
       "<text style=\"fill:#000000; fill-opacity:1; font-family:Arial,Helvetica Neue,Helvetica,sans-serif; font-size:38px; text-anchor:start;\" transform=\"rotate(0, 298.109, 1473.22)\" x=\"298.109\" y=\"1473.22\">2 </text>\n",
       "</g>\n",
       "<g clip-path=\"url(#clip0900)\">\n",
       "<text style=\"fill:#000000; fill-opacity:1; font-family:Arial,Helvetica Neue,Helvetica,sans-serif; font-size:48px; text-anchor:start;\" transform=\"rotate(0, 725.755, 1500.63)\" x=\"725.755\" y=\"1500.63\">10</text>\n",
       "</g>\n",
       "<g clip-path=\"url(#clip0900)\">\n",
       "<text style=\"fill:#000000; fill-opacity:1; font-family:Arial,Helvetica Neue,Helvetica,sans-serif; font-size:38px; text-anchor:start;\" transform=\"rotate(0, 779.279, 1473.22)\" x=\"779.279\" y=\"1473.22\">-</text>\n",
       "</g>\n",
       "<g clip-path=\"url(#clip0900)\">\n",
       "<text style=\"fill:#000000; fill-opacity:1; font-family:Arial,Helvetica Neue,Helvetica,sans-serif; font-size:38px; text-anchor:start;\" transform=\"rotate(0, 802.119, 1473.22)\" x=\"802.119\" y=\"1473.22\">1 </text>\n",
       "</g>\n",
       "<g clip-path=\"url(#clip0900)\">\n",
       "<text style=\"fill:#000000; fill-opacity:1; font-family:Arial,Helvetica Neue,Helvetica,sans-serif; font-size:48px; text-anchor:start;\" transform=\"rotate(0, 1241.18, 1500.63)\" x=\"1241.18\" y=\"1500.63\">10</text>\n",
       "</g>\n",
       "<g clip-path=\"url(#clip0900)\">\n",
       "<text style=\"fill:#000000; fill-opacity:1; font-family:Arial,Helvetica Neue,Helvetica,sans-serif; font-size:38px; text-anchor:start;\" transform=\"rotate(0, 1294.71, 1473.22)\" x=\"1294.71\" y=\"1473.22\">0 </text>\n",
       "</g>\n",
       "<g clip-path=\"url(#clip0900)\">\n",
       "<text style=\"fill:#000000; fill-opacity:1; font-family:Arial,Helvetica Neue,Helvetica,sans-serif; font-size:48px; text-anchor:start;\" transform=\"rotate(0, 1745.19, 1500.63)\" x=\"1745.19\" y=\"1500.63\">10</text>\n",
       "</g>\n",
       "<g clip-path=\"url(#clip0900)\">\n",
       "<text style=\"fill:#000000; fill-opacity:1; font-family:Arial,Helvetica Neue,Helvetica,sans-serif; font-size:38px; text-anchor:start;\" transform=\"rotate(0, 1798.72, 1473.22)\" x=\"1798.72\" y=\"1473.22\">1 </text>\n",
       "</g>\n",
       "<g clip-path=\"url(#clip0900)\">\n",
       "<text style=\"fill:#000000; fill-opacity:1; font-family:Arial,Helvetica Neue,Helvetica,sans-serif; font-size:48px; text-anchor:start;\" transform=\"rotate(0, 2249.2, 1500.63)\" x=\"2249.2\" y=\"1500.63\">10</text>\n",
       "</g>\n",
       "<g clip-path=\"url(#clip0900)\">\n",
       "<text style=\"fill:#000000; fill-opacity:1; font-family:Arial,Helvetica Neue,Helvetica,sans-serif; font-size:38px; text-anchor:start;\" transform=\"rotate(0, 2302.73, 1473.22)\" x=\"2302.73\" y=\"1473.22\">2 </text>\n",
       "</g>\n",
       "<g clip-path=\"url(#clip0900)\">\n",
       "<text style=\"fill:#000000; fill-opacity:1; font-family:Arial,Helvetica Neue,Helvetica,sans-serif; font-size:48px; text-anchor:end;\" transform=\"rotate(0, 191.754, 1367.89)\" x=\"191.754\" y=\"1367.89\">0.2</text>\n",
       "</g>\n",
       "<g clip-path=\"url(#clip0900)\">\n",
       "<text style=\"fill:#000000; fill-opacity:1; font-family:Arial,Helvetica Neue,Helvetica,sans-serif; font-size:48px; text-anchor:end;\" transform=\"rotate(0, 191.754, 1051.85)\" x=\"191.754\" y=\"1051.85\">0.4</text>\n",
       "</g>\n",
       "<g clip-path=\"url(#clip0900)\">\n",
       "<text style=\"fill:#000000; fill-opacity:1; font-family:Arial,Helvetica Neue,Helvetica,sans-serif; font-size:48px; text-anchor:end;\" transform=\"rotate(0, 191.754, 735.811)\" x=\"191.754\" y=\"735.811\">0.6</text>\n",
       "</g>\n",
       "<g clip-path=\"url(#clip0900)\">\n",
       "<text style=\"fill:#000000; fill-opacity:1; font-family:Arial,Helvetica Neue,Helvetica,sans-serif; font-size:48px; text-anchor:end;\" transform=\"rotate(0, 191.754, 419.77)\" x=\"191.754\" y=\"419.77\">0.8</text>\n",
       "</g>\n",
       "<g clip-path=\"url(#clip0900)\">\n",
       "<text style=\"fill:#000000; fill-opacity:1; font-family:Arial,Helvetica Neue,Helvetica,sans-serif; font-size:48px; text-anchor:end;\" transform=\"rotate(0, 191.754, 103.729)\" x=\"191.754\" y=\"103.729\">1.0</text>\n",
       "</g>\n",
       "<g clip-path=\"url(#clip0900)\">\n",
       "<text style=\"fill:#000000; fill-opacity:1; font-family:Arial,Helvetica Neue,Helvetica,sans-serif; font-size:66px; text-anchor:middle;\" transform=\"rotate(0, 1284.25, 1559.48)\" x=\"1284.25\" y=\"1559.48\">h</text>\n",
       "</g>\n",
       "<g clip-path=\"url(#clip0900)\">\n",
       "<text style=\"fill:#000000; fill-opacity:1; font-family:Arial,Helvetica Neue,Helvetica,sans-serif; font-size:66px; text-anchor:middle;\" transform=\"rotate(-90, 89.2861, 736.431)\" x=\"89.2861\" y=\"736.431\">M(h)</text>\n",
       "</g>\n",
       "<polyline clip-path=\"url(#clip0902)\" style=\"stroke:#009af9; stroke-width:4; stroke-opacity:1; fill:none\" points=\"\n",
       "  276.235,86.387 500.24,87.4497 724.244,95.5351 948.248,150.722 1172.25,370.264 1396.26,649.476 1620.26,791.71 1844.27,845.767 2068.27,865.34 2292.27,872.381 \n",
       "  \n",
       "  \"/>\n",
       "<circle clip-path=\"url(#clip0902)\" style=\"fill:#000000; stroke:none; fill-opacity:1\" cx=\"276.235\" cy=\"86.387\" r=\"18\"/>\n",
       "<circle clip-path=\"url(#clip0902)\" style=\"fill:#009af9; stroke:none; fill-opacity:1\" cx=\"276.235\" cy=\"86.387\" r=\"14\"/>\n",
       "<circle clip-path=\"url(#clip0902)\" style=\"fill:#000000; stroke:none; fill-opacity:1\" cx=\"500.24\" cy=\"87.4497\" r=\"18\"/>\n",
       "<circle clip-path=\"url(#clip0902)\" style=\"fill:#009af9; stroke:none; fill-opacity:1\" cx=\"500.24\" cy=\"87.4497\" r=\"14\"/>\n",
       "<circle clip-path=\"url(#clip0902)\" style=\"fill:#000000; stroke:none; fill-opacity:1\" cx=\"724.244\" cy=\"95.5351\" r=\"18\"/>\n",
       "<circle clip-path=\"url(#clip0902)\" style=\"fill:#009af9; stroke:none; fill-opacity:1\" cx=\"724.244\" cy=\"95.5351\" r=\"14\"/>\n",
       "<circle clip-path=\"url(#clip0902)\" style=\"fill:#000000; stroke:none; fill-opacity:1\" cx=\"948.248\" cy=\"150.722\" r=\"18\"/>\n",
       "<circle clip-path=\"url(#clip0902)\" style=\"fill:#009af9; stroke:none; fill-opacity:1\" cx=\"948.248\" cy=\"150.722\" r=\"14\"/>\n",
       "<circle clip-path=\"url(#clip0902)\" style=\"fill:#000000; stroke:none; fill-opacity:1\" cx=\"1172.25\" cy=\"370.264\" r=\"18\"/>\n",
       "<circle clip-path=\"url(#clip0902)\" style=\"fill:#009af9; stroke:none; fill-opacity:1\" cx=\"1172.25\" cy=\"370.264\" r=\"14\"/>\n",
       "<circle clip-path=\"url(#clip0902)\" style=\"fill:#000000; stroke:none; fill-opacity:1\" cx=\"1396.26\" cy=\"649.476\" r=\"18\"/>\n",
       "<circle clip-path=\"url(#clip0902)\" style=\"fill:#009af9; stroke:none; fill-opacity:1\" cx=\"1396.26\" cy=\"649.476\" r=\"14\"/>\n",
       "<circle clip-path=\"url(#clip0902)\" style=\"fill:#000000; stroke:none; fill-opacity:1\" cx=\"1620.26\" cy=\"791.71\" r=\"18\"/>\n",
       "<circle clip-path=\"url(#clip0902)\" style=\"fill:#009af9; stroke:none; fill-opacity:1\" cx=\"1620.26\" cy=\"791.71\" r=\"14\"/>\n",
       "<circle clip-path=\"url(#clip0902)\" style=\"fill:#000000; stroke:none; fill-opacity:1\" cx=\"1844.27\" cy=\"845.767\" r=\"18\"/>\n",
       "<circle clip-path=\"url(#clip0902)\" style=\"fill:#009af9; stroke:none; fill-opacity:1\" cx=\"1844.27\" cy=\"845.767\" r=\"14\"/>\n",
       "<circle clip-path=\"url(#clip0902)\" style=\"fill:#000000; stroke:none; fill-opacity:1\" cx=\"2068.27\" cy=\"865.34\" r=\"18\"/>\n",
       "<circle clip-path=\"url(#clip0902)\" style=\"fill:#009af9; stroke:none; fill-opacity:1\" cx=\"2068.27\" cy=\"865.34\" r=\"14\"/>\n",
       "<circle clip-path=\"url(#clip0902)\" style=\"fill:#000000; stroke:none; fill-opacity:1\" cx=\"2292.27\" cy=\"872.381\" r=\"18\"/>\n",
       "<circle clip-path=\"url(#clip0902)\" style=\"fill:#009af9; stroke:none; fill-opacity:1\" cx=\"2292.27\" cy=\"872.381\" r=\"14\"/>\n",
       "<polyline clip-path=\"url(#clip0902)\" style=\"stroke:#e26f46; stroke-width:4; stroke-opacity:1; fill:none\" points=\"\n",
       "  276.235,86.2784 500.24,86.6123 724.244,89.2462 948.248,112.362 1172.25,353.295 1396.26,848.115 1620.26,1004.73 1844.27,1050.29 2068.27,1065.53 2292.27,1070.88 \n",
       "  \n",
       "  \"/>\n",
       "<circle clip-path=\"url(#clip0902)\" style=\"fill:#000000; stroke:none; fill-opacity:1\" cx=\"276.235\" cy=\"86.2784\" r=\"18\"/>\n",
       "<circle clip-path=\"url(#clip0902)\" style=\"fill:#e26f46; stroke:none; fill-opacity:1\" cx=\"276.235\" cy=\"86.2784\" r=\"14\"/>\n",
       "<circle clip-path=\"url(#clip0902)\" style=\"fill:#000000; stroke:none; fill-opacity:1\" cx=\"500.24\" cy=\"86.6123\" r=\"18\"/>\n",
       "<circle clip-path=\"url(#clip0902)\" style=\"fill:#e26f46; stroke:none; fill-opacity:1\" cx=\"500.24\" cy=\"86.6123\" r=\"14\"/>\n",
       "<circle clip-path=\"url(#clip0902)\" style=\"fill:#000000; stroke:none; fill-opacity:1\" cx=\"724.244\" cy=\"89.2462\" r=\"18\"/>\n",
       "<circle clip-path=\"url(#clip0902)\" style=\"fill:#e26f46; stroke:none; fill-opacity:1\" cx=\"724.244\" cy=\"89.2462\" r=\"14\"/>\n",
       "<circle clip-path=\"url(#clip0902)\" style=\"fill:#000000; stroke:none; fill-opacity:1\" cx=\"948.248\" cy=\"112.362\" r=\"18\"/>\n",
       "<circle clip-path=\"url(#clip0902)\" style=\"fill:#e26f46; stroke:none; fill-opacity:1\" cx=\"948.248\" cy=\"112.362\" r=\"14\"/>\n",
       "<circle clip-path=\"url(#clip0902)\" style=\"fill:#000000; stroke:none; fill-opacity:1\" cx=\"1172.25\" cy=\"353.295\" r=\"18\"/>\n",
       "<circle clip-path=\"url(#clip0902)\" style=\"fill:#e26f46; stroke:none; fill-opacity:1\" cx=\"1172.25\" cy=\"353.295\" r=\"14\"/>\n",
       "<circle clip-path=\"url(#clip0902)\" style=\"fill:#000000; stroke:none; fill-opacity:1\" cx=\"1396.26\" cy=\"848.115\" r=\"18\"/>\n",
       "<circle clip-path=\"url(#clip0902)\" style=\"fill:#e26f46; stroke:none; fill-opacity:1\" cx=\"1396.26\" cy=\"848.115\" r=\"14\"/>\n",
       "<circle clip-path=\"url(#clip0902)\" style=\"fill:#000000; stroke:none; fill-opacity:1\" cx=\"1620.26\" cy=\"1004.73\" r=\"18\"/>\n",
       "<circle clip-path=\"url(#clip0902)\" style=\"fill:#e26f46; stroke:none; fill-opacity:1\" cx=\"1620.26\" cy=\"1004.73\" r=\"14\"/>\n",
       "<circle clip-path=\"url(#clip0902)\" style=\"fill:#000000; stroke:none; fill-opacity:1\" cx=\"1844.27\" cy=\"1050.29\" r=\"18\"/>\n",
       "<circle clip-path=\"url(#clip0902)\" style=\"fill:#e26f46; stroke:none; fill-opacity:1\" cx=\"1844.27\" cy=\"1050.29\" r=\"14\"/>\n",
       "<circle clip-path=\"url(#clip0902)\" style=\"fill:#000000; stroke:none; fill-opacity:1\" cx=\"2068.27\" cy=\"1065.53\" r=\"18\"/>\n",
       "<circle clip-path=\"url(#clip0902)\" style=\"fill:#e26f46; stroke:none; fill-opacity:1\" cx=\"2068.27\" cy=\"1065.53\" r=\"14\"/>\n",
       "<circle clip-path=\"url(#clip0902)\" style=\"fill:#000000; stroke:none; fill-opacity:1\" cx=\"2292.27\" cy=\"1070.88\" r=\"18\"/>\n",
       "<circle clip-path=\"url(#clip0902)\" style=\"fill:#e26f46; stroke:none; fill-opacity:1\" cx=\"2292.27\" cy=\"1070.88\" r=\"14\"/>\n",
       "<polyline clip-path=\"url(#clip0902)\" style=\"stroke:#3da44d; stroke-width:4; stroke-opacity:1; fill:none\" points=\"\n",
       "  276.235,86.2685 500.24,86.535 724.244,88.6073 948.248,105.312 1172.25,305.231 1396.26,964.075 1620.26,1113.88 1844.27,1152.87 2068.27,1165.67 2292.27,1170.14 \n",
       "  \n",
       "  \"/>\n",
       "<circle clip-path=\"url(#clip0902)\" style=\"fill:#000000; stroke:none; fill-opacity:1\" cx=\"276.235\" cy=\"86.2685\" r=\"18\"/>\n",
       "<circle clip-path=\"url(#clip0902)\" style=\"fill:#3da44d; stroke:none; fill-opacity:1\" cx=\"276.235\" cy=\"86.2685\" r=\"14\"/>\n",
       "<circle clip-path=\"url(#clip0902)\" style=\"fill:#000000; stroke:none; fill-opacity:1\" cx=\"500.24\" cy=\"86.535\" r=\"18\"/>\n",
       "<circle clip-path=\"url(#clip0902)\" style=\"fill:#3da44d; stroke:none; fill-opacity:1\" cx=\"500.24\" cy=\"86.535\" r=\"14\"/>\n",
       "<circle clip-path=\"url(#clip0902)\" style=\"fill:#000000; stroke:none; fill-opacity:1\" cx=\"724.244\" cy=\"88.6073\" r=\"18\"/>\n",
       "<circle clip-path=\"url(#clip0902)\" style=\"fill:#3da44d; stroke:none; fill-opacity:1\" cx=\"724.244\" cy=\"88.6073\" r=\"14\"/>\n",
       "<circle clip-path=\"url(#clip0902)\" style=\"fill:#000000; stroke:none; fill-opacity:1\" cx=\"948.248\" cy=\"105.312\" r=\"18\"/>\n",
       "<circle clip-path=\"url(#clip0902)\" style=\"fill:#3da44d; stroke:none; fill-opacity:1\" cx=\"948.248\" cy=\"105.312\" r=\"14\"/>\n",
       "<circle clip-path=\"url(#clip0902)\" style=\"fill:#000000; stroke:none; fill-opacity:1\" cx=\"1172.25\" cy=\"305.231\" r=\"18\"/>\n",
       "<circle clip-path=\"url(#clip0902)\" style=\"fill:#3da44d; stroke:none; fill-opacity:1\" cx=\"1172.25\" cy=\"305.231\" r=\"14\"/>\n",
       "<circle clip-path=\"url(#clip0902)\" style=\"fill:#000000; stroke:none; fill-opacity:1\" cx=\"1396.26\" cy=\"964.075\" r=\"18\"/>\n",
       "<circle clip-path=\"url(#clip0902)\" style=\"fill:#3da44d; stroke:none; fill-opacity:1\" cx=\"1396.26\" cy=\"964.075\" r=\"14\"/>\n",
       "<circle clip-path=\"url(#clip0902)\" style=\"fill:#000000; stroke:none; fill-opacity:1\" cx=\"1620.26\" cy=\"1113.88\" r=\"18\"/>\n",
       "<circle clip-path=\"url(#clip0902)\" style=\"fill:#3da44d; stroke:none; fill-opacity:1\" cx=\"1620.26\" cy=\"1113.88\" r=\"14\"/>\n",
       "<circle clip-path=\"url(#clip0902)\" style=\"fill:#000000; stroke:none; fill-opacity:1\" cx=\"1844.27\" cy=\"1152.87\" r=\"18\"/>\n",
       "<circle clip-path=\"url(#clip0902)\" style=\"fill:#3da44d; stroke:none; fill-opacity:1\" cx=\"1844.27\" cy=\"1152.87\" r=\"14\"/>\n",
       "<circle clip-path=\"url(#clip0902)\" style=\"fill:#000000; stroke:none; fill-opacity:1\" cx=\"2068.27\" cy=\"1165.67\" r=\"18\"/>\n",
       "<circle clip-path=\"url(#clip0902)\" style=\"fill:#3da44d; stroke:none; fill-opacity:1\" cx=\"2068.27\" cy=\"1165.67\" r=\"14\"/>\n",
       "<circle clip-path=\"url(#clip0902)\" style=\"fill:#000000; stroke:none; fill-opacity:1\" cx=\"2292.27\" cy=\"1170.14\" r=\"18\"/>\n",
       "<circle clip-path=\"url(#clip0902)\" style=\"fill:#3da44d; stroke:none; fill-opacity:1\" cx=\"2292.27\" cy=\"1170.14\" r=\"14\"/>\n",
       "<polyline clip-path=\"url(#clip0902)\" style=\"stroke:#c271d2; stroke-width:4; stroke-opacity:1; fill:none\" points=\"\n",
       "  276.235,86.2636 500.24,86.4968 724.244,88.3093 948.248,102.779 1172.25,267.099 1396.26,1042.73 1620.26,1182.53 1844.27,1217.02 2068.27,1228.26 2292.27,1232.18 \n",
       "  \n",
       "  \"/>\n",
       "<circle clip-path=\"url(#clip0902)\" style=\"fill:#000000; stroke:none; fill-opacity:1\" cx=\"276.235\" cy=\"86.2636\" r=\"18\"/>\n",
       "<circle clip-path=\"url(#clip0902)\" style=\"fill:#c271d2; stroke:none; fill-opacity:1\" cx=\"276.235\" cy=\"86.2636\" r=\"14\"/>\n",
       "<circle clip-path=\"url(#clip0902)\" style=\"fill:#000000; stroke:none; fill-opacity:1\" cx=\"500.24\" cy=\"86.4968\" r=\"18\"/>\n",
       "<circle clip-path=\"url(#clip0902)\" style=\"fill:#c271d2; stroke:none; fill-opacity:1\" cx=\"500.24\" cy=\"86.4968\" r=\"14\"/>\n",
       "<circle clip-path=\"url(#clip0902)\" style=\"fill:#000000; stroke:none; fill-opacity:1\" cx=\"724.244\" cy=\"88.3093\" r=\"18\"/>\n",
       "<circle clip-path=\"url(#clip0902)\" style=\"fill:#c271d2; stroke:none; fill-opacity:1\" cx=\"724.244\" cy=\"88.3093\" r=\"14\"/>\n",
       "<circle clip-path=\"url(#clip0902)\" style=\"fill:#000000; stroke:none; fill-opacity:1\" cx=\"948.248\" cy=\"102.779\" r=\"18\"/>\n",
       "<circle clip-path=\"url(#clip0902)\" style=\"fill:#c271d2; stroke:none; fill-opacity:1\" cx=\"948.248\" cy=\"102.779\" r=\"14\"/>\n",
       "<circle clip-path=\"url(#clip0902)\" style=\"fill:#000000; stroke:none; fill-opacity:1\" cx=\"1172.25\" cy=\"267.099\" r=\"18\"/>\n",
       "<circle clip-path=\"url(#clip0902)\" style=\"fill:#c271d2; stroke:none; fill-opacity:1\" cx=\"1172.25\" cy=\"267.099\" r=\"14\"/>\n",
       "<circle clip-path=\"url(#clip0902)\" style=\"fill:#000000; stroke:none; fill-opacity:1\" cx=\"1396.26\" cy=\"1042.73\" r=\"18\"/>\n",
       "<circle clip-path=\"url(#clip0902)\" style=\"fill:#c271d2; stroke:none; fill-opacity:1\" cx=\"1396.26\" cy=\"1042.73\" r=\"14\"/>\n",
       "<circle clip-path=\"url(#clip0902)\" style=\"fill:#000000; stroke:none; fill-opacity:1\" cx=\"1620.26\" cy=\"1182.53\" r=\"18\"/>\n",
       "<circle clip-path=\"url(#clip0902)\" style=\"fill:#c271d2; stroke:none; fill-opacity:1\" cx=\"1620.26\" cy=\"1182.53\" r=\"14\"/>\n",
       "<circle clip-path=\"url(#clip0902)\" style=\"fill:#000000; stroke:none; fill-opacity:1\" cx=\"1844.27\" cy=\"1217.02\" r=\"18\"/>\n",
       "<circle clip-path=\"url(#clip0902)\" style=\"fill:#c271d2; stroke:none; fill-opacity:1\" cx=\"1844.27\" cy=\"1217.02\" r=\"14\"/>\n",
       "<circle clip-path=\"url(#clip0902)\" style=\"fill:#000000; stroke:none; fill-opacity:1\" cx=\"2068.27\" cy=\"1228.26\" r=\"18\"/>\n",
       "<circle clip-path=\"url(#clip0902)\" style=\"fill:#c271d2; stroke:none; fill-opacity:1\" cx=\"2068.27\" cy=\"1228.26\" r=\"14\"/>\n",
       "<circle clip-path=\"url(#clip0902)\" style=\"fill:#000000; stroke:none; fill-opacity:1\" cx=\"2292.27\" cy=\"1232.18\" r=\"18\"/>\n",
       "<circle clip-path=\"url(#clip0902)\" style=\"fill:#c271d2; stroke:none; fill-opacity:1\" cx=\"2292.27\" cy=\"1232.18\" r=\"14\"/>\n",
       "<polyline clip-path=\"url(#clip0902)\" style=\"stroke:#ac8d18; stroke-width:4; stroke-opacity:1; fill:none\" points=\"\n",
       "  276.235,86.2606 500.24,86.4738 724.244,88.1307 948.248,101.335 1172.25,242.887 1396.26,1100.38 1620.26,1230.71 1844.27,1261.94 2068.27,1272.08 2292.27,1275.6 \n",
       "  \n",
       "  \"/>\n",
       "<circle clip-path=\"url(#clip0902)\" style=\"fill:#000000; stroke:none; fill-opacity:1\" cx=\"276.235\" cy=\"86.2606\" r=\"18\"/>\n",
       "<circle clip-path=\"url(#clip0902)\" style=\"fill:#ac8d18; stroke:none; fill-opacity:1\" cx=\"276.235\" cy=\"86.2606\" r=\"14\"/>\n",
       "<circle clip-path=\"url(#clip0902)\" style=\"fill:#000000; stroke:none; fill-opacity:1\" cx=\"500.24\" cy=\"86.4738\" r=\"18\"/>\n",
       "<circle clip-path=\"url(#clip0902)\" style=\"fill:#ac8d18; stroke:none; fill-opacity:1\" cx=\"500.24\" cy=\"86.4738\" r=\"14\"/>\n",
       "<circle clip-path=\"url(#clip0902)\" style=\"fill:#000000; stroke:none; fill-opacity:1\" cx=\"724.244\" cy=\"88.1307\" r=\"18\"/>\n",
       "<circle clip-path=\"url(#clip0902)\" style=\"fill:#ac8d18; stroke:none; fill-opacity:1\" cx=\"724.244\" cy=\"88.1307\" r=\"14\"/>\n",
       "<circle clip-path=\"url(#clip0902)\" style=\"fill:#000000; stroke:none; fill-opacity:1\" cx=\"948.248\" cy=\"101.335\" r=\"18\"/>\n",
       "<circle clip-path=\"url(#clip0902)\" style=\"fill:#ac8d18; stroke:none; fill-opacity:1\" cx=\"948.248\" cy=\"101.335\" r=\"14\"/>\n",
       "<circle clip-path=\"url(#clip0902)\" style=\"fill:#000000; stroke:none; fill-opacity:1\" cx=\"1172.25\" cy=\"242.887\" r=\"18\"/>\n",
       "<circle clip-path=\"url(#clip0902)\" style=\"fill:#ac8d18; stroke:none; fill-opacity:1\" cx=\"1172.25\" cy=\"242.887\" r=\"14\"/>\n",
       "<circle clip-path=\"url(#clip0902)\" style=\"fill:#000000; stroke:none; fill-opacity:1\" cx=\"1396.26\" cy=\"1100.38\" r=\"18\"/>\n",
       "<circle clip-path=\"url(#clip0902)\" style=\"fill:#ac8d18; stroke:none; fill-opacity:1\" cx=\"1396.26\" cy=\"1100.38\" r=\"14\"/>\n",
       "<circle clip-path=\"url(#clip0902)\" style=\"fill:#000000; stroke:none; fill-opacity:1\" cx=\"1620.26\" cy=\"1230.71\" r=\"18\"/>\n",
       "<circle clip-path=\"url(#clip0902)\" style=\"fill:#ac8d18; stroke:none; fill-opacity:1\" cx=\"1620.26\" cy=\"1230.71\" r=\"14\"/>\n",
       "<circle clip-path=\"url(#clip0902)\" style=\"fill:#000000; stroke:none; fill-opacity:1\" cx=\"1844.27\" cy=\"1261.94\" r=\"18\"/>\n",
       "<circle clip-path=\"url(#clip0902)\" style=\"fill:#ac8d18; stroke:none; fill-opacity:1\" cx=\"1844.27\" cy=\"1261.94\" r=\"14\"/>\n",
       "<circle clip-path=\"url(#clip0902)\" style=\"fill:#000000; stroke:none; fill-opacity:1\" cx=\"2068.27\" cy=\"1272.08\" r=\"18\"/>\n",
       "<circle clip-path=\"url(#clip0902)\" style=\"fill:#ac8d18; stroke:none; fill-opacity:1\" cx=\"2068.27\" cy=\"1272.08\" r=\"14\"/>\n",
       "<circle clip-path=\"url(#clip0902)\" style=\"fill:#000000; stroke:none; fill-opacity:1\" cx=\"2292.27\" cy=\"1275.6\" r=\"18\"/>\n",
       "<circle clip-path=\"url(#clip0902)\" style=\"fill:#ac8d18; stroke:none; fill-opacity:1\" cx=\"2292.27\" cy=\"1275.6\" r=\"14\"/>\n",
       "<polyline clip-path=\"url(#clip0902)\" style=\"stroke:#00a9ad; stroke-width:4; stroke-opacity:1; fill:none\" points=\"\n",
       "  276.235,86.2586 500.24,86.4585 724.244,88.0116 948.248,100.377 1172.25,228.097 1396.26,1144.81 1620.26,1266.9 1844.27,1295.64 2068.27,1304.94 2292.27,1308.17 \n",
       "  \n",
       "  \"/>\n",
       "<circle clip-path=\"url(#clip0902)\" style=\"fill:#000000; stroke:none; fill-opacity:1\" cx=\"276.235\" cy=\"86.2586\" r=\"18\"/>\n",
       "<circle clip-path=\"url(#clip0902)\" style=\"fill:#00a9ad; stroke:none; fill-opacity:1\" cx=\"276.235\" cy=\"86.2586\" r=\"14\"/>\n",
       "<circle clip-path=\"url(#clip0902)\" style=\"fill:#000000; stroke:none; fill-opacity:1\" cx=\"500.24\" cy=\"86.4585\" r=\"18\"/>\n",
       "<circle clip-path=\"url(#clip0902)\" style=\"fill:#00a9ad; stroke:none; fill-opacity:1\" cx=\"500.24\" cy=\"86.4585\" r=\"14\"/>\n",
       "<circle clip-path=\"url(#clip0902)\" style=\"fill:#000000; stroke:none; fill-opacity:1\" cx=\"724.244\" cy=\"88.0116\" r=\"18\"/>\n",
       "<circle clip-path=\"url(#clip0902)\" style=\"fill:#00a9ad; stroke:none; fill-opacity:1\" cx=\"724.244\" cy=\"88.0116\" r=\"14\"/>\n",
       "<circle clip-path=\"url(#clip0902)\" style=\"fill:#000000; stroke:none; fill-opacity:1\" cx=\"948.248\" cy=\"100.377\" r=\"18\"/>\n",
       "<circle clip-path=\"url(#clip0902)\" style=\"fill:#00a9ad; stroke:none; fill-opacity:1\" cx=\"948.248\" cy=\"100.377\" r=\"14\"/>\n",
       "<circle clip-path=\"url(#clip0902)\" style=\"fill:#000000; stroke:none; fill-opacity:1\" cx=\"1172.25\" cy=\"228.097\" r=\"18\"/>\n",
       "<circle clip-path=\"url(#clip0902)\" style=\"fill:#00a9ad; stroke:none; fill-opacity:1\" cx=\"1172.25\" cy=\"228.097\" r=\"14\"/>\n",
       "<circle clip-path=\"url(#clip0902)\" style=\"fill:#000000; stroke:none; fill-opacity:1\" cx=\"1396.26\" cy=\"1144.81\" r=\"18\"/>\n",
       "<circle clip-path=\"url(#clip0902)\" style=\"fill:#00a9ad; stroke:none; fill-opacity:1\" cx=\"1396.26\" cy=\"1144.81\" r=\"14\"/>\n",
       "<circle clip-path=\"url(#clip0902)\" style=\"fill:#000000; stroke:none; fill-opacity:1\" cx=\"1620.26\" cy=\"1266.9\" r=\"18\"/>\n",
       "<circle clip-path=\"url(#clip0902)\" style=\"fill:#00a9ad; stroke:none; fill-opacity:1\" cx=\"1620.26\" cy=\"1266.9\" r=\"14\"/>\n",
       "<circle clip-path=\"url(#clip0902)\" style=\"fill:#000000; stroke:none; fill-opacity:1\" cx=\"1844.27\" cy=\"1295.64\" r=\"18\"/>\n",
       "<circle clip-path=\"url(#clip0902)\" style=\"fill:#00a9ad; stroke:none; fill-opacity:1\" cx=\"1844.27\" cy=\"1295.64\" r=\"14\"/>\n",
       "<circle clip-path=\"url(#clip0902)\" style=\"fill:#000000; stroke:none; fill-opacity:1\" cx=\"2068.27\" cy=\"1304.94\" r=\"18\"/>\n",
       "<circle clip-path=\"url(#clip0902)\" style=\"fill:#00a9ad; stroke:none; fill-opacity:1\" cx=\"2068.27\" cy=\"1304.94\" r=\"14\"/>\n",
       "<circle clip-path=\"url(#clip0902)\" style=\"fill:#000000; stroke:none; fill-opacity:1\" cx=\"2292.27\" cy=\"1308.17\" r=\"18\"/>\n",
       "<circle clip-path=\"url(#clip0902)\" style=\"fill:#00a9ad; stroke:none; fill-opacity:1\" cx=\"2292.27\" cy=\"1308.17\" r=\"14\"/>\n",
       "<polyline clip-path=\"url(#clip0902)\" style=\"stroke:#ed5d92; stroke-width:4; stroke-opacity:1; fill:none\" points=\"\n",
       "  276.235,86.2572 500.24,86.4476 724.244,87.9266 948.248,99.6932 1172.25,218.663 1396.26,1180.34 1620.26,1295.36 1844.27,1322.12 2068.27,1330.76 2292.27,1333.76 \n",
       "  \n",
       "  \"/>\n",
       "<circle clip-path=\"url(#clip0902)\" style=\"fill:#000000; stroke:none; fill-opacity:1\" cx=\"276.235\" cy=\"86.2572\" r=\"18\"/>\n",
       "<circle clip-path=\"url(#clip0902)\" style=\"fill:#ed5d92; stroke:none; fill-opacity:1\" cx=\"276.235\" cy=\"86.2572\" r=\"14\"/>\n",
       "<circle clip-path=\"url(#clip0902)\" style=\"fill:#000000; stroke:none; fill-opacity:1\" cx=\"500.24\" cy=\"86.4476\" r=\"18\"/>\n",
       "<circle clip-path=\"url(#clip0902)\" style=\"fill:#ed5d92; stroke:none; fill-opacity:1\" cx=\"500.24\" cy=\"86.4476\" r=\"14\"/>\n",
       "<circle clip-path=\"url(#clip0902)\" style=\"fill:#000000; stroke:none; fill-opacity:1\" cx=\"724.244\" cy=\"87.9266\" r=\"18\"/>\n",
       "<circle clip-path=\"url(#clip0902)\" style=\"fill:#ed5d92; stroke:none; fill-opacity:1\" cx=\"724.244\" cy=\"87.9266\" r=\"14\"/>\n",
       "<circle clip-path=\"url(#clip0902)\" style=\"fill:#000000; stroke:none; fill-opacity:1\" cx=\"948.248\" cy=\"99.6932\" r=\"18\"/>\n",
       "<circle clip-path=\"url(#clip0902)\" style=\"fill:#ed5d92; stroke:none; fill-opacity:1\" cx=\"948.248\" cy=\"99.6932\" r=\"14\"/>\n",
       "<circle clip-path=\"url(#clip0902)\" style=\"fill:#000000; stroke:none; fill-opacity:1\" cx=\"1172.25\" cy=\"218.663\" r=\"18\"/>\n",
       "<circle clip-path=\"url(#clip0902)\" style=\"fill:#ed5d92; stroke:none; fill-opacity:1\" cx=\"1172.25\" cy=\"218.663\" r=\"14\"/>\n",
       "<circle clip-path=\"url(#clip0902)\" style=\"fill:#000000; stroke:none; fill-opacity:1\" cx=\"1396.26\" cy=\"1180.34\" r=\"18\"/>\n",
       "<circle clip-path=\"url(#clip0902)\" style=\"fill:#ed5d92; stroke:none; fill-opacity:1\" cx=\"1396.26\" cy=\"1180.34\" r=\"14\"/>\n",
       "<circle clip-path=\"url(#clip0902)\" style=\"fill:#000000; stroke:none; fill-opacity:1\" cx=\"1620.26\" cy=\"1295.36\" r=\"18\"/>\n",
       "<circle clip-path=\"url(#clip0902)\" style=\"fill:#ed5d92; stroke:none; fill-opacity:1\" cx=\"1620.26\" cy=\"1295.36\" r=\"14\"/>\n",
       "<circle clip-path=\"url(#clip0902)\" style=\"fill:#000000; stroke:none; fill-opacity:1\" cx=\"1844.27\" cy=\"1322.12\" r=\"18\"/>\n",
       "<circle clip-path=\"url(#clip0902)\" style=\"fill:#ed5d92; stroke:none; fill-opacity:1\" cx=\"1844.27\" cy=\"1322.12\" r=\"14\"/>\n",
       "<circle clip-path=\"url(#clip0902)\" style=\"fill:#000000; stroke:none; fill-opacity:1\" cx=\"2068.27\" cy=\"1330.76\" r=\"18\"/>\n",
       "<circle clip-path=\"url(#clip0902)\" style=\"fill:#ed5d92; stroke:none; fill-opacity:1\" cx=\"2068.27\" cy=\"1330.76\" r=\"14\"/>\n",
       "<circle clip-path=\"url(#clip0902)\" style=\"fill:#000000; stroke:none; fill-opacity:1\" cx=\"2292.27\" cy=\"1333.76\" r=\"18\"/>\n",
       "<circle clip-path=\"url(#clip0902)\" style=\"fill:#ed5d92; stroke:none; fill-opacity:1\" cx=\"2292.27\" cy=\"1333.76\" r=\"14\"/>\n",
       "<polyline clip-path=\"url(#clip0902)\" style=\"stroke:#c68125; stroke-width:4; stroke-opacity:1; fill:none\" points=\"\n",
       "  276.235,86.2562 500.24,86.4394 724.244,87.8628 948.248,99.1802 1172.25,212.202 1396.26,1209.56 1620.26,1318.5 1844.27,1343.63 2068.27,1351.74 2292.27,1354.55 \n",
       "  \n",
       "  \"/>\n",
       "<circle clip-path=\"url(#clip0902)\" style=\"fill:#000000; stroke:none; fill-opacity:1\" cx=\"276.235\" cy=\"86.2562\" r=\"18\"/>\n",
       "<circle clip-path=\"url(#clip0902)\" style=\"fill:#c68125; stroke:none; fill-opacity:1\" cx=\"276.235\" cy=\"86.2562\" r=\"14\"/>\n",
       "<circle clip-path=\"url(#clip0902)\" style=\"fill:#000000; stroke:none; fill-opacity:1\" cx=\"500.24\" cy=\"86.4394\" r=\"18\"/>\n",
       "<circle clip-path=\"url(#clip0902)\" style=\"fill:#c68125; stroke:none; fill-opacity:1\" cx=\"500.24\" cy=\"86.4394\" r=\"14\"/>\n",
       "<circle clip-path=\"url(#clip0902)\" style=\"fill:#000000; stroke:none; fill-opacity:1\" cx=\"724.244\" cy=\"87.8628\" r=\"18\"/>\n",
       "<circle clip-path=\"url(#clip0902)\" style=\"fill:#c68125; stroke:none; fill-opacity:1\" cx=\"724.244\" cy=\"87.8628\" r=\"14\"/>\n",
       "<circle clip-path=\"url(#clip0902)\" style=\"fill:#000000; stroke:none; fill-opacity:1\" cx=\"948.248\" cy=\"99.1802\" r=\"18\"/>\n",
       "<circle clip-path=\"url(#clip0902)\" style=\"fill:#c68125; stroke:none; fill-opacity:1\" cx=\"948.248\" cy=\"99.1802\" r=\"14\"/>\n",
       "<circle clip-path=\"url(#clip0902)\" style=\"fill:#000000; stroke:none; fill-opacity:1\" cx=\"1172.25\" cy=\"212.202\" r=\"18\"/>\n",
       "<circle clip-path=\"url(#clip0902)\" style=\"fill:#c68125; stroke:none; fill-opacity:1\" cx=\"1172.25\" cy=\"212.202\" r=\"14\"/>\n",
       "<circle clip-path=\"url(#clip0902)\" style=\"fill:#000000; stroke:none; fill-opacity:1\" cx=\"1396.26\" cy=\"1209.56\" r=\"18\"/>\n",
       "<circle clip-path=\"url(#clip0902)\" style=\"fill:#c68125; stroke:none; fill-opacity:1\" cx=\"1396.26\" cy=\"1209.56\" r=\"14\"/>\n",
       "<circle clip-path=\"url(#clip0902)\" style=\"fill:#000000; stroke:none; fill-opacity:1\" cx=\"1620.26\" cy=\"1318.5\" r=\"18\"/>\n",
       "<circle clip-path=\"url(#clip0902)\" style=\"fill:#c68125; stroke:none; fill-opacity:1\" cx=\"1620.26\" cy=\"1318.5\" r=\"14\"/>\n",
       "<circle clip-path=\"url(#clip0902)\" style=\"fill:#000000; stroke:none; fill-opacity:1\" cx=\"1844.27\" cy=\"1343.63\" r=\"18\"/>\n",
       "<circle clip-path=\"url(#clip0902)\" style=\"fill:#c68125; stroke:none; fill-opacity:1\" cx=\"1844.27\" cy=\"1343.63\" r=\"14\"/>\n",
       "<circle clip-path=\"url(#clip0902)\" style=\"fill:#000000; stroke:none; fill-opacity:1\" cx=\"2068.27\" cy=\"1351.74\" r=\"18\"/>\n",
       "<circle clip-path=\"url(#clip0902)\" style=\"fill:#c68125; stroke:none; fill-opacity:1\" cx=\"2068.27\" cy=\"1351.74\" r=\"14\"/>\n",
       "<circle clip-path=\"url(#clip0902)\" style=\"fill:#000000; stroke:none; fill-opacity:1\" cx=\"2292.27\" cy=\"1354.55\" r=\"18\"/>\n",
       "<circle clip-path=\"url(#clip0902)\" style=\"fill:#c68125; stroke:none; fill-opacity:1\" cx=\"2292.27\" cy=\"1354.55\" r=\"14\"/>\n",
       "<polyline clip-path=\"url(#clip0902)\" style=\"stroke:#00a98d; stroke-width:4; stroke-opacity:1; fill:none\" points=\"\n",
       "  276.235,86.2554 500.24,86.433 724.244,87.8132 948.248,98.7812 1172.25,207.462 1396.26,1234.1 1620.26,1337.79 1844.27,1361.56 2068.27,1369.22 2292.27,1371.88 \n",
       "  \n",
       "  \"/>\n",
       "<circle clip-path=\"url(#clip0902)\" style=\"fill:#000000; stroke:none; fill-opacity:1\" cx=\"276.235\" cy=\"86.2554\" r=\"18\"/>\n",
       "<circle clip-path=\"url(#clip0902)\" style=\"fill:#00a98d; stroke:none; fill-opacity:1\" cx=\"276.235\" cy=\"86.2554\" r=\"14\"/>\n",
       "<circle clip-path=\"url(#clip0902)\" style=\"fill:#000000; stroke:none; fill-opacity:1\" cx=\"500.24\" cy=\"86.433\" r=\"18\"/>\n",
       "<circle clip-path=\"url(#clip0902)\" style=\"fill:#00a98d; stroke:none; fill-opacity:1\" cx=\"500.24\" cy=\"86.433\" r=\"14\"/>\n",
       "<circle clip-path=\"url(#clip0902)\" style=\"fill:#000000; stroke:none; fill-opacity:1\" cx=\"724.244\" cy=\"87.8132\" r=\"18\"/>\n",
       "<circle clip-path=\"url(#clip0902)\" style=\"fill:#00a98d; stroke:none; fill-opacity:1\" cx=\"724.244\" cy=\"87.8132\" r=\"14\"/>\n",
       "<circle clip-path=\"url(#clip0902)\" style=\"fill:#000000; stroke:none; fill-opacity:1\" cx=\"948.248\" cy=\"98.7812\" r=\"18\"/>\n",
       "<circle clip-path=\"url(#clip0902)\" style=\"fill:#00a98d; stroke:none; fill-opacity:1\" cx=\"948.248\" cy=\"98.7812\" r=\"14\"/>\n",
       "<circle clip-path=\"url(#clip0902)\" style=\"fill:#000000; stroke:none; fill-opacity:1\" cx=\"1172.25\" cy=\"207.462\" r=\"18\"/>\n",
       "<circle clip-path=\"url(#clip0902)\" style=\"fill:#00a98d; stroke:none; fill-opacity:1\" cx=\"1172.25\" cy=\"207.462\" r=\"14\"/>\n",
       "<circle clip-path=\"url(#clip0902)\" style=\"fill:#000000; stroke:none; fill-opacity:1\" cx=\"1396.26\" cy=\"1234.1\" r=\"18\"/>\n",
       "<circle clip-path=\"url(#clip0902)\" style=\"fill:#00a98d; stroke:none; fill-opacity:1\" cx=\"1396.26\" cy=\"1234.1\" r=\"14\"/>\n",
       "<circle clip-path=\"url(#clip0902)\" style=\"fill:#000000; stroke:none; fill-opacity:1\" cx=\"1620.26\" cy=\"1337.79\" r=\"18\"/>\n",
       "<circle clip-path=\"url(#clip0902)\" style=\"fill:#00a98d; stroke:none; fill-opacity:1\" cx=\"1620.26\" cy=\"1337.79\" r=\"14\"/>\n",
       "<circle clip-path=\"url(#clip0902)\" style=\"fill:#000000; stroke:none; fill-opacity:1\" cx=\"1844.27\" cy=\"1361.56\" r=\"18\"/>\n",
       "<circle clip-path=\"url(#clip0902)\" style=\"fill:#00a98d; stroke:none; fill-opacity:1\" cx=\"1844.27\" cy=\"1361.56\" r=\"14\"/>\n",
       "<circle clip-path=\"url(#clip0902)\" style=\"fill:#000000; stroke:none; fill-opacity:1\" cx=\"2068.27\" cy=\"1369.22\" r=\"18\"/>\n",
       "<circle clip-path=\"url(#clip0902)\" style=\"fill:#00a98d; stroke:none; fill-opacity:1\" cx=\"2068.27\" cy=\"1369.22\" r=\"14\"/>\n",
       "<circle clip-path=\"url(#clip0902)\" style=\"fill:#000000; stroke:none; fill-opacity:1\" cx=\"2292.27\" cy=\"1371.88\" r=\"18\"/>\n",
       "<circle clip-path=\"url(#clip0902)\" style=\"fill:#00a98d; stroke:none; fill-opacity:1\" cx=\"2292.27\" cy=\"1371.88\" r=\"14\"/>\n",
       "<polyline clip-path=\"url(#clip0902)\" style=\"stroke:#8e971d; stroke-width:4; stroke-opacity:1; fill:none\" points=\"\n",
       "  276.235,86.2547 500.24,86.4279 724.244,87.7735 948.248,98.462 1172.25,203.794 1396.26,1255.1 1620.26,1354.2 1844.27,1376.8 2068.27,1384.08 2292.27,1386.61 \n",
       "  \n",
       "  \"/>\n",
       "<circle clip-path=\"url(#clip0902)\" style=\"fill:#000000; stroke:none; fill-opacity:1\" cx=\"276.235\" cy=\"86.2547\" r=\"18\"/>\n",
       "<circle clip-path=\"url(#clip0902)\" style=\"fill:#8e971d; stroke:none; fill-opacity:1\" cx=\"276.235\" cy=\"86.2547\" r=\"14\"/>\n",
       "<circle clip-path=\"url(#clip0902)\" style=\"fill:#000000; stroke:none; fill-opacity:1\" cx=\"500.24\" cy=\"86.4279\" r=\"18\"/>\n",
       "<circle clip-path=\"url(#clip0902)\" style=\"fill:#8e971d; stroke:none; fill-opacity:1\" cx=\"500.24\" cy=\"86.4279\" r=\"14\"/>\n",
       "<circle clip-path=\"url(#clip0902)\" style=\"fill:#000000; stroke:none; fill-opacity:1\" cx=\"724.244\" cy=\"87.7735\" r=\"18\"/>\n",
       "<circle clip-path=\"url(#clip0902)\" style=\"fill:#8e971d; stroke:none; fill-opacity:1\" cx=\"724.244\" cy=\"87.7735\" r=\"14\"/>\n",
       "<circle clip-path=\"url(#clip0902)\" style=\"fill:#000000; stroke:none; fill-opacity:1\" cx=\"948.248\" cy=\"98.462\" r=\"18\"/>\n",
       "<circle clip-path=\"url(#clip0902)\" style=\"fill:#8e971d; stroke:none; fill-opacity:1\" cx=\"948.248\" cy=\"98.462\" r=\"14\"/>\n",
       "<circle clip-path=\"url(#clip0902)\" style=\"fill:#000000; stroke:none; fill-opacity:1\" cx=\"1172.25\" cy=\"203.794\" r=\"18\"/>\n",
       "<circle clip-path=\"url(#clip0902)\" style=\"fill:#8e971d; stroke:none; fill-opacity:1\" cx=\"1172.25\" cy=\"203.794\" r=\"14\"/>\n",
       "<circle clip-path=\"url(#clip0902)\" style=\"fill:#000000; stroke:none; fill-opacity:1\" cx=\"1396.26\" cy=\"1255.1\" r=\"18\"/>\n",
       "<circle clip-path=\"url(#clip0902)\" style=\"fill:#8e971d; stroke:none; fill-opacity:1\" cx=\"1396.26\" cy=\"1255.1\" r=\"14\"/>\n",
       "<circle clip-path=\"url(#clip0902)\" style=\"fill:#000000; stroke:none; fill-opacity:1\" cx=\"1620.26\" cy=\"1354.2\" r=\"18\"/>\n",
       "<circle clip-path=\"url(#clip0902)\" style=\"fill:#8e971d; stroke:none; fill-opacity:1\" cx=\"1620.26\" cy=\"1354.2\" r=\"14\"/>\n",
       "<circle clip-path=\"url(#clip0902)\" style=\"fill:#000000; stroke:none; fill-opacity:1\" cx=\"1844.27\" cy=\"1376.8\" r=\"18\"/>\n",
       "<circle clip-path=\"url(#clip0902)\" style=\"fill:#8e971d; stroke:none; fill-opacity:1\" cx=\"1844.27\" cy=\"1376.8\" r=\"14\"/>\n",
       "<circle clip-path=\"url(#clip0902)\" style=\"fill:#000000; stroke:none; fill-opacity:1\" cx=\"2068.27\" cy=\"1384.08\" r=\"18\"/>\n",
       "<circle clip-path=\"url(#clip0902)\" style=\"fill:#8e971d; stroke:none; fill-opacity:1\" cx=\"2068.27\" cy=\"1384.08\" r=\"14\"/>\n",
       "<circle clip-path=\"url(#clip0902)\" style=\"fill:#000000; stroke:none; fill-opacity:1\" cx=\"2292.27\" cy=\"1386.61\" r=\"18\"/>\n",
       "<circle clip-path=\"url(#clip0902)\" style=\"fill:#8e971d; stroke:none; fill-opacity:1\" cx=\"2292.27\" cy=\"1386.61\" r=\"14\"/>\n",
       "<polygon clip-path=\"url(#clip0900)\" points=\"\n",
       "1897.61,796.044 2280.76,796.044 2280.76,130.764 1897.61,130.764 \n",
       "  \" fill=\"#ffffff\" fill-rule=\"evenodd\" fill-opacity=\"1\"/>\n",
       "<polyline clip-path=\"url(#clip0900)\" style=\"stroke:#000000; stroke-width:4; stroke-opacity:1; fill:none\" points=\"\n",
       "  1897.61,796.044 2280.76,796.044 2280.76,130.764 1897.61,130.764 1897.61,796.044 \n",
       "  \"/>\n",
       "<polyline clip-path=\"url(#clip0900)\" style=\"stroke:#009af9; stroke-width:4; stroke-opacity:1; fill:none\" points=\"\n",
       "  1921.61,191.244 2065.61,191.244 \n",
       "  \"/>\n",
       "<circle clip-path=\"url(#clip0900)\" style=\"fill:#000000; stroke:none; fill-opacity:1\" cx=\"2005.61\" cy=\"191.244\" r=\"25\"/>\n",
       "<circle clip-path=\"url(#clip0900)\" style=\"fill:#009af9; stroke:none; fill-opacity:1\" cx=\"2005.61\" cy=\"191.244\" r=\"21\"/>\n",
       "<g clip-path=\"url(#clip0900)\">\n",
       "<text style=\"fill:#000000; fill-opacity:1; font-family:Arial,Helvetica Neue,Helvetica,sans-serif; font-size:48px; text-anchor:start;\" transform=\"rotate(0, 2089.61, 208.744)\" x=\"2089.61\" y=\"208.744\">N = 2</text>\n",
       "</g>\n",
       "<polyline clip-path=\"url(#clip0900)\" style=\"stroke:#e26f46; stroke-width:4; stroke-opacity:1; fill:none\" points=\"\n",
       "  1921.61,251.724 2065.61,251.724 \n",
       "  \"/>\n",
       "<circle clip-path=\"url(#clip0900)\" style=\"fill:#000000; stroke:none; fill-opacity:1\" cx=\"2005.61\" cy=\"251.724\" r=\"25\"/>\n",
       "<circle clip-path=\"url(#clip0900)\" style=\"fill:#e26f46; stroke:none; fill-opacity:1\" cx=\"2005.61\" cy=\"251.724\" r=\"21\"/>\n",
       "<g clip-path=\"url(#clip0900)\">\n",
       "<text style=\"fill:#000000; fill-opacity:1; font-family:Arial,Helvetica Neue,Helvetica,sans-serif; font-size:48px; text-anchor:start;\" transform=\"rotate(0, 2089.61, 269.224)\" x=\"2089.61\" y=\"269.224\">N = 4</text>\n",
       "</g>\n",
       "<polyline clip-path=\"url(#clip0900)\" style=\"stroke:#3da44d; stroke-width:4; stroke-opacity:1; fill:none\" points=\"\n",
       "  1921.61,312.204 2065.61,312.204 \n",
       "  \"/>\n",
       "<circle clip-path=\"url(#clip0900)\" style=\"fill:#000000; stroke:none; fill-opacity:1\" cx=\"2005.61\" cy=\"312.204\" r=\"25\"/>\n",
       "<circle clip-path=\"url(#clip0900)\" style=\"fill:#3da44d; stroke:none; fill-opacity:1\" cx=\"2005.61\" cy=\"312.204\" r=\"21\"/>\n",
       "<g clip-path=\"url(#clip0900)\">\n",
       "<text style=\"fill:#000000; fill-opacity:1; font-family:Arial,Helvetica Neue,Helvetica,sans-serif; font-size:48px; text-anchor:start;\" transform=\"rotate(0, 2089.61, 329.704)\" x=\"2089.61\" y=\"329.704\">N = 6</text>\n",
       "</g>\n",
       "<polyline clip-path=\"url(#clip0900)\" style=\"stroke:#c271d2; stroke-width:4; stroke-opacity:1; fill:none\" points=\"\n",
       "  1921.61,372.684 2065.61,372.684 \n",
       "  \"/>\n",
       "<circle clip-path=\"url(#clip0900)\" style=\"fill:#000000; stroke:none; fill-opacity:1\" cx=\"2005.61\" cy=\"372.684\" r=\"25\"/>\n",
       "<circle clip-path=\"url(#clip0900)\" style=\"fill:#c271d2; stroke:none; fill-opacity:1\" cx=\"2005.61\" cy=\"372.684\" r=\"21\"/>\n",
       "<g clip-path=\"url(#clip0900)\">\n",
       "<text style=\"fill:#000000; fill-opacity:1; font-family:Arial,Helvetica Neue,Helvetica,sans-serif; font-size:48px; text-anchor:start;\" transform=\"rotate(0, 2089.61, 390.184)\" x=\"2089.61\" y=\"390.184\">N = 8</text>\n",
       "</g>\n",
       "<polyline clip-path=\"url(#clip0900)\" style=\"stroke:#ac8d18; stroke-width:4; stroke-opacity:1; fill:none\" points=\"\n",
       "  1921.61,433.164 2065.61,433.164 \n",
       "  \"/>\n",
       "<circle clip-path=\"url(#clip0900)\" style=\"fill:#000000; stroke:none; fill-opacity:1\" cx=\"2005.61\" cy=\"433.164\" r=\"25\"/>\n",
       "<circle clip-path=\"url(#clip0900)\" style=\"fill:#ac8d18; stroke:none; fill-opacity:1\" cx=\"2005.61\" cy=\"433.164\" r=\"21\"/>\n",
       "<g clip-path=\"url(#clip0900)\">\n",
       "<text style=\"fill:#000000; fill-opacity:1; font-family:Arial,Helvetica Neue,Helvetica,sans-serif; font-size:48px; text-anchor:start;\" transform=\"rotate(0, 2089.61, 450.664)\" x=\"2089.61\" y=\"450.664\">N = 10</text>\n",
       "</g>\n",
       "<polyline clip-path=\"url(#clip0900)\" style=\"stroke:#00a9ad; stroke-width:4; stroke-opacity:1; fill:none\" points=\"\n",
       "  1921.61,493.644 2065.61,493.644 \n",
       "  \"/>\n",
       "<circle clip-path=\"url(#clip0900)\" style=\"fill:#000000; stroke:none; fill-opacity:1\" cx=\"2005.61\" cy=\"493.644\" r=\"25\"/>\n",
       "<circle clip-path=\"url(#clip0900)\" style=\"fill:#00a9ad; stroke:none; fill-opacity:1\" cx=\"2005.61\" cy=\"493.644\" r=\"21\"/>\n",
       "<g clip-path=\"url(#clip0900)\">\n",
       "<text style=\"fill:#000000; fill-opacity:1; font-family:Arial,Helvetica Neue,Helvetica,sans-serif; font-size:48px; text-anchor:start;\" transform=\"rotate(0, 2089.61, 511.144)\" x=\"2089.61\" y=\"511.144\">N = 12</text>\n",
       "</g>\n",
       "<polyline clip-path=\"url(#clip0900)\" style=\"stroke:#ed5d92; stroke-width:4; stroke-opacity:1; fill:none\" points=\"\n",
       "  1921.61,554.124 2065.61,554.124 \n",
       "  \"/>\n",
       "<circle clip-path=\"url(#clip0900)\" style=\"fill:#000000; stroke:none; fill-opacity:1\" cx=\"2005.61\" cy=\"554.124\" r=\"25\"/>\n",
       "<circle clip-path=\"url(#clip0900)\" style=\"fill:#ed5d92; stroke:none; fill-opacity:1\" cx=\"2005.61\" cy=\"554.124\" r=\"21\"/>\n",
       "<g clip-path=\"url(#clip0900)\">\n",
       "<text style=\"fill:#000000; fill-opacity:1; font-family:Arial,Helvetica Neue,Helvetica,sans-serif; font-size:48px; text-anchor:start;\" transform=\"rotate(0, 2089.61, 571.624)\" x=\"2089.61\" y=\"571.624\">N = 14</text>\n",
       "</g>\n",
       "<polyline clip-path=\"url(#clip0900)\" style=\"stroke:#c68125; stroke-width:4; stroke-opacity:1; fill:none\" points=\"\n",
       "  1921.61,614.604 2065.61,614.604 \n",
       "  \"/>\n",
       "<circle clip-path=\"url(#clip0900)\" style=\"fill:#000000; stroke:none; fill-opacity:1\" cx=\"2005.61\" cy=\"614.604\" r=\"25\"/>\n",
       "<circle clip-path=\"url(#clip0900)\" style=\"fill:#c68125; stroke:none; fill-opacity:1\" cx=\"2005.61\" cy=\"614.604\" r=\"21\"/>\n",
       "<g clip-path=\"url(#clip0900)\">\n",
       "<text style=\"fill:#000000; fill-opacity:1; font-family:Arial,Helvetica Neue,Helvetica,sans-serif; font-size:48px; text-anchor:start;\" transform=\"rotate(0, 2089.61, 632.104)\" x=\"2089.61\" y=\"632.104\">N = 16</text>\n",
       "</g>\n",
       "<polyline clip-path=\"url(#clip0900)\" style=\"stroke:#00a98d; stroke-width:4; stroke-opacity:1; fill:none\" points=\"\n",
       "  1921.61,675.084 2065.61,675.084 \n",
       "  \"/>\n",
       "<circle clip-path=\"url(#clip0900)\" style=\"fill:#000000; stroke:none; fill-opacity:1\" cx=\"2005.61\" cy=\"675.084\" r=\"25\"/>\n",
       "<circle clip-path=\"url(#clip0900)\" style=\"fill:#00a98d; stroke:none; fill-opacity:1\" cx=\"2005.61\" cy=\"675.084\" r=\"21\"/>\n",
       "<g clip-path=\"url(#clip0900)\">\n",
       "<text style=\"fill:#000000; fill-opacity:1; font-family:Arial,Helvetica Neue,Helvetica,sans-serif; font-size:48px; text-anchor:start;\" transform=\"rotate(0, 2089.61, 692.584)\" x=\"2089.61\" y=\"692.584\">N = 18</text>\n",
       "</g>\n",
       "<polyline clip-path=\"url(#clip0900)\" style=\"stroke:#8e971d; stroke-width:4; stroke-opacity:1; fill:none\" points=\"\n",
       "  1921.61,735.564 2065.61,735.564 \n",
       "  \"/>\n",
       "<circle clip-path=\"url(#clip0900)\" style=\"fill:#000000; stroke:none; fill-opacity:1\" cx=\"2005.61\" cy=\"735.564\" r=\"25\"/>\n",
       "<circle clip-path=\"url(#clip0900)\" style=\"fill:#8e971d; stroke:none; fill-opacity:1\" cx=\"2005.61\" cy=\"735.564\" r=\"21\"/>\n",
       "<g clip-path=\"url(#clip0900)\">\n",
       "<text style=\"fill:#000000; fill-opacity:1; font-family:Arial,Helvetica Neue,Helvetica,sans-serif; font-size:48px; text-anchor:start;\" transform=\"rotate(0, 2089.61, 753.064)\" x=\"2089.61\" y=\"753.064\">N = 20</text>\n",
       "</g>\n",
       "</svg>\n"
      ]
     },
     "execution_count": 41,
     "metadata": {},
     "output_type": "execute_result"
    }
   ],
   "source": [
    "using Plots\n",
    "hs = 10 .^ range(-2., stop=2., length=10)\n",
    "Ns = 2:2:20\n",
    "p = plot()\n",
    "@time for N in Ns\n",
    "    M = zeros(length(hs))\n",
    "    for (i,h) in enumerate(hs)\n",
    "        H = TransverseFieldIsing_sparse(N=N, h=h)\n",
    "        vals, vecs = eigen_sparse(H)\n",
    "        groundstate = @view vecs[:,1]\n",
    "        M[i] = magnetization(groundstate)\n",
    "    end\n",
    "    plot!(p, hs, M, xscale=:log10, marker=:circle, label=\"N = $N\",\n",
    "        xlab=\"h\", ylab=\"M(h)\")\n",
    "    println(M)\n",
    "end\n",
    "p"
   ]
  }
 ],
 "metadata": {
  "@webio": {
   "lastCommId": null,
   "lastKernelId": null
  },
  "kernelspec": {
   "display_name": "Julia 1.1.0",
   "language": "julia",
   "name": "julia-1.1"
  },
  "language_info": {
   "file_extension": ".jl",
   "mimetype": "application/julia",
   "name": "julia",
   "version": "1.1.0"
  }
 },
 "nbformat": 4,
 "nbformat_minor": 4
}
